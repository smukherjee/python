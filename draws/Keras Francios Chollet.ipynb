{
 "cells": [
  {
   "cell_type": "code",
   "execution_count": 35,
   "metadata": {},
   "outputs": [],
   "source": [
    "from keras.datasets import mnist\n",
    "(train_images, train_labels), (test_images, test_labels) = mnist.load_data()"
   ]
  },
  {
   "cell_type": "code",
   "execution_count": 36,
   "metadata": {},
   "outputs": [
    {
     "data": {
      "text/plain": [
       "(60000, 28, 28)"
      ]
     },
     "execution_count": 36,
     "metadata": {},
     "output_type": "execute_result"
    }
   ],
   "source": [
    "train_images.shape"
   ]
  },
  {
   "cell_type": "code",
   "execution_count": 37,
   "metadata": {},
   "outputs": [
    {
     "data": {
      "text/plain": [
       "array([5, 0, 4, ..., 5, 6, 8], dtype=uint8)"
      ]
     },
     "execution_count": 37,
     "metadata": {},
     "output_type": "execute_result"
    }
   ],
   "source": [
    "train_labels"
   ]
  },
  {
   "cell_type": "code",
   "execution_count": 38,
   "metadata": {},
   "outputs": [
    {
     "data": {
      "text/plain": [
       "array([7, 2, 1, ..., 4, 5, 6], dtype=uint8)"
      ]
     },
     "execution_count": 38,
     "metadata": {},
     "output_type": "execute_result"
    }
   ],
   "source": [
    "test_labels"
   ]
  },
  {
   "cell_type": "code",
   "execution_count": 39,
   "metadata": {},
   "outputs": [
    {
     "data": {
      "text/plain": [
       "(10000, 28, 28)"
      ]
     },
     "execution_count": 39,
     "metadata": {},
     "output_type": "execute_result"
    }
   ],
   "source": [
    "test_images.shape"
   ]
  },
  {
   "cell_type": "code",
   "execution_count": 7,
   "metadata": {},
   "outputs": [],
   "source": [
    "from keras import models\n",
    "from keras import layers\n",
    "network = models.Sequential()\n",
    "network.add(layers.Dense(512, activation='relu', input_shape=(28 * 28,)))\n",
    "network.add(layers.Dense(10, activation='softmax'))"
   ]
  },
  {
   "cell_type": "code",
   "execution_count": 8,
   "metadata": {},
   "outputs": [],
   "source": [
    "network.compile(optimizer='rmsprop',\n",
    "loss='categorical_crossentropy',\n",
    "metrics=['accuracy'])"
   ]
  },
  {
   "cell_type": "code",
   "execution_count": 9,
   "metadata": {},
   "outputs": [],
   "source": [
    "train_images = train_images.reshape((60000, 28 * 28))\n",
    "train_images = train_images.astype('float32') / 255\n",
    "test_images = test_images.reshape((10000, 28 * 28))\n",
    "test_images = test_images.astype('float32') / 255"
   ]
  },
  {
   "cell_type": "code",
   "execution_count": 10,
   "metadata": {},
   "outputs": [],
   "source": [
    "from keras.utils import to_categorical\n",
    "train_labels = to_categorical(train_labels)\n",
    "test_labels = to_categorical(test_labels)"
   ]
  },
  {
   "cell_type": "code",
   "execution_count": 11,
   "metadata": {},
   "outputs": [
    {
     "name": "stdout",
     "output_type": "stream",
     "text": [
      "Epoch 1/5\n",
      "60000/60000 [==============================] - 3s 43us/step - loss: 0.2597 - accuracy: 0.9251\n",
      "Epoch 2/5\n",
      "60000/60000 [==============================] - 2s 41us/step - loss: 0.1050 - accuracy: 0.9689\n",
      "Epoch 3/5\n",
      "60000/60000 [==============================] - 2s 42us/step - loss: 0.0689 - accuracy: 0.9799\n",
      "Epoch 4/5\n",
      "60000/60000 [==============================] - 2s 41us/step - loss: 0.0499 - accuracy: 0.9852\n",
      "Epoch 5/5\n",
      "60000/60000 [==============================] - 2s 41us/step - loss: 0.0373 - accuracy: 0.9885\n"
     ]
    },
    {
     "data": {
      "text/plain": [
       "<keras.callbacks.callbacks.History at 0x7ff868426a58>"
      ]
     },
     "execution_count": 11,
     "metadata": {},
     "output_type": "execute_result"
    }
   ],
   "source": [
    "network.fit(train_images, train_labels, epochs=5, batch_size=128)"
   ]
  },
  {
   "cell_type": "code",
   "execution_count": 13,
   "metadata": {},
   "outputs": [
    {
     "name": "stdout",
     "output_type": "stream",
     "text": [
      "10000/10000 [==============================] - 0s 35us/step\n",
      "test_acc: 0.980400025844574\n"
     ]
    }
   ],
   "source": [
    "test_loss, test_acc = network.evaluate(test_images, test_labels)\n",
    "print('test_acc:', test_acc)"
   ]
  },
  {
   "cell_type": "code",
   "execution_count": 14,
   "metadata": {},
   "outputs": [],
   "source": [
    "import numpy as np"
   ]
  },
  {
   "cell_type": "code",
   "execution_count": 77,
   "metadata": {},
   "outputs": [
    {
     "data": {
      "text/plain": [
       "array(12)"
      ]
     },
     "execution_count": 77,
     "metadata": {},
     "output_type": "execute_result"
    }
   ],
   "source": [
    "x=np.array(12)\n",
    "x"
   ]
  },
  {
   "cell_type": "code",
   "execution_count": 78,
   "metadata": {},
   "outputs": [
    {
     "data": {
      "text/plain": [
       "()"
      ]
     },
     "execution_count": 78,
     "metadata": {},
     "output_type": "execute_result"
    }
   ],
   "source": [
    "x.ndim\n",
    "x.shape"
   ]
  },
  {
   "cell_type": "code",
   "execution_count": 82,
   "metadata": {},
   "outputs": [
    {
     "data": {
      "text/plain": [
       "(1, 5)"
      ]
     },
     "execution_count": 82,
     "metadata": {},
     "output_type": "execute_result"
    }
   ],
   "source": [
    "#This vector has five entries and so is called a 5-dimensional vector\n",
    "y= np.array([1,2,3,4,5])\n",
    "y.ndim\n",
    "y.shape"
   ]
  },
  {
   "cell_type": "code",
   "execution_count": 42,
   "metadata": {},
   "outputs": [
    {
     "data": {
      "text/plain": [
       "(3, 5)"
      ]
     },
     "execution_count": 42,
     "metadata": {},
     "output_type": "execute_result"
    }
   ],
   "source": [
    "#An array of vectors is a matrix, or 2D tensor. A matrix has two axes (often referred to rows and columns).\n",
    "x = np.array(\n",
    "    [[5, 78, 2, 34, 0],\n",
    "     [6, 79, 3, 35, 1],\n",
    "     [7, 80, 4, 36, 2]])\n",
    "x.ndim"
   ]
  },
  {
   "cell_type": "code",
   "execution_count": 25,
   "metadata": {},
   "outputs": [],
   "source": [
    "x = np.array( [[[5, 78, 2, 34, 0],\n",
    "                [6, 79, 3, 35, 1],\n",
    "                [7, 80, 4, 36, 2]],\n",
    "                [[5, 78, 2, 34, 0],\n",
    "                [6, 79, 3, 35, 1],\n",
    "                [7, 80, 4, 36, 2]],\n",
    "                [[5, 78, 2, 34, 0],\n",
    "                [6, 79, 3, 35, 1],\n",
    "                [7, 80, 4, 36, 2]]])"
   ]
  },
  {
   "cell_type": "code",
   "execution_count": 43,
   "metadata": {},
   "outputs": [
    {
     "data": {
      "text/plain": [
       "(3, 5)"
      ]
     },
     "execution_count": 43,
     "metadata": {},
     "output_type": "execute_result"
    }
   ],
   "source": [
    "x.ndim\n",
    "x.shape"
   ]
  },
  {
   "cell_type": "code",
   "execution_count": 29,
   "metadata": {},
   "outputs": [],
   "source": [
    "x = np.array( [[[[5, 78, 2, 34, 0],\n",
    "                [6, 79, 3, 35, 1],\n",
    "                [7, 80, 4, 36, 2]],\n",
    "                [[5, 78, 2, 34, 0],\n",
    "                [6, 79, 3, 35, 1],\n",
    "                [7, 80, 4, 36, 2]],\n",
    "                [[5, 78, 2, 34, 0],\n",
    "                [6, 79, 3, 35, 1],\n",
    "                [7, 80, 4, 36, 2]]]])"
   ]
  },
  {
   "cell_type": "code",
   "execution_count": 44,
   "metadata": {},
   "outputs": [
    {
     "data": {
      "text/plain": [
       "(3, 5)"
      ]
     },
     "execution_count": 44,
     "metadata": {},
     "output_type": "execute_result"
    }
   ],
   "source": [
    "x.ndim\n",
    "x.shape"
   ]
  },
  {
   "cell_type": "code",
   "execution_count": 31,
   "metadata": {},
   "outputs": [
    {
     "data": {
      "text/plain": [
       "array([[[[ 5, 78,  2, 34,  0],\n",
       "         [ 6, 79,  3, 35,  1],\n",
       "         [ 7, 80,  4, 36,  2]],\n",
       "\n",
       "        [[ 5, 78,  2, 34,  0],\n",
       "         [ 6, 79,  3, 35,  1],\n",
       "         [ 7, 80,  4, 36,  2]],\n",
       "\n",
       "        [[ 5, 78,  2, 34,  0],\n",
       "         [ 6, 79,  3, 35,  1],\n",
       "         [ 7, 80,  4, 36,  2]]]])"
      ]
     },
     "execution_count": 31,
     "metadata": {},
     "output_type": "execute_result"
    }
   ],
   "source": [
    "x"
   ]
  },
  {
   "cell_type": "code",
   "execution_count": 41,
   "metadata": {},
   "outputs": [
    {
     "data": {
      "image/png": "[encoded data removed]",
      "text/plain": [
       "<Figure size 432x288 with 1 Axes>"
      ]
     },
     "metadata": {
      "needs_background": "light"
     },
     "output_type": "display_data"
    }
   ],
   "source": [
    "digit = train_images[4]\n",
    "import matplotlib.pyplot as plt\n",
    "plt.imshow(digit, cmap=plt.cm.binary)\n",
    "plt.show()"
   ]
  },
  {
   "cell_type": "markdown",
   "metadata": {},
   "source": [
    "- Vector data—2D tensors of shape (samples, features)\n",
    "- Timeseries data or sequence data—3D tensors of shape (samples, timesteps,features)\n",
    "- Images—4D tensors of shape (samples, height, width, channels) or (samples,channels, height, width)\n",
    "- Video—5D tensors of shape (samples, frames, height, width, channels) or (samples, frames, channels, height, width)"
   ]
  },
  {
   "cell_type": "code",
   "execution_count": 55,
   "metadata": {},
   "outputs": [
    {
     "ename": "ValueError",
     "evalue": "only 2 non-keyword arguments accepted",
     "output_type": "error",
     "traceback": [
      "\u001b[0;31m---------------------------------------------------------------------------\u001b[0m",
      "\u001b[0;31mValueError\u001b[0m                                Traceback (most recent call last)",
      "\u001b[0;32m<ipython-input-55-a4e3b72dcfbd>\u001b[0m in \u001b[0;36m<module>\u001b[0;34m\u001b[0m\n\u001b[1;32m     12\u001b[0m    \u001b[0;34m[\u001b[0m\u001b[0;36m33\u001b[0m \u001b[0;34m,\u001b[0m\u001b[0;36m110019\u001b[0m \u001b[0;34m,\u001b[0m\u001b[0;36m51000\u001b[0m\u001b[0;34m]\u001b[0m\u001b[0;34m,\u001b[0m\u001b[0;34m\u001b[0m\u001b[0;34m\u001b[0m\u001b[0m\n\u001b[1;32m     13\u001b[0m    \u001b[0;34m[\u001b[0m\u001b[0;36m34\u001b[0m\u001b[0;34m,\u001b[0m \u001b[0;36m110019\u001b[0m\u001b[0;34m,\u001b[0m \u001b[0;36m52000\u001b[0m\u001b[0;34m]\u001b[0m\u001b[0;34m,\u001b[0m\u001b[0;34m\u001b[0m\u001b[0;34m\u001b[0m\u001b[0m\n\u001b[0;32m---> 14\u001b[0;31m    [35, 110019, 520300])\n\u001b[0m",
      "\u001b[0;31mValueError\u001b[0m: only 2 non-keyword arguments accepted"
     ]
    }
   ],
   "source": [
    "# Vector Data\n",
    "# An actuarial dataset of people, where we consider each person’s age, ZIP code,\n",
    "# and income. Each person can be characterized as a vector of 3 values, and thus\n",
    "# an entire dataset of 100,000 people can be stored in a 2D tensor of shape\n",
    "# (100000, 3).\n",
    "\n",
    "# Person1 32 110019 50000\n",
    "# Person2 33 110019 51000\n",
    "# Person3 34 110019 52000\n",
    "\n",
    "x=np.array ([[32, 110019 ,50000],\n",
    "   [33 ,110019 ,51000],\n",
    "   [34, 110019, 52000],\n",
    "   [35, 110019, 520300]])"
   ]
  },
  {
   "cell_type": "code",
   "execution_count": 53,
   "metadata": {},
   "outputs": [
    {
     "data": {
      "text/plain": [
       "2"
      ]
     },
     "execution_count": 53,
     "metadata": {},
     "output_type": "execute_result"
    }
   ],
   "source": [
    "x.ndim"
   ]
  },
  {
   "cell_type": "code",
   "execution_count": 54,
   "metadata": {},
   "outputs": [
    {
     "data": {
      "text/plain": [
       "(4, 3)"
      ]
     },
     "execution_count": 54,
     "metadata": {},
     "output_type": "execute_result"
    }
   ],
   "source": [
    "x.shape"
   ]
  },
  {
   "cell_type": "code",
   "execution_count": 56,
   "metadata": {},
   "outputs": [],
   "source": [
    "# The time axis is always the second axis (axis of index 1), by convention. Let’s look at a\n",
    "# few examples:\n",
    "# A dataset of stock prices. Every minute, we store the current price of the stock,\n",
    "# the highest price in the past minute, and the lowest price in the past minute.\n",
    "# Thus every minute is encoded as a 3D vector, an entire day of trading is\n",
    "# encoded as a 2D tensor of shape (390, 3) (there are 390 minutes in a trading\n",
    "# day), and 250 days’ worth of data can be stored in a 3D tensor of shape (250,\n",
    "# 390, 3). Here, each sample would be one day’s worth of data."
   ]
  },
  {
   "cell_type": "code",
   "execution_count": 57,
   "metadata": {},
   "outputs": [],
   "source": [
    "# Minute Tensor 1D or 3D Vector [1000,10001,999]\n",
    "# Day Tensor or 2D Tensor [[1000,10001,999],[1000,10001,999],[1000,10001,999]..]\n",
    "# Year Tensor or 3D Tensor [[[1000,10001,999],[1000,10001,999],[1000,10001,999]..],[[1000,10001,999],[1000,10001,999],[1000,10001,999]..],[[1000,10001,999],[1000,10001,999],[1000,10001,999]..]]]"
   ]
  },
  {
   "cell_type": "code",
   "execution_count": 83,
   "metadata": {},
   "outputs": [],
   "source": [
    "# Images typically have three dimensions: height, width, and color depth. Although\n",
    "# grayscale images (like our MNIST digits) have only a single color channel and could\n",
    "# thus be stored in 2D tensors, by convention image tensors are always 3D, with a onedimensional\n",
    "# color channel for grayscale images. A batch of 128 grayscale images of\n",
    "# size 256 × 256 could thus be stored in a tensor of shape (128, 256, 256, 1), and a\n",
    "# batch of 128 color images could be stored in a tensor of shape (128, 256, 256, 3)"
   ]
  },
  {
   "cell_type": "code",
   "execution_count": 84,
   "metadata": {},
   "outputs": [
    {
     "data": {
      "text/plain": [
       "(5,)"
      ]
     },
     "execution_count": 84,
     "metadata": {},
     "output_type": "execute_result"
    }
   ],
   "source": [
    "y= np.array([1,2,3,4,5])\n",
    "y.ndim\n",
    "y.shape"
   ]
  },
  {
   "cell_type": "code",
   "execution_count": 88,
   "metadata": {},
   "outputs": [
    {
     "data": {
      "text/plain": [
       "(1, 1, 5)"
      ]
     },
     "execution_count": 88,
     "metadata": {},
     "output_type": "execute_result"
    }
   ],
   "source": [
    "#add an empty axis to y\n",
    "y= np.array([[1,2,3,4,5]])\n",
    "y.ndim\n",
    "y.shape"
   ]
  },
  {
   "cell_type": "markdown",
   "metadata": {},
   "source": [
    "# IMDB"
   ]
  },
  {
   "cell_type": "code",
   "execution_count": 129,
   "metadata": {},
   "outputs": [],
   "source": [
    "from keras.datasets import imdb\n",
    "(train_data, train_labels), (test_data, test_labels) = imdb.load_data(num_words=20000)\n"
   ]
  },
  {
   "cell_type": "code",
   "execution_count": 130,
   "metadata": {},
   "outputs": [],
   "source": [
    "word_index = imdb.get_word_index() #word_index is a dictionary mapping words to an integer index.\n",
    "reverse_word_index = dict(\n",
    "[(value, key) for (key, value) in word_index.items()]) # Reverses it, mapping integer indices to words\n",
    "# Decodes the review. Note that the indices are offset by 3 because 0, 1, and 2 are reserved indices for “padding,” “start of sequence,” and “unknown.”\n",
    "decoded_review = ' '.join([reverse_word_index.get(i - 3, '?') for i in train_data[10]])\n"
   ]
  },
  {
   "cell_type": "code",
   "execution_count": 131,
   "metadata": {},
   "outputs": [
    {
     "data": {
      "text/plain": [
       "\"? french horror cinema has seen something of a revival over the last couple of years with great films such as inside and ? romance bursting on to the scene maléfique preceded the revival just slightly but stands head and shoulders over most modern horror titles and is surely one of the best french horror films ever made maléfique was obviously shot on a low budget but this is made up for in far more ways than one by the originality of the film and this in turn is complimented by the excellent writing and acting that ensure the film is a winner the plot focuses on two main ideas prison and black magic the central character is a man named carrère sent to prison for fraud he is put in a cell with three others the quietly insane ? body building transvestite marcus and his retarded boyfriend daisy after a short while in the cell together they stumble upon a hiding place in the wall that contains an old journal after translating part of it they soon realise its magical powers and realise they may be able to use it to break through the prison walls br br black magic is a very interesting topic and i'm actually quite surprised that there aren't more films based on it as there's so much scope for things to do with it it's fair to say that maléfique makes the best of it's assets as despite it's ? the film never actually feels restrained and manages to flow well throughout director eric valette provides a great atmosphere for the film the fact that most of it takes place inside the central prison cell ensures that the film feels very claustrophobic and this immensely benefits the central idea of the prisoners wanting to use magic to break out of the cell it's very easy to get behind them it's often said that the unknown is the thing that really ? people and this film proves that as the director ensures that we can never really be sure of exactly what is round the corner and this helps to ensure that maléfique actually does manage to be quite frightening the film is memorable for a lot of reasons outside the central plot the characters are all very interesting in their own way and the fact that the book itself almost takes on its own character is very well done anyone worried that the film won't deliver by the end won't be disappointed either as the ending both makes sense and manages to be quite horrifying overall maléfique is a truly great horror film and one of the best of the decade highly recommended viewing\""
      ]
     },
     "execution_count": 131,
     "metadata": {},
     "output_type": "execute_result"
    }
   ],
   "source": [
    "decoded_review"
   ]
  },
  {
   "cell_type": "code",
   "execution_count": 132,
   "metadata": {},
   "outputs": [],
   "source": [
    "def vectorize_sequences(sequences, dimension=20000):\n",
    "    results = np.zeros((len(sequences), dimension))#Creates an all-zero matrix of shape (len(sequences),dimension)\n",
    "    for i, sequence in enumerate(sequences):\n",
    "        results[i, sequence] = 1.\n",
    "    return results\n",
    "x_train = vectorize_sequences(train_data)\n",
    "x_test = vectorize_sequences(test_data)"
   ]
  },
  {
   "cell_type": "code",
   "execution_count": 105,
   "metadata": {},
   "outputs": [
    {
     "data": {
      "text/plain": [
       "array([0., 1., 1., ..., 0., 0., 0.])"
      ]
     },
     "execution_count": 105,
     "metadata": {},
     "output_type": "execute_result"
    }
   ],
   "source": [
    "x_train[10]"
   ]
  },
  {
   "cell_type": "code",
   "execution_count": 133,
   "metadata": {},
   "outputs": [],
   "source": [
    "y_train = np.asarray(train_labels).astype('float32')\n",
    "y_test = np.asarray(test_labels).astype('float32')"
   ]
  },
  {
   "cell_type": "code",
   "execution_count": 135,
   "metadata": {},
   "outputs": [],
   "source": [
    "model = models.Sequential()\n",
    "model.add(layers.Dense(16, activation='relu', input_shape=(20000,)))\n",
    "model.add(layers.Dense(16, activation='relu'))\n",
    "model.add(layers.Dense(1, activation='sigmoid'))"
   ]
  },
  {
   "cell_type": "code",
   "execution_count": 136,
   "metadata": {},
   "outputs": [],
   "source": [
    "model.compile(optimizer='rmsprop',\n",
    "loss='binary_crossentropy',\n",
    "metrics=['accuracy'])"
   ]
  },
  {
   "cell_type": "code",
   "execution_count": 137,
   "metadata": {},
   "outputs": [],
   "source": [
    "#Setting aside a validation set\n",
    "x_val = x_train[:10000]\n",
    "partial_x_train = x_train[10000:]\n",
    "y_val = y_train[:10000]\n",
    "partial_y_train = y_train[10000:]"
   ]
  },
  {
   "cell_type": "code",
   "execution_count": 138,
   "metadata": {},
   "outputs": [
    {
     "name": "stdout",
     "output_type": "stream",
     "text": [
      "Train on 15000 samples, validate on 10000 samples\n",
      "Epoch 1/20\n",
      "15000/15000 [==============================] - 3s 230us/step - loss: 0.5309 - acc: 0.7848 - val_loss: 0.4134 - val_acc: 0.8613\n",
      "Epoch 2/20\n",
      "15000/15000 [==============================] - 3s 187us/step - loss: 0.3218 - acc: 0.9064 - val_loss: 0.3140 - val_acc: 0.8891\n",
      "Epoch 3/20\n",
      "15000/15000 [==============================] - 3s 185us/step - loss: 0.2207 - acc: 0.9368 - val_loss: 0.2938 - val_acc: 0.8847\n",
      "Epoch 4/20\n",
      "15000/15000 [==============================] - 3s 186us/step - loss: 0.1614 - acc: 0.9548 - val_loss: 0.2657 - val_acc: 0.8956\n",
      "Epoch 5/20\n",
      "15000/15000 [==============================] - 3s 186us/step - loss: 0.1206 - acc: 0.9650 - val_loss: 0.2678 - val_acc: 0.8934\n",
      "Epoch 6/20\n",
      "15000/15000 [==============================] - 3s 186us/step - loss: 0.0901 - acc: 0.9760 - val_loss: 0.3063 - val_acc: 0.8837\n",
      "Epoch 7/20\n",
      "15000/15000 [==============================] - 3s 185us/step - loss: 0.0677 - acc: 0.9839 - val_loss: 0.2977 - val_acc: 0.8903\n",
      "Epoch 8/20\n",
      "15000/15000 [==============================] - 3s 185us/step - loss: 0.0507 - acc: 0.9891 - val_loss: 0.3245 - val_acc: 0.8867\n",
      "Epoch 9/20\n",
      "15000/15000 [==============================] - 3s 185us/step - loss: 0.0357 - acc: 0.9934 - val_loss: 0.3611 - val_acc: 0.8833\n",
      "Epoch 10/20\n",
      "15000/15000 [==============================] - 3s 186us/step - loss: 0.0255 - acc: 0.9957 - val_loss: 0.4163 - val_acc: 0.8755\n",
      "Epoch 11/20\n",
      "15000/15000 [==============================] - 3s 187us/step - loss: 0.0173 - acc: 0.9978 - val_loss: 0.4261 - val_acc: 0.8790\n",
      "Epoch 12/20\n",
      "15000/15000 [==============================] - 3s 187us/step - loss: 0.0123 - acc: 0.9983 - val_loss: 0.4740 - val_acc: 0.8757\n",
      "Epoch 13/20\n",
      "15000/15000 [==============================] - 3s 185us/step - loss: 0.0081 - acc: 0.9993 - val_loss: 0.5056 - val_acc: 0.8742\n",
      "Epoch 14/20\n",
      "15000/15000 [==============================] - 3s 185us/step - loss: 0.0051 - acc: 0.9999 - val_loss: 0.5558 - val_acc: 0.8739\n",
      "Epoch 15/20\n",
      "15000/15000 [==============================] - 3s 184us/step - loss: 0.0030 - acc: 0.9999 - val_loss: 0.6069 - val_acc: 0.8711\n",
      "Epoch 16/20\n",
      "15000/15000 [==============================] - 3s 187us/step - loss: 0.0024 - acc: 0.9998 - val_loss: 0.6508 - val_acc: 0.8717\n",
      "Epoch 17/20\n",
      "15000/15000 [==============================] - 3s 184us/step - loss: 0.0012 - acc: 0.9999 - val_loss: 0.6958 - val_acc: 0.8704\n",
      "Epoch 18/20\n",
      "15000/15000 [==============================] - 3s 185us/step - loss: 0.0013 - acc: 0.9998 - val_loss: 0.7549 - val_acc: 0.8709\n",
      "Epoch 19/20\n",
      "15000/15000 [==============================] - 3s 186us/step - loss: 4.4961e-04 - acc: 0.9999 - val_loss: 0.7834 - val_acc: 0.8692\n",
      "Epoch 20/20\n",
      "15000/15000 [==============================] - 3s 185us/step - loss: 3.0887e-04 - acc: 0.9999 - val_loss: 0.8635 - val_acc: 0.8654\n"
     ]
    }
   ],
   "source": [
    "model.compile(optimizer='rmsprop',loss='binary_crossentropy',metrics=['acc'])\n",
    "history = model.fit(partial_x_train,partial_y_train,epochs=20,batch_size=512,validation_data=(x_val, y_val))"
   ]
  },
  {
   "cell_type": "code",
   "execution_count": 139,
   "metadata": {},
   "outputs": [
    {
     "data": {
      "image/png": "[encoded data removed]",
      "text/plain": [
       "<Figure size 432x288 with 1 Axes>"
      ]
     },
     "metadata": {
      "needs_background": "light"
     },
     "output_type": "display_data"
    },
    {
     "data": {
      "image/png": "[encoded data removed]",
      "text/plain": [
       "<Figure size 432x288 with 1 Axes>"
      ]
     },
     "metadata": {
      "needs_background": "light"
     },
     "output_type": "display_data"
    }
   ],
   "source": [
    "import matplotlib.pyplot as plt\n",
    "history_dict = history.history\n",
    "loss_values = history_dict['loss']\n",
    "val_loss_values = history_dict['val_loss']\n",
    "\n",
    "epochs = range(1, len(history_dict['acc']) + 1)\n",
    "\n",
    "plt.plot(epochs, loss_values, 'bo', label='Training loss')\n",
    "plt.plot(epochs, val_loss_values, 'b', label='Validation loss')\n",
    "plt.title('Training and validation loss')\n",
    "plt.xlabel('Epochs')\n",
    "plt.ylabel('Loss')\n",
    "plt.legend()\n",
    "plt.show()\n",
    "plt.clf()\n",
    "\n",
    "acc_values = history_dict['acc']\n",
    "val_acc_values = history_dict['val_acc']\n",
    "plt.plot(epochs, acc_values, 'bo', label='Training acc')\n",
    "plt.plot(epochs, val_acc_values, 'b', label='Validation acc')\n",
    "plt.title('Training and validation accuracy')\n",
    "plt.xlabel('Epochs')\n",
    "plt.ylabel('Loss')\n",
    "plt.legend()\n",
    "plt.show()"
   ]
  },
  {
   "cell_type": "code",
   "execution_count": 125,
   "metadata": {},
   "outputs": [
    {
     "name": "stdout",
     "output_type": "stream",
     "text": [
      "Epoch 1/4\n",
      "25000/25000 [==============================] - 2s 63us/step - loss: 0.4878 - accuracy: 0.8142\n",
      "Epoch 2/4\n",
      "25000/25000 [==============================] - 1s 58us/step - loss: 0.2697 - accuracy: 0.9072\n",
      "Epoch 3/4\n",
      "25000/25000 [==============================] - 1s 57us/step - loss: 0.2017 - accuracy: 0.9272\n",
      "Epoch 4/4\n",
      "25000/25000 [==============================] - 1s 57us/step - loss: 0.1688 - accuracy: 0.9400\n",
      "25000/25000 [==============================] - 1s 46us/step\n"
     ]
    }
   ],
   "source": [
    "model = models.Sequential()\n",
    "model.add(layers.Dense(16, activation='relu', input_shape=(10000,)))\n",
    "model.add(layers.Dense(16, activation='relu'))\n",
    "model.add(layers.Dense(1, activation='sigmoid'))\n",
    "model.compile(optimizer='rmsprop',\n",
    "loss='binary_crossentropy',\n",
    "metrics=['accuracy'])\n",
    "model.fit(x_train, y_train, epochs=4, batch_size=512)\n",
    "results = model.evaluate(x_test, y_test)"
   ]
  },
  {
   "cell_type": "code",
   "execution_count": 124,
   "metadata": {},
   "outputs": [
    {
     "data": {
      "text/plain": [
       "[0.2885171154117584, 0.8844799995422363]"
      ]
     },
     "execution_count": 124,
     "metadata": {},
     "output_type": "execute_result"
    }
   ],
   "source": [
    "results"
   ]
  },
  {
   "cell_type": "code",
   "execution_count": 126,
   "metadata": {},
   "outputs": [
    {
     "data": {
      "text/plain": [
       "[0.30721969376564023, 0.8799600005149841]"
      ]
     },
     "execution_count": 126,
     "metadata": {},
     "output_type": "execute_result"
    }
   ],
   "source": [
    "results"
   ]
  },
  {
   "cell_type": "code",
   "execution_count": 145,
   "metadata": {},
   "outputs": [
    {
     "name": "stdout",
     "output_type": "stream",
     "text": [
      "results [[0. 0. 0. 0. 0. 0. 0. 0. 0. 0.]\n",
      " [0. 0. 0. 0. 0. 0. 0. 0. 0. 0.]]\n",
      "0 1\n",
      "1 2\n"
     ]
    }
   ],
   "source": [
    "def vectorize_sequences(sequences, dimension=10):\n",
    "    results = np.zeros((len(sequences), dimension))#Creates an all-zero matrix of shape (len(sequences),dimension)\n",
    "    print(\"results\",results)\n",
    "    for i, sequence in enumerate(sequences):\n",
    "        print(i,sequence)\n",
    "        results[i, sequence] = 1.\n",
    "    return results\n",
    "x_train = vectorize_sequences(np.array([1,2]))\n"
   ]
  },
  {
   "cell_type": "code",
   "execution_count": 146,
   "metadata": {},
   "outputs": [
    {
     "data": {
      "text/plain": [
       "array([[0., 1., 0., 0., 0., 0., 0., 0., 0., 0.],\n",
       "       [0., 0., 1., 0., 0., 0., 0., 0., 0., 0.]])"
      ]
     },
     "execution_count": 146,
     "metadata": {},
     "output_type": "execute_result"
    }
   ],
   "source": [
    "x_train"
   ]
  },
  {
   "cell_type": "code",
   "execution_count": 147,
   "metadata": {},
   "outputs": [
    {
     "data": {
      "text/plain": [
       "array([[1.3577342e-03],\n",
       "       [1.0000000e+00],\n",
       "       [9.9998385e-01],\n",
       "       ...,\n",
       "       [4.9486756e-04],\n",
       "       [3.4882456e-02],\n",
       "       [9.9997288e-01]], dtype=float32)"
      ]
     },
     "execution_count": 147,
     "metadata": {},
     "output_type": "execute_result"
    }
   ],
   "source": [
    "model.predict(x_test)"
   ]
  },
  {
   "cell_type": "markdown",
   "metadata": {},
   "source": [
    "- You usually need to do quite a bit of preprocessing on your raw data in order to\n",
    "be able to feed it—as tensors—into a neural network. Sequences of words can\n",
    "be encoded as binary vectors, but there are other encoding options, too.\n",
    "- Stacks of Dense layers with relu activations can solve a wide range of problems\n",
    "(including sentiment classification), and you’ll likely use them frequently.\n",
    "- In a binary classification problem (two output classes), your network should\n",
    "end with a Dense layer with one unit and a sigmoid activation: the output of\n",
    "your network should be a scalar between 0 and 1, encoding a probability.\n",
    "- With such a scalar sigmoid output on a binary classification problem, the loss\n",
    "function you should use is binary_crossentropy.\n",
    "- The rmsprop optimizer is generally a good enough choice, whatever your problem.\n",
    "That’s one less thing for you to worry about.\n",
    "- As they get better on their training data, neural networks eventually start overfitting\n",
    "and end up obtaining increasingly worse results on data they’ve never\n",
    "seen before. Be sure to always monitor performance on data that is outside of\n",
    "the training set."
   ]
  },
  {
   "cell_type": "markdown",
   "metadata": {},
   "source": [
    "# The Reuters dataset\n",
    "- You’ll work with the Reuters dataset, a set of short newswires and their topics, published by Reuters in 1986. It’s a simple, widely used toy dataset for text classification. There are 46 different topics; some topics are more represented than others, but each topic has at least 10 examples in the training set."
   ]
  },
  {
   "cell_type": "code",
   "execution_count": 188,
   "metadata": {},
   "outputs": [],
   "source": [
    "from keras.datasets import reuters\n",
    "(train_data,train_labels),(test_data,test_labels)=reuters.load_data(num_words=10000)"
   ]
  },
  {
   "cell_type": "code",
   "execution_count": 189,
   "metadata": {},
   "outputs": [
    {
     "name": "stdout",
     "output_type": "stream",
     "text": [
      "8982\n",
      "2246\n"
     ]
    }
   ],
   "source": [
    "print (len(train_data))\n",
    "print(len(test_data))"
   ]
  },
  {
   "cell_type": "code",
   "execution_count": 190,
   "metadata": {},
   "outputs": [
    {
     "data": {
      "text/plain": [
       "(8982,)"
      ]
     },
     "execution_count": 190,
     "metadata": {},
     "output_type": "execute_result"
    }
   ],
   "source": [
    "train_data.shape"
   ]
  },
  {
   "cell_type": "code",
   "execution_count": 191,
   "metadata": {},
   "outputs": [
    {
     "data": {
      "text/plain": [
       "'? ? ? said as a result of its december acquisition of space co it expects earnings per share in 1987 of 1 15 to 1 30 dlrs per share up from 70 cts in 1986 the company said pretax net should rise to nine to 10 mln dlrs from six mln dlrs in 1986 and rental operation revenues to 19 to 22 mln dlrs from 12 5 mln dlrs it said cash flow per share this year should be 2 50 to three dlrs reuter 3'"
      ]
     },
     "execution_count": 191,
     "metadata": {},
     "output_type": "execute_result"
    }
   ],
   "source": [
    "word_index = reuters.get_word_index()\n",
    "reverse_word_index = dict([(value, key) for (key, value) in word_index.items()])\n",
    "decoded_newswire = ' '.join([reverse_word_index.get(i - 3, '?') for i in\n",
    "train_data[0]])\n",
    "decoded_newswire"
   ]
  },
  {
   "cell_type": "code",
   "execution_count": 192,
   "metadata": {},
   "outputs": [],
   "source": [
    "import numpy as np\n",
    "def vectorize_sequences(sequences, dimension=10000):\n",
    "    resultsr = np.zeros((len(sequences), dimension))\n",
    "    for i, sequence in enumerate(sequences):\n",
    "        resultsr[i, sequence] = 1.\n",
    "    return resultsr\n",
    "x_train = vectorize_sequences(train_data)\n",
    "x_test = vectorize_sequences(test_data)"
   ]
  },
  {
   "cell_type": "code",
   "execution_count": 193,
   "metadata": {},
   "outputs": [],
   "source": [
    "one_hot_train_labels = to_categorical(train_labels)\n",
    "one_hot_test_labels = to_categorical(test_labels)"
   ]
  },
  {
   "cell_type": "code",
   "execution_count": 194,
   "metadata": {},
   "outputs": [],
   "source": [
    "model = models.Sequential()\n",
    "model.add(layers.Dense(64, activation='relu', input_shape=(10000,)))\n",
    "model.add(layers.Dense(64, activation='relu'))\n",
    "model.add(layers.Dense(46, activation='softmax'))"
   ]
  },
  {
   "cell_type": "code",
   "execution_count": 195,
   "metadata": {},
   "outputs": [],
   "source": [
    "model.compile(optimizer='rmsprop',\n",
    "loss='categorical_crossentropy',\n",
    "metrics=['accuracy'])"
   ]
  },
  {
   "cell_type": "code",
   "execution_count": 196,
   "metadata": {},
   "outputs": [],
   "source": [
    "x_val = x_train[:1000]\n",
    "y_val = one_hot_train_labels[:1000]\n",
    "\n",
    "partial_x_train = x_train[1000:]\n",
    "partial_y_train = one_hot_train_labels[1000:]"
   ]
  },
  {
   "cell_type": "code",
   "execution_count": 197,
   "metadata": {},
   "outputs": [
    {
     "data": {
      "text/plain": [
       "(7982, 10000)"
      ]
     },
     "execution_count": 197,
     "metadata": {},
     "output_type": "execute_result"
    }
   ],
   "source": [
    "partial_x_train.shape"
   ]
  },
  {
   "cell_type": "code",
   "execution_count": 198,
   "metadata": {},
   "outputs": [
    {
     "name": "stdout",
     "output_type": "stream",
     "text": [
      "Train on 7982 samples, validate on 1000 samples\n",
      "Epoch 1/20\n",
      "7982/7982 [==============================] - 1s 109us/step - loss: 2.6107 - accuracy: 0.4927 - val_loss: 1.7234 - val_accuracy: 0.6430\n",
      "Epoch 2/20\n",
      "7982/7982 [==============================] - 1s 88us/step - loss: 1.4219 - accuracy: 0.7073 - val_loss: 1.3119 - val_accuracy: 0.7260\n",
      "Epoch 3/20\n",
      "7982/7982 [==============================] - 1s 88us/step - loss: 1.0546 - accuracy: 0.7766 - val_loss: 1.1229 - val_accuracy: 0.7610\n",
      "Epoch 4/20\n",
      "7982/7982 [==============================] - 1s 88us/step - loss: 0.8198 - accuracy: 0.8279 - val_loss: 1.0240 - val_accuracy: 0.7970\n",
      "Epoch 5/20\n",
      "7982/7982 [==============================] - 1s 88us/step - loss: 0.6529 - accuracy: 0.8651 - val_loss: 0.9650 - val_accuracy: 0.8040\n",
      "Epoch 6/20\n",
      "7982/7982 [==============================] - 1s 88us/step - loss: 0.5192 - accuracy: 0.8938 - val_loss: 0.9178 - val_accuracy: 0.8000\n",
      "Epoch 7/20\n",
      "7982/7982 [==============================] - 1s 89us/step - loss: 0.4184 - accuracy: 0.9110 - val_loss: 0.8858 - val_accuracy: 0.8120\n",
      "Epoch 8/20\n",
      "7982/7982 [==============================] - 1s 88us/step - loss: 0.3392 - accuracy: 0.9275 - val_loss: 0.8660 - val_accuracy: 0.8160\n",
      "Epoch 9/20\n",
      "7982/7982 [==============================] - 1s 87us/step - loss: 0.2851 - accuracy: 0.9361 - val_loss: 0.8764 - val_accuracy: 0.8210\n",
      "Epoch 10/20\n",
      "7982/7982 [==============================] - 1s 88us/step - loss: 0.2398 - accuracy: 0.9444 - val_loss: 0.8951 - val_accuracy: 0.8160\n",
      "Epoch 11/20\n",
      "7982/7982 [==============================] - 1s 88us/step - loss: 0.2000 - accuracy: 0.9498 - val_loss: 0.8970 - val_accuracy: 0.8150\n",
      "Epoch 12/20\n",
      "7982/7982 [==============================] - 1s 88us/step - loss: 0.1861 - accuracy: 0.9515 - val_loss: 0.9078 - val_accuracy: 0.8150\n",
      "Epoch 13/20\n",
      "7982/7982 [==============================] - 1s 88us/step - loss: 0.1618 - accuracy: 0.9544 - val_loss: 0.9746 - val_accuracy: 0.8050\n",
      "Epoch 14/20\n",
      "7982/7982 [==============================] - 1s 87us/step - loss: 0.1458 - accuracy: 0.9555 - val_loss: 0.9482 - val_accuracy: 0.8110\n",
      "Epoch 15/20\n",
      "7982/7982 [==============================] - 1s 88us/step - loss: 0.1369 - accuracy: 0.9568 - val_loss: 0.9553 - val_accuracy: 0.8130\n",
      "Epoch 16/20\n",
      "7982/7982 [==============================] - 1s 88us/step - loss: 0.1284 - accuracy: 0.9572 - val_loss: 1.0530 - val_accuracy: 0.7930\n",
      "Epoch 17/20\n",
      "7982/7982 [==============================] - 1s 89us/step - loss: 0.1254 - accuracy: 0.9570 - val_loss: 0.9899 - val_accuracy: 0.8150\n",
      "Epoch 18/20\n",
      "7982/7982 [==============================] - 1s 88us/step - loss: 0.1206 - accuracy: 0.9572 - val_loss: 1.0602 - val_accuracy: 0.8020\n",
      "Epoch 19/20\n",
      "7982/7982 [==============================] - 1s 88us/step - loss: 0.1170 - accuracy: 0.9572 - val_loss: 1.0727 - val_accuracy: 0.7960\n",
      "Epoch 20/20\n",
      "7982/7982 [==============================] - 1s 88us/step - loss: 0.1119 - accuracy: 0.9578 - val_loss: 1.0385 - val_accuracy: 0.8040\n"
     ]
    }
   ],
   "source": [
    "history=model.fit(x=partial_x_train,y=partial_y_train,batch_size=512,epochs=20,validation_data=(x_val, y_val))"
   ]
  },
  {
   "cell_type": "code",
   "execution_count": 199,
   "metadata": {},
   "outputs": [
    {
     "data": {
      "image/png": "[encoded data removed]",
      "text/plain": [
       "<Figure size 432x288 with 1 Axes>"
      ]
     },
     "metadata": {
      "needs_background": "light"
     },
     "output_type": "display_data"
    },
    {
     "data": {
      "image/png": "[encoded data removed]",
      "text/plain": [
       "<Figure size 432x288 with 1 Axes>"
      ]
     },
     "metadata": {
      "needs_background": "light"
     },
     "output_type": "display_data"
    }
   ],
   "source": [
    "import matplotlib.pyplot as plt\n",
    "loss = history.history['loss']\n",
    "val_loss = history.history['val_loss']\n",
    "epochs = range(1, len(loss) + 1)\n",
    "plt.plot(epochs, loss, 'bo', label='Training loss')\n",
    "plt.plot(epochs, val_loss, 'b', label='Validation loss')\n",
    "plt.title('Training and validation loss')\n",
    "plt.xlabel('Epochs')\n",
    "plt.ylabel('Loss')\n",
    "plt.legend()\n",
    "plt.show()\n",
    "plt.clf()\n",
    "acc = history.history['accuracy']\n",
    "val_acc = history.history['val_accuracy']\n",
    "plt.plot(epochs, acc, 'bo', label='Training acc')\n",
    "plt.plot(epochs, val_acc, 'b', label='Validation acc')\n",
    "plt.title('Training and validation accuracy')\n",
    "plt.xlabel('Epochs')\n",
    "plt.ylabel('Loss')\n",
    "plt.legend()\n",
    "plt.show()"
   ]
  },
  {
   "cell_type": "code",
   "execution_count": 200,
   "metadata": {},
   "outputs": [
    {
     "name": "stdout",
     "output_type": "stream",
     "text": [
      "Train on 7982 samples, validate on 1000 samples\n",
      "Epoch 1/9\n",
      "7982/7982 [==============================] - 1s 101us/step - loss: 2.7198 - accuracy: 0.5269 - val_loss: 1.7792 - val_accuracy: 0.6560\n",
      "Epoch 2/9\n",
      "7982/7982 [==============================] - 1s 90us/step - loss: 1.4372 - accuracy: 0.7132 - val_loss: 1.3187 - val_accuracy: 0.7170\n",
      "Epoch 3/9\n",
      "7982/7982 [==============================] - 1s 90us/step - loss: 1.0635 - accuracy: 0.7725 - val_loss: 1.1397 - val_accuracy: 0.7590\n",
      "Epoch 4/9\n",
      "7982/7982 [==============================] - 1s 89us/step - loss: 0.8401 - accuracy: 0.8196 - val_loss: 1.0372 - val_accuracy: 0.7880\n",
      "Epoch 5/9\n",
      "7982/7982 [==============================] - 1s 89us/step - loss: 0.6753 - accuracy: 0.8544 - val_loss: 0.9730 - val_accuracy: 0.8030\n",
      "Epoch 6/9\n",
      "7982/7982 [==============================] - 1s 88us/step - loss: 0.5420 - accuracy: 0.8870 - val_loss: 0.9440 - val_accuracy: 0.8070\n",
      "Epoch 7/9\n",
      "7982/7982 [==============================] - 1s 89us/step - loss: 0.4378 - accuracy: 0.9105 - val_loss: 0.9058 - val_accuracy: 0.8110\n",
      "Epoch 8/9\n",
      "7982/7982 [==============================] - 1s 88us/step - loss: 0.3596 - accuracy: 0.9257 - val_loss: 0.8961 - val_accuracy: 0.8230\n",
      "Epoch 9/9\n",
      "7982/7982 [==============================] - 1s 89us/step - loss: 0.2904 - accuracy: 0.9374 - val_loss: 0.9044 - val_accuracy: 0.8200\n",
      "2246/2246 [==============================] - 0s 72us/step\n"
     ]
    }
   ],
   "source": [
    "model = models.Sequential()\n",
    "model.add(layers.Dense(64, activation='relu', input_shape=(10000,)))\n",
    "model.add(layers.Dense(64, activation='relu'))\n",
    "model.add(layers.Dense(46, activation='softmax'))\n",
    "model.compile(optimizer='rmsprop',\n",
    "loss='categorical_crossentropy',\n",
    "metrics=['accuracy'])\n",
    "model.fit(partial_x_train,\n",
    "partial_y_train,\n",
    "epochs=9,\n",
    "batch_size=512,\n",
    "validation_data=(x_val, y_val))\n",
    "results = model.evaluate(x_test, one_hot_test_labels)"
   ]
  },
  {
   "cell_type": "code",
   "execution_count": 201,
   "metadata": {},
   "outputs": [
    {
     "data": {
      "text/plain": [
       "[1.010272115867051, 0.7836152911186218]"
      ]
     },
     "execution_count": 201,
     "metadata": {},
     "output_type": "execute_result"
    }
   ],
   "source": [
    "results"
   ]
  },
  {
   "cell_type": "code",
   "execution_count": 202,
   "metadata": {},
   "outputs": [],
   "source": [
    "predictions = model.predict(x_test)"
   ]
  },
  {
   "cell_type": "code",
   "execution_count": 204,
   "metadata": {},
   "outputs": [
    {
     "data": {
      "text/plain": [
       "1.0"
      ]
     },
     "execution_count": 204,
     "metadata": {},
     "output_type": "execute_result"
    }
   ],
   "source": [
    "#Each predictions has 46 values and the total of all the predictions for a sample is 1\n",
    "predictions[0].sum()"
   ]
  },
  {
   "cell_type": "code",
   "execution_count": 208,
   "metadata": {},
   "outputs": [
    {
     "name": "stdout",
     "output_type": "stream",
     "text": [
      "3\n"
     ]
    },
    {
     "data": {
      "text/plain": [
       "0.6181773"
      ]
     },
     "execution_count": 208,
     "metadata": {},
     "output_type": "execute_result"
    }
   ],
   "source": [
    "# The prediction class for which the probability of match is the max\n",
    "print(np.argmax(predictions[0]))\n",
    "predictions[0][np.argmax(predictions[0])] # prediction probability"
   ]
  },
  {
   "cell_type": "markdown",
   "metadata": {},
   "source": [
    "- If you’re trying to classify data points among N classes, your network should end with a Dense layer of size N.\n",
    "- In a single-label, multiclass classification problem, your network should end\n",
    "with a softmax activation so that it will output a probability distribution over the\n",
    "N output classes.\n",
    "- Categorical crossentropy is almost always the loss function you should use for\n",
    "such problems. It minimizes the distance between the probability distributions\n",
    "output by the network and the true distribution of the targets.\n",
    "- There are two ways to handle labels in multiclass classification:\n",
    " - Encoding the labels via categorical encoding (also known as one-hot encoding)\n",
    "and using categorical_crossentropy as a loss function\n",
    " - Encoding the labels as integers and using the sparse_categorical_crossentropy\n",
    "loss function\n",
    "- If you need to classify data into a large number of categories, you should avoid\n",
    "creating information bottlenecks in your network due to intermediate layers\n",
    "that are too small."
   ]
  },
  {
   "cell_type": "markdown",
   "metadata": {},
   "source": [
    "# Boston Housing"
   ]
  },
  {
   "cell_type": "code",
   "execution_count": 210,
   "metadata": {},
   "outputs": [
    {
     "name": "stdout",
     "output_type": "stream",
     "text": [
      "Downloading data from https://s3.amazonaws.com/keras-datasets/boston_housing.npz\n",
      "57344/57026 [==============================] - 0s 0us/step\n"
     ]
    }
   ],
   "source": [
    "from keras.datasets import boston_housing\n",
    "(train_data,train_targets),(test_data,test_targets)=boston_housing.load_data()"
   ]
  },
  {
   "cell_type": "code",
   "execution_count": 211,
   "metadata": {},
   "outputs": [
    {
     "name": "stdout",
     "output_type": "stream",
     "text": [
      "(404, 13)\n",
      "(102, 13)\n"
     ]
    }
   ],
   "source": [
    "print(train_data.shape)\n",
    "print(test_data.shape)"
   ]
  },
  {
   "cell_type": "code",
   "execution_count": 213,
   "metadata": {},
   "outputs": [
    {
     "data": {
      "text/plain": [
       "array([  1.23247,   0.     ,   8.14   ,   0.     ,   0.538  ,   6.142  ,\n",
       "        91.7    ,   3.9769 ,   4.     , 307.     ,  21.     , 396.9    ,\n",
       "        18.72   ])"
      ]
     },
     "execution_count": 213,
     "metadata": {},
     "output_type": "execute_result"
    }
   ],
   "source": [
    "train_data[0]"
   ]
  },
  {
   "cell_type": "code",
   "execution_count": 217,
   "metadata": {},
   "outputs": [
    {
     "data": {
      "text/plain": [
       "(404,)"
      ]
     },
     "execution_count": 217,
     "metadata": {},
     "output_type": "execute_result"
    }
   ],
   "source": [
    "train_targets.shape"
   ]
  },
  {
   "cell_type": "code",
   "execution_count": 218,
   "metadata": {},
   "outputs": [],
   "source": [
    "mean = train_data.mean(axis=0)\n",
    "train_data -= mean\n",
    "std = train_data.std(axis=0)\n",
    "train_data /= std\n",
    "test_data -= mean\n",
    "test_data /= std"
   ]
  },
  {
   "cell_type": "code",
   "execution_count": 219,
   "metadata": {},
   "outputs": [],
   "source": [
    "# The network ends with a single unit and no activation (it will be a linear layer). This is\n",
    "# a typical setup for scalar regression (a regression where you’re trying to predict a single\n",
    "# continuous value). Applying an activation function would constrain the range the output\n",
    "# can take; for instance, if you applied a sigmoid activation function to the last layer,\n",
    "# the network could only learn to predict values between 0 and 1. Here, because the last\n",
    "# layer is purely linear, the network is free to learn to predict values in any range.\n",
    "def build_model():\n",
    "    model = models.Sequential()\n",
    "    model.add(layers.Dense(64, activation='relu',\n",
    "    input_shape=(train_data.shape[1],)))\n",
    "    model.add(layers.Dense(64, activation='relu'))\n",
    "    model.add(layers.Dense(1))\n",
    "    model.compile(optimizer='rmsprop', loss='mse', metrics=['mae'])\n",
    "    return model"
   ]
  },
  {
   "cell_type": "markdown",
   "metadata": {},
   "source": [
    "The best practice in such situations is to use K-fold cross-validation (see figure 3.11).\n",
    "It consists of splitting the available data into K partitions (typically K = 4 or 5), instantiating\n",
    "K identical models, and training each one on K – 1 partitions while evaluating on\n",
    "the remaining partition. The validation score for the model used is then the average of\n",
    "the K validation scores obtained."
   ]
  },
  {
   "cell_type": "code",
   "execution_count": 220,
   "metadata": {},
   "outputs": [
    {
     "name": "stdout",
     "output_type": "stream",
     "text": [
      "processing fold # 0\n",
      "processing fold # 1\n",
      "processing fold # 2\n",
      "processing fold # 3\n"
     ]
    }
   ],
   "source": [
    "k = 4\n",
    "num_val_samples = len(train_data) // k\n",
    "num_epochs = 100\n",
    "all_scores = []\n",
    "for i in range(k):\n",
    "    print('processing fold #', i)\n",
    "    val_data = train_data[i * num_val_samples: (i + 1) * num_val_samples] #Prepares the validation data:data from partition #k\n",
    "    val_targets = train_targets[i * num_val_samples: (i + 1) * num_val_samples]\n",
    "    #Prepares the training data:data from all other partitions\n",
    "    partial_train_data = np.concatenate(\n",
    "        [train_data[:i * num_val_samples],\n",
    "        train_data[(i + 1) * num_val_samples:]],\n",
    "        axis=0)\n",
    "    partial_train_targets = np.concatenate(\n",
    "        [train_targets[:i * num_val_samples],\n",
    "        train_targets[(i + 1) * num_val_samples:]],\n",
    "        axis=0)\n",
    "    #Builds the Keras model (already compiled)\n",
    "    model = build_model()\n",
    "#     Trains the model (in silent mode,verbose = 0)\n",
    "    model.fit(partial_train_data, partial_train_targets,\n",
    "    epochs=num_epochs, batch_size=1, verbose=1)\n",
    "#     Evaluates the model on the validation data\n",
    "    val_mse, val_mae = model.evaluate(val_data, val_targets, verbose=0)\n",
    "    all_scores.append(val_mae)"
   ]
  },
  {
   "cell_type": "code",
   "execution_count": 221,
   "metadata": {},
   "outputs": [
    {
     "data": {
      "text/plain": [
       "[2.1401450634002686, 2.5642282962799072, 2.733008623123169, 2.536771297454834]"
      ]
     },
     "execution_count": 221,
     "metadata": {},
     "output_type": "execute_result"
    }
   ],
   "source": [
    "all_scores"
   ]
  },
  {
   "cell_type": "code",
   "execution_count": 222,
   "metadata": {},
   "outputs": [
    {
     "data": {
      "text/plain": [
       "2.4935383200645447"
      ]
     },
     "execution_count": 222,
     "metadata": {},
     "output_type": "execute_result"
    }
   ],
   "source": [
    "np.mean(all_scores)"
   ]
  },
  {
   "cell_type": "code",
   "execution_count": 228,
   "metadata": {},
   "outputs": [
    {
     "name": "stdout",
     "output_type": "stream",
     "text": [
      "processing fold # 0\n",
      "processing fold # 1\n",
      "processing fold # 2\n",
      "processing fold # 3\n"
     ]
    }
   ],
   "source": [
    "#Saving the validation logs at each fold\n",
    "num_epochs = 500\n",
    "all_mae_histories = []\n",
    "for i in range(k):\n",
    "    print('processing fold #', i)\n",
    "    val_data = train_data[i * num_val_samples: (i + 1) * num_val_samples]\n",
    "    val_targets = train_targets[i * num_val_samples: (i + 1) * num_val_samples]\n",
    "    partial_train_data = np.concatenate(\n",
    "        [train_data[:i * num_val_samples],\n",
    "        train_data[(i + 1) * num_val_samples:]],\n",
    "        axis=0)\n",
    "    partial_train_targets = np.concatenate(\n",
    "        [train_targets[:i * num_val_samples],\n",
    "        train_targets[(i + 1) * num_val_samples:]],\n",
    "        axis=0)\n",
    "    model = build_model()\n",
    "    history = model.fit(partial_train_data, partial_train_targets,\n",
    "    validation_data=(val_data, val_targets),\n",
    "    epochs=num_epochs, batch_size=1, verbose=0)\n",
    "    mae_history = history.history['val_mae']\n",
    "    all_mae_histories.append(mae_history)"
   ]
  },
  {
   "cell_type": "code",
   "execution_count": 231,
   "metadata": {},
   "outputs": [
    {
     "data": {
      "image/png": "[encoded data removed]",
      "text/plain": [
       "<Figure size 432x288 with 1 Axes>"
      ]
     },
     "metadata": {
      "needs_background": "light"
     },
     "output_type": "display_data"
    }
   ],
   "source": [
    "average_mae_history = [\n",
    "np.mean([x[i] for x in all_mae_histories]) for i in range(num_epochs)]\n",
    "plt.plot(range(1, len(average_mae_history) + 1), average_mae_history)\n",
    "plt.xlabel('Epochs')\n",
    "plt.ylabel('Validation MAE')\n",
    "plt.show()"
   ]
  },
  {
   "cell_type": "code",
   "execution_count": 234,
   "metadata": {},
   "outputs": [
    {
     "data": {
      "image/png": "[encoded data removed]",
      "text/plain": [
       "<Figure size 432x288 with 1 Axes>"
      ]
     },
     "metadata": {
      "needs_background": "light"
     },
     "output_type": "display_data"
    }
   ],
   "source": [
    "def smooth_curve(points, factor=0.9):\n",
    "    smoothed_points = []\n",
    "    for point in points:\n",
    "        if smoothed_points:\n",
    "            previous = smoothed_points[-1]\n",
    "            smoothed_points.append(previous * factor + point * (1 - factor))\n",
    "        else:\n",
    "            smoothed_points.append(point)\n",
    "    return smoothed_points\n",
    "smooth_mae_history = smooth_curve(average_mae_history[10:])\n",
    "plt.plot(range(1, len(smooth_mae_history) + 1), smooth_mae_history)\n",
    "plt.xlabel('Epochs')\n",
    "plt.ylabel('Validation MAE')\n",
    "plt.show()"
   ]
  },
  {
   "cell_type": "code",
   "execution_count": null,
   "metadata": {},
   "outputs": [],
   "source": []
  }
 ],
 "metadata": {
  "kernelspec": {
   "display_name": "conda_python3",
   "language": "python",
   "name": "conda_python3"
  },
  "language_info": {
   "codemirror_mode": {
    "name": "ipython",
    "version": 3
   },
   "file_extension": ".py",
   "mimetype": "text/x-python",
   "name": "python",
   "nbconvert_exporter": "python",
   "pygments_lexer": "ipython3",
   "version": "3.6.5"
  }
 },
 "nbformat": 4,
 "nbformat_minor": 4
}
