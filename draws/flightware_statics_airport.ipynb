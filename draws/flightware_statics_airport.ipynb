{
  "cells": [
    {
      "cell_type": "markdown",
      "source": [
        "# FlightAware Statistics\n",
        "The notebook intends to leverage flightaware raw data and generate the turnaround statisitcs by building data engineering pipelines."
      ],
      "metadata": {}
    },
    {
      "cell_type": "code",
      "source": [
        "import sys\n",
        "from pyspark.sql import functions as F\n",
        "from pyspark.sql import SparkSession, Window\n",
        "import numpy as np"
      ],
      "outputs": [
        {
          "output_type": "stream",
          "name": "stdout",
          "text": [
            "Starting Spark application\n"
          ]
        },
        {
          "output_type": "display_data",
          "data": {
            "text/html": [
              "<table>\n",
              "<tr><th>ID</th><th>YARN Application ID</th><th>Kind</th><th>State</th><th>Spark UI</th><th>Driver log</th><th>Current session?</th></tr><tr><td>1</td><td>application_1575409633942_0002</td><td>pyspark3</td><td>idle</td><td></td><td></td><td>✔</td></tr></table>"
            ],
            "text/plain": [
              "<IPython.core.display.HTML object>"
            ]
          },
          "metadata": {}
        },
        {
          "output_type": "stream",
          "name": "stdout",
          "text": [
            "SparkSession available as 'spark'.\n"
          ]
        }
      ],
      "execution_count": 1,
      "metadata": {
        "ExecuteTime": {
          "end_time": "2019-11-25T22:04:46.958125Z",
          "start_time": "2019-11-25T22:04:28.172486Z"
        },
        "trusted": false
      }
    },
    {
      "cell_type": "code",
      "source": [
        "# prepare airline code schema\n",
        "df_airline = spark.read.format(\"csv\").option(\"header\", \"true\").option(\"delimiter\", \",\").option(\"encoding\", \"utf-8\").load(\"s3://sita-coe-ds-dev-v1/jupyter/jovyan/airlines_openflight.csv\")\n",
        "df_airline = df_airline.dropna(how = 'any',  subset = ['icao'])\n",
        "df_airline = df_airline.dropDuplicates(subset = ['icao'])"
      ],
      "outputs": [],
      "execution_count": 4,
      "metadata": {
        "ExecuteTime": {
          "end_time": "2019-11-25T22:06:30.919696Z",
          "start_time": "2019-11-25T22:06:29.686918Z"
        },
        "trusted": false
      }
    },
    {
      "cell_type": "code",
      "source": [
        "# prepare airport code schema\n",
        "df_airport = spark.read.format(\"csv\").option(\"header\", \"true\").option(\"delimiter\", \",\").option(\"encoding\", \"utf-8\").load(\"s3://sita-coe-ds-dev-v1/jupyter/jovyan/airports_openflight_wgeo.csv\")\n",
        "df_airport = df_airport.dropna(how = 'any',  subset = ['icao'])\n",
        "df_airport = df_airport.dropDuplicates(subset = ['icao'])"
      ],
      "outputs": [],
      "execution_count": 5,
      "metadata": {
        "ExecuteTime": {
          "end_time": "2019-11-25T22:06:35.364580Z",
          "start_time": "2019-11-25T22:06:33.124370Z"
        },
        "trusted": false
      }
    },
    {
      "cell_type": "code",
      "source": [
        "#total_count = df_ta.agg(F.count('facility_name')).first()[0]\n",
        "#df_ta.groupBy('facility_name').agg((100*F.count('facility_name')/total_count).alias('facility_count')).orderBy('facility_count', ascending = False).show(200)"
      ],
      "outputs": [],
      "execution_count": 6,
      "metadata": {
        "ExecuteTime": {
          "end_time": "2019-11-25T22:06:28.729438Z",
          "start_time": "2019-11-25T22:06:28.713116Z"
        },
        "trusted": false
      }
    },
    {
      "cell_type": "markdown",
      "source": [
        "## Departure Table"
      ],
      "metadata": {}
    },
    {
      "cell_type": "code",
      "source": [
        "# Load FA data from predifined table and create TempView\n",
        "spark = SparkSession.builder.getOrCreate()\n",
        "df = spark.read.load(\"s3://sita-coe-ds-prod-v1/mart/flightaware/der_departure_latest\")\n",
        "df.createOrReplaceTempView(\"der_dep\")"
      ],
      "outputs": [],
      "execution_count": 7,
      "metadata": {
        "ExecuteTime": {
          "end_time": "2019-11-25T22:05:09.540177Z",
          "start_time": "2019-11-25T22:04:50.217354Z"
        },
        "trusted": false
      }
    },
    {
      "cell_type": "code",
      "source": [
        "# filter der table by ident (i.e., null, helicopter, private jet etc.)\n",
        "df_departure = spark.sql(\"\"\"\n",
        "               SELECT id, id_timestamp, reg, ident, orig, dest FROM der_dep\n",
        "               WHERE ident is not null\n",
        "               AND ident != reg\n",
        "               AND id is not null\n",
        "               AND ident RLIKE '[A-Z][A-Z][A-Z]'\n",
        "               AND orig RLIKE '[A-Z][A-Z][A-Z][A-Z]'\n",
        "               AND dest RLIKE '[A-Z][A-Z][A-Z][A-Z]'\n",
        "               \"\"\")\n",
        "df_departure = df_departure.dropDuplicates()"
      ],
      "outputs": [],
      "execution_count": 8,
      "metadata": {
        "ExecuteTime": {
          "end_time": "2019-11-25T22:10:10.477465Z",
          "start_time": "2019-11-25T22:06:48.550053Z"
        },
        "trusted": false
      }
    },
    {
      "cell_type": "code",
      "source": [
        "# create year column (i.e., year 2017, 2018, 2019)\n",
        "df_departure = df_departure.withColumn('year', F.year(F.date_trunc('year', df_departure.id_timestamp))).withColumn('quarter', F.quarter(F.date_trunc('quarter', df_departure.id_timestamp))).withColumn('month', F.month(F.date_trunc('mon', df_departure.id_timestamp))).withColumn('year-mon',  F.date_format(F.col('id_timestamp'), 'yyyy-MM'))"
      ],
      "outputs": [],
      "execution_count": 9,
      "metadata": {
        "ExecuteTime": {
          "end_time": "2019-11-25T22:10:31.318565Z",
          "start_time": "2019-11-25T22:10:31.097049Z"
        },
        "trusted": false
      }
    },
    {
      "cell_type": "code",
      "source": [
        "# derive and filter airline code \n",
        "df_departure = df_departure.withColumn(\"dep_airline_code\", df_departure.ident.substr(0,3))\n",
        "# join airline code\n",
        "df_departure = df_departure.join(F.broadcast(df_airline), df_departure.dep_airline_code == df_airline.icao, 'left').drop('alias', 'icao', 'callsign', 'iata', 'active')\n",
        "df_departure = df_departure.withColumnRenamed('country', 'dep_airline_country')\n",
        "# join airport code\n",
        "df_departure = df_departure.join(F.broadcast(df_airport), df_departure.orig == df_airport.icao, 'left').drop('iata', 'icao', 'type', 'source')\n",
        "df_departure = df_departure.withColumnRenamed('airport', 'dep_airport').withColumnRenamed('GEO', 'dep_geo').withColumnRenamed('city', 'dep_city').withColumnRenamed('country', 'dep_country').withColumnRenamed('latitude', 'dep_lat').withColumnRenamed('longitude', 'dep_lon').withColumnRenamed('altitude', 'dep_alt').withColumnRenamed('dst', 'dep_dst').withColumnRenamed('tz_database', 'dep_tz')\n",
        "df_departure = df_departure.filter('(dep_airport is not null) and (dep_city is not null) and (orig is not null) and (dep_airport is not null)')"
      ],
      "outputs": [],
      "execution_count": 10,
      "metadata": {
        "ExecuteTime": {
          "end_time": "2019-11-25T22:10:46.308579Z",
          "start_time": "2019-11-25T22:10:46.086344Z"
        },
        "trusted": false
      }
    },
    {
      "cell_type": "code",
      "source": [
        "# total number of (unique) flight per SITA GEO\n",
        "df_dep_perairport = df_departure.groupBy('dep_country', 'dep_city','orig', 'dep_airport', 'year', 'quarter', 'month', 'year-mon').agg(F.countDistinct('id').alias('count')).cache()\n",
        "df_dep_perairport = df_dep_perairport.repartition(1)"
      ],
      "outputs": [],
      "execution_count": 11,
      "metadata": {
        "trusted": false
      }
    },
    {
      "cell_type": "code",
      "source": [
        "df_dep_perairport_yearly = df_dep_perairport.groupBy('dep_country', 'dep_city','orig', 'dep_airport').pivot('year').agg(F.sum('count'))\n",
        "df_dep_perairport_yearmon = df_dep_perairport.groupBy('dep_country', 'dep_city','orig', 'dep_airport').pivot('year-mon').agg(F.first('count'))\n",
        "df_dep_perairport_merge = df_dep_perairport_yearly.join(df_dep_perairport_yearmon, ['dep_country', 'dep_city','orig', 'dep_airport'], 'inner')\n",
        "df_dep_perairport.unpersist()"
      ],
      "outputs": [
        {
          "output_type": "stream",
          "name": "stdout",
          "text": [
            "DataFrame[dep_geo: string, year: int, month: int, year-mon: string, count: bigint]"
          ]
        }
      ],
      "execution_count": 12,
      "metadata": {
        "trusted": false
      }
    },
    {
      "cell_type": "markdown",
      "source": [
        "## Arrival Table"
      ],
      "metadata": {}
    },
    {
      "cell_type": "code",
      "source": [
        "# Load FA data from predifined table and create TempView\n",
        "spark = SparkSession.builder.getOrCreate()\n",
        "df = spark.read.load(\"s3://sita-coe-ds-prod-v1/mart/flightaware/der_arrival_latest\")\n",
        "df.createOrReplaceTempView(\"der_arr\")"
      ],
      "outputs": [],
      "execution_count": 13,
      "metadata": {
        "trusted": false
      }
    },
    {
      "cell_type": "code",
      "source": [
        "# filter der table by ident (i.e., null, helicopter, private jet etc.)\n",
        "df_arrival = spark.sql(\"\"\"\n",
        "               SELECT id, id_timestamp, reg, ident, dest, orig FROM der_arr\n",
        "               WHERE ident is not null\n",
        "               AND ident != reg\n",
        "               AND id is not null\n",
        "               AND ident RLIKE '[A-Z][A-Z][A-Z]'\n",
        "               AND dest RLIKE '[A-Z][A-Z][A-Z][A-Z]'\n",
        "               AND orig RLIKE '[A-Z][A-Z][A-Z][A-Z]'\n",
        "               \"\"\")\n",
        "df_arrival = df_arrival.dropDuplicates()"
      ],
      "outputs": [],
      "execution_count": 14,
      "metadata": {
        "ExecuteTime": {
          "end_time": "2019-11-24T00:23:10.866892Z",
          "start_time": "2019-11-24T00:19:36.675811Z"
        },
        "trusted": false
      }
    },
    {
      "cell_type": "code",
      "source": [
        "# create year column (i.e., year 2017, 2018, 2019)\n",
        "df_arrival = df_arrival.withColumn('year', F.year(F.date_trunc('year', df_arrival.id_timestamp))).withColumn('quarter', F.quarter(F.date_trunc('quarter', df_departure.id_timestamp))).withColumn('month', F.month(F.date_trunc('mon', df_arrival.id_timestamp))).withColumn('year-mon',  F.date_format(F.col('id_timestamp'), 'yyyy-MM'))"
      ],
      "outputs": [],
      "execution_count": 15,
      "metadata": {
        "ExecuteTime": {
          "end_time": "2019-11-24T00:24:27.370629Z",
          "start_time": "2019-11-24T00:24:27.141771Z"
        },
        "trusted": false
      }
    },
    {
      "cell_type": "code",
      "source": [
        "# derive and filter airline code \n",
        "df_arrival = df_arrival.withColumn(\"arr_airline_code\", df_arrival.ident.substr(0,3))\n",
        "# join airline code\n",
        "df_arrival = df_arrival.join(df_airline, df_arrival.arr_airline_code == df_airline.icao, 'left').drop('alias', 'icao', 'callsign', 'iata', 'active')\n",
        "df_arrival = df_arrival.withColumnRenamed('country', 'arr_airline_country')\n",
        "# join airport code\n",
        "df_arrival = df_arrival.join(df_airport, df_arrival.dest == df_airport.icao, 'left').drop('iata', 'icao', 'type', 'source')\n",
        "df_arrival = df_arrival.withColumnRenamed('airport', 'arr_airport').withColumnRenamed('GEO', 'arr_geo').withColumnRenamed('city', 'arr_city').withColumnRenamed('country', 'arr_country').withColumnRenamed('latitude', 'arr_lat').withColumnRenamed('longitude', 'arr_lon').withColumnRenamed('altitude', 'arr_alt').withColumnRenamed('dst', 'arr_dst').withColumnRenamed('tz_database', 'arr_tz')\n",
        "df_arrival = df_arrival.filter('(arr_country is not null) and (dest is not null) and (arr_city is not null) and (arr_airport is not null)')"
      ],
      "outputs": [],
      "execution_count": 16,
      "metadata": {
        "ExecuteTime": {
          "end_time": "2019-11-24T00:24:30.475802Z",
          "start_time": "2019-11-24T00:24:30.248439Z"
        },
        "trusted": false
      }
    },
    {
      "cell_type": "code",
      "source": [
        "# total number of (unique) flight per SITA GEO\n",
        "df_arr_perairport = df_arrival.groupBy('arr_country', 'arr_city','dest', 'arr_airport', 'year', 'quarter', 'month', 'year-mon').agg(F.countDistinct('id').alias('count')).cache()\n",
        "df_arr_perairport = df_arr_perairport.repartition(1)"
      ],
      "outputs": [],
      "execution_count": 17,
      "metadata": {
        "ExecuteTime": {
          "end_time": "2019-11-24T00:28:37.321709Z",
          "start_time": "2019-11-24T00:24:33.097914Z"
        },
        "trusted": false
      }
    },
    {
      "cell_type": "code",
      "source": [
        "df_arr_perairport_yearly = df_arr_perairport.groupBy('arr_country', 'arr_city','dest', 'arr_airport').pivot('year').agg(F.sum('count'))\n",
        "df_arr_perairport_yearmon = df_arr_perairport.groupBy('arr_country', 'arr_city','dest', 'arr_airport').pivot('year-mon').agg(F.first('count'))\n",
        "df_arr_perairport_merge = df_arr_perairport_yearly.join(df_arr_perairport_yearmon, ['arr_country', 'arr_city','dest', 'arr_airport'], 'inner')\n",
        "df_arr_perairport.unpersist()"
      ],
      "outputs": [
        {
          "output_type": "stream",
          "name": "stdout",
          "text": [
            "DataFrame[arr_geo: string, year: int, month: int, year-mon: string, count: bigint]"
          ]
        }
      ],
      "execution_count": 18,
      "metadata": {
        "trusted": false
      }
    },
    {
      "cell_type": "markdown",
      "source": [
        "## Combined Table"
      ],
      "metadata": {}
    },
    {
      "cell_type": "code",
      "source": [
        "df_dep_perairport_merge.show()"
      ],
      "outputs": [
        {
          "output_type": "stream",
          "name": "stdout",
          "text": [
            "+-----------+--------+--------+--------+-----------+-----------+-----------+-----------+-----------+-----------+-----------+-----------+-----------+-----------+-----------+-----------+-----------+-----------+-----------+-----------+-----------+-----------+-----------+-----------+-----------+-----------+-----------+-----------+-----------+-----------+-----------+-----------+-----------+-----------+-----------+-----------+-----------+-----------+\n",
            "|dep_geo_dep|2017_dep|2018_dep|2019_dep|2017-02_dep|2017-03_dep|2017-04_dep|2017-05_dep|2017-06_dep|2017-07_dep|2017-08_dep|2017-09_dep|2017-10_dep|2017-11_dep|2017-12_dep|2018-01_dep|2018-02_dep|2018-03_dep|2018-04_dep|2018-05_dep|2018-06_dep|2018-07_dep|2018-08_dep|2018-09_dep|2018-10_dep|2018-11_dep|2018-12_dep|2019-01_dep|2019-02_dep|2019-03_dep|2019-04_dep|2019-05_dep|2019-06_dep|2019-07_dep|2019-08_dep|2019-09_dep|2019-10_dep|2019-11_dep|\n",
            "+-----------+--------+--------+--------+-----------+-----------+-----------+-----------+-----------+-----------+-----------+-----------+-----------+-----------+-----------+-----------+-----------+-----------+-----------+-----------+-----------+-----------+-----------+-----------+-----------+-----------+-----------+-----------+-----------+-----------+-----------+-----------+-----------+-----------+-----------+-----------+-----------+-----------+\n",
            "|       AMER| 8339775|13192070|12081894|          2|     628460|     697518|     542044|     578348|     614141|    1082079|    1011309|    1070279|    1031218|    1084377|    1054512|     959309|    1106053|    1077969|    1122450|    1114087|    1177594|    1158425|    1089645|    1132745|    1073672|    1125609|    1093967|     999145|    1164233|    1116378|    1150618|    1156968|    1222315|    1201660|    1125010|    1171329|     680271|\n",
            "|       MEIA| 1788043| 2247930| 2246566|       null|      96298|     177931|     184185|     180245|     201455|     208504|     199178|     189543|     171811|     178893|     179025|     161676|     179182|     185767|     190970|     196305|     209362|     209760|     195106|     190408|     173461|     176908|     191214|     172234|     200089|     203458|     209840|     225831|     240319|     243329|     224081|     219653|     116518|\n",
            "|       APAC| 6684065| 8472287| 7562124|       null|     385207|     638413|     651459|     641968|     710247|     748321|     726303|     749638|     701314|     731195|     726313|     676069|     706296|     696462|     706865|     696768|     726887|     732485|     694228|     728730|     692280|     688904|     701754|     656609|     713129|     689782|     708522|     698289|     738054|     745669|     716388|     746801|     447127|\n",
            "|       EURO| 4880430| 6067719| 6198430|       null|     255034|     485512|     516554|     516715|     571323|     587153|     565943|     518647|     429993|     433556|     439651|     401670|     442203|     502011|     535939|     550053|     578186|     578990|     568081|     538483|     458309|     474143|     506604|     470237|     523032|     543457|     607587|     636845|     672822|     676318|     646945|     606995|     307588|\n",
            "+-----------+--------+--------+--------+-----------+-----------+-----------+-----------+-----------+-----------+-----------+-----------+-----------+-----------+-----------+-----------+-----------+-----------+-----------+-----------+-----------+-----------+-----------+-----------+-----------+-----------+-----------+-----------+-----------+-----------+-----------+-----------+-----------+-----------+-----------+-----------+-----------+-----------+"
          ]
        }
      ],
      "execution_count": 20,
      "metadata": {
        "trusted": false
      }
    },
    {
      "cell_type": "code",
      "source": [
        "dep_column_name_list = list(map(lambda x: x+'_dep', df_dep_perairport_merge.columns))\n",
        "df_dep_perairport_merge = df_dep_perairport_merge.toDF(*dep_column_name_list)\n",
        "df_dep_perairport_merge = df_dep_perairport_merge.withColumnRenamed('dep_country_dep', 'country').withColumnRenamed('dep_city_dep', 'city').withColumnRenamed('orig_dep', 'icao').withColumnRenamed('dep_airport_dep', 'airport')\n",
        "arr_column_name_list = list(map(lambda x: x+'_arr', df_arr_percountry_merge.columns))\n",
        "df_arr_perairport_merge = df_arr_perairport_merge.toDF(*arr_column_name_list)\n",
        "df_arr_perairport_merge = df_arr_perairport_merge.withColumnRenamed('arr_country_arr', 'country').withColumnRenamed('arr_city_arr', 'city').withColumnRenamed('dest_arr', 'icao').withColumnRenamed('arr_airport_arr', 'airport')\n",
        "df_perairport_combined = df_dep_perairport_merge.join(df_arr_perairport_merge, ['country', 'city', 'icao', 'airport'], 'inner' )"
      ],
      "outputs": [],
      "execution_count": 21,
      "metadata": {
        "ExecuteTime": {
          "end_time": "2019-11-22T21:06:08.909093Z",
          "start_time": "2019-11-22T21:00:32.416708Z"
        },
        "trusted": false
      }
    },
    {
      "cell_type": "markdown",
      "source": [
        "## Appendix"
      ],
      "metadata": {}
    },
    {
      "cell_type": "code",
      "source": [
        "df_perairport_combined.repartition(1).write.format('csv').option('header', 'true').option(\"encoding\", \"utf-8\").save('s3://sita-coe-ds-dev-v1/stats/perairport_full')"
      ],
      "outputs": [],
      "execution_count": 25,
      "metadata": {
        "trusted": false
      }
    }
  ],
  "metadata": {
    "kernelspec": {
      "name": "pyspark3kernel",
      "display_name": "PySpark3",
      "language": ""
    },
    "language_info": {
      "name": "pyspark3",
      "mimetype": "text/x-python",
      "codemirror_mode": {
        "name": "python",
        "version": 3
      },
      "pygments_lexer": "python3"
    },
    "varInspector": {
      "cols": {
        "lenName": 16,
        "lenType": 16,
        "lenVar": 40
      },
      "kernels_config": {
        "python": {
          "delete_cmd_postfix": "",
          "delete_cmd_prefix": "del ",
          "library": "var_list.py",
          "varRefreshCmd": "print(var_dic_list())"
        },
        "r": {
          "delete_cmd_postfix": ") ",
          "delete_cmd_prefix": "rm(",
          "library": "var_list.r",
          "varRefreshCmd": "cat(var_dic_list()) "
        }
      },
      "types_to_exclude": [
        "module",
        "function",
        "builtin_function_or_method",
        "instance",
        "_Feature"
      ],
      "window_display": false
    },
    "nteract": {
      "version": "0.15.0"
    }
  },
  "nbformat": 4,
  "nbformat_minor": 2
}