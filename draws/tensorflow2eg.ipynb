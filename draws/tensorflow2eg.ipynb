{
 "cells": [
  {
   "cell_type": "code",
   "execution_count": 1,
   "metadata": {},
   "outputs": [],
   "source": [
    "import tensorflow as tf\n"
   ]
  },
  {
   "cell_type": "code",
   "execution_count": 2,
   "metadata": {},
   "outputs": [
    {
     "name": "stdout",
     "output_type": "stream",
     "text": [
      "2.0.0\n"
     ]
    }
   ],
   "source": [
    "print(tf.__version__)"
   ]
  },
  {
   "cell_type": "code",
   "execution_count": 3,
   "metadata": {},
   "outputs": [
    {
     "name": "stdout",
     "output_type": "stream",
     "text": [
      "tf.Tensor(b'Hello world!', shape=(), dtype=string)\n"
     ]
    }
   ],
   "source": [
    "a = tf.constant(\"Hello world!\")\n",
    "print(a)"
   ]
  },
  {
   "cell_type": "code",
   "execution_count": 33,
   "metadata": {},
   "outputs": [
    {
     "name": "stdout",
     "output_type": "stream",
     "text": [
      "tf.Tensor(1.0, shape=(), dtype=float32)\n",
      "tf.Tensor([1. 1.], shape=(2,), dtype=float32)\n",
      "tf.Tensor([[3.]], shape=(1, 1), dtype=float32)\n"
     ]
    }
   ],
   "source": [
    "def f(x): return tf.multiply(x, 1.)\n",
    "scalar = tf.constant(1.0)\n",
    "vector = tf.constant([1.0, 1.0])\n",
    "matrix = tf.constant([[3.0]])\n",
    "print(f(scalar))\n",
    "print(f(vector))\n",
    "print(f(matrix))"
   ]
  },
  {
   "cell_type": "code",
   "execution_count": 5,
   "metadata": {},
   "outputs": [],
   "source": [
    "n_input = 4\n",
    "n_output = 3\n",
    "n_hidden = 10\n",
    "#hyperparameter\n",
    "learning_rate = 0.01\n",
    "training_epochs = 2000\n",
    "display_steps = 200"
   ]
  },
  {
   "cell_type": "code",
   "execution_count": 11,
   "metadata": {},
   "outputs": [],
   "source": [
    "\n",
    "# Getting data\n",
    "from sklearn.datasets import load_iris\n",
    "from sklearn.model_selection import train_test_split\n",
    "from sklearn.preprocessing import OneHotEncoder\n",
    "iris_data = load_iris() # load the iris dataset\n",
    "x = iris_data.data\n",
    "y_ = iris_data.target.reshape(-1, 1) # Convert data to a single column\n",
    "# One Hot encode the class labels\n",
    "encoder = OneHotEncoder(sparse=False,categories='auto')\n",
    "y = encoder.fit_transform(y_)\n",
    "train_x, test_x, train_y, test_y = train_test_split(x,y, test_size=0.20)"
   ]
  },
  {
   "cell_type": "code",
   "execution_count": 12,
   "metadata": {},
   "outputs": [
    {
     "name": "stdout",
     "output_type": "stream",
     "text": [
      "Neural Network Model Summary: \n",
      "Model: \"sequential\"\n",
      "_________________________________________________________________\n",
      "Layer (type)                 Output Shape              Param #   \n",
      "=================================================================\n",
      "fc1 (Dense)                  (None, 10)                50        \n",
      "_________________________________________________________________\n",
      "output (Dense)               (None, 3)                 33        \n",
      "=================================================================\n",
      "Total params: 83\n",
      "Trainable params: 83\n",
      "Non-trainable params: 0\n",
      "_________________________________________________________________\n",
      "None\n"
     ]
    }
   ],
   "source": [
    "# Build the model\n",
    "model = tf.keras.Sequential()\n",
    "model.add(tf.keras.layers.Dense(n_hidden,input_shape=(n_input,), activation='relu',name='fc1'))\n",
    "model.add(tf.keras.layers.Dense(n_output,activation='softmax', name='output'))\n",
    "# Adam optimizer with learning rate of 0.001\n",
    "optimizer = tf.keras.optimizers.Adam(lr=0.001)\n",
    "model.compile(optimizer,loss='categorical_crossentropy', metrics=['accuracy'])\n",
    "print('Neural Network Model Summary: ')\n",
    "print(model.summary())\n"
   ]
  },
  {
   "cell_type": "code",
   "execution_count": 13,
   "metadata": {},
   "outputs": [
    {
     "name": "stdout",
     "output_type": "stream",
     "text": [
      "Train on 120 samples\n",
      "Epoch 1/200\n",
      "120/120 - 1s - loss: 3.9549 - accuracy: 0.3250\n",
      "Epoch 2/200\n",
      "120/120 - 0s - loss: 3.0407 - accuracy: 0.3250\n",
      "Epoch 3/200\n",
      "120/120 - 0s - loss: 2.2592 - accuracy: 0.3250\n",
      "Epoch 4/200\n",
      "120/120 - 0s - loss: 1.6966 - accuracy: 0.3250\n",
      "Epoch 5/200\n",
      "120/120 - 0s - loss: 1.3123 - accuracy: 0.3750\n",
      "Epoch 6/200\n",
      "120/120 - 0s - loss: 1.0670 - accuracy: 0.6667\n",
      "Epoch 7/200\n",
      "120/120 - 0s - loss: 0.9176 - accuracy: 0.6750\n",
      "Epoch 8/200\n",
      "120/120 - 0s - loss: 0.8358 - accuracy: 0.6750\n",
      "Epoch 9/200\n",
      "120/120 - 0s - loss: 0.7968 - accuracy: 0.6917\n",
      "Epoch 10/200\n",
      "120/120 - 0s - loss: 0.7670 - accuracy: 0.7083\n",
      "Epoch 11/200\n",
      "120/120 - 0s - loss: 0.7472 - accuracy: 0.7167\n",
      "Epoch 12/200\n",
      "120/120 - 0s - loss: 0.7280 - accuracy: 0.7333\n",
      "Epoch 13/200\n",
      "120/120 - 0s - loss: 0.7111 - accuracy: 0.7917\n",
      "Epoch 14/200\n",
      "120/120 - 0s - loss: 0.6924 - accuracy: 0.8000\n",
      "Epoch 15/200\n",
      "120/120 - 0s - loss: 0.6743 - accuracy: 0.7917\n",
      "Epoch 16/200\n",
      "120/120 - 0s - loss: 0.6594 - accuracy: 0.7417\n",
      "Epoch 17/200\n",
      "120/120 - 0s - loss: 0.6468 - accuracy: 0.8500\n",
      "Epoch 18/200\n",
      "120/120 - 0s - loss: 0.6249 - accuracy: 0.8583\n",
      "Epoch 19/200\n",
      "120/120 - 0s - loss: 0.6114 - accuracy: 0.8333\n",
      "Epoch 20/200\n",
      "120/120 - 0s - loss: 0.5958 - accuracy: 0.8583\n",
      "Epoch 21/200\n",
      "120/120 - 0s - loss: 0.5829 - accuracy: 0.8833\n",
      "Epoch 22/200\n",
      "120/120 - 0s - loss: 0.5674 - accuracy: 0.8500\n",
      "Epoch 23/200\n",
      "120/120 - 0s - loss: 0.5538 - accuracy: 0.8750\n",
      "Epoch 24/200\n",
      "120/120 - 0s - loss: 0.5424 - accuracy: 0.8833\n",
      "Epoch 25/200\n",
      "120/120 - 0s - loss: 0.5305 - accuracy: 0.9000\n",
      "Epoch 26/200\n",
      "120/120 - 0s - loss: 0.5182 - accuracy: 0.8833\n",
      "Epoch 27/200\n",
      "120/120 - 0s - loss: 0.5059 - accuracy: 0.9000\n",
      "Epoch 28/200\n",
      "120/120 - 0s - loss: 0.4935 - accuracy: 0.9000\n",
      "Epoch 29/200\n",
      "120/120 - 0s - loss: 0.4839 - accuracy: 0.9250\n",
      "Epoch 30/200\n",
      "120/120 - 0s - loss: 0.4738 - accuracy: 0.9167\n",
      "Epoch 31/200\n",
      "120/120 - 0s - loss: 0.4634 - accuracy: 0.9000\n",
      "Epoch 32/200\n",
      "120/120 - 0s - loss: 0.4562 - accuracy: 0.9333\n",
      "Epoch 33/200\n",
      "120/120 - 0s - loss: 0.4471 - accuracy: 0.9083\n",
      "Epoch 34/200\n",
      "120/120 - 0s - loss: 0.4373 - accuracy: 0.9083\n",
      "Epoch 35/200\n",
      "120/120 - 0s - loss: 0.4294 - accuracy: 0.9583\n",
      "Epoch 36/200\n",
      "120/120 - 0s - loss: 0.4241 - accuracy: 0.9083\n",
      "Epoch 37/200\n",
      "120/120 - 0s - loss: 0.4113 - accuracy: 0.9500\n",
      "Epoch 38/200\n",
      "120/120 - 0s - loss: 0.4042 - accuracy: 0.9667\n",
      "Epoch 39/200\n",
      "120/120 - 0s - loss: 0.3973 - accuracy: 0.9333\n",
      "Epoch 40/200\n",
      "120/120 - 0s - loss: 0.3892 - accuracy: 0.9583\n",
      "Epoch 41/200\n",
      "120/120 - 0s - loss: 0.3818 - accuracy: 0.9667\n",
      "Epoch 42/200\n",
      "120/120 - 0s - loss: 0.3741 - accuracy: 0.9500\n",
      "Epoch 43/200\n",
      "120/120 - 0s - loss: 0.3670 - accuracy: 0.9667\n",
      "Epoch 44/200\n",
      "120/120 - 0s - loss: 0.3604 - accuracy: 0.9750\n",
      "Epoch 45/200\n",
      "120/120 - 0s - loss: 0.3538 - accuracy: 0.9667\n",
      "Epoch 46/200\n",
      "120/120 - 0s - loss: 0.3483 - accuracy: 0.9667\n",
      "Epoch 47/200\n",
      "120/120 - 0s - loss: 0.3419 - accuracy: 0.9500\n",
      "Epoch 48/200\n",
      "120/120 - 0s - loss: 0.3358 - accuracy: 0.9750\n",
      "Epoch 49/200\n",
      "120/120 - 0s - loss: 0.3287 - accuracy: 0.9667\n",
      "Epoch 50/200\n",
      "120/120 - 0s - loss: 0.3215 - accuracy: 0.9667\n",
      "Epoch 51/200\n",
      "120/120 - 0s - loss: 0.3154 - accuracy: 0.9750\n",
      "Epoch 52/200\n",
      "120/120 - 0s - loss: 0.3088 - accuracy: 0.9750\n",
      "Epoch 53/200\n",
      "120/120 - 0s - loss: 0.3047 - accuracy: 0.9667\n",
      "Epoch 54/200\n",
      "120/120 - 0s - loss: 0.3001 - accuracy: 0.9667\n",
      "Epoch 55/200\n",
      "120/120 - 0s - loss: 0.2928 - accuracy: 0.9750\n",
      "Epoch 56/200\n",
      "120/120 - 0s - loss: 0.2875 - accuracy: 0.9667\n",
      "Epoch 57/200\n",
      "120/120 - 0s - loss: 0.2841 - accuracy: 0.9750\n",
      "Epoch 58/200\n",
      "120/120 - 0s - loss: 0.2783 - accuracy: 0.9750\n",
      "Epoch 59/200\n",
      "120/120 - 0s - loss: 0.2732 - accuracy: 0.9750\n",
      "Epoch 60/200\n",
      "120/120 - 0s - loss: 0.2677 - accuracy: 0.9667\n",
      "Epoch 61/200\n",
      "120/120 - 0s - loss: 0.2623 - accuracy: 0.9750\n",
      "Epoch 62/200\n",
      "120/120 - 0s - loss: 0.2579 - accuracy: 0.9750\n",
      "Epoch 63/200\n",
      "120/120 - 0s - loss: 0.2547 - accuracy: 0.9667\n",
      "Epoch 64/200\n",
      "120/120 - 0s - loss: 0.2499 - accuracy: 0.9750\n",
      "Epoch 65/200\n",
      "120/120 - 0s - loss: 0.2468 - accuracy: 0.9750\n",
      "Epoch 66/200\n",
      "120/120 - 0s - loss: 0.2404 - accuracy: 0.9667\n",
      "Epoch 67/200\n",
      "120/120 - 0s - loss: 0.2383 - accuracy: 0.9667\n",
      "Epoch 68/200\n",
      "120/120 - 0s - loss: 0.2348 - accuracy: 0.9750\n",
      "Epoch 69/200\n",
      "120/120 - 0s - loss: 0.2303 - accuracy: 0.9750\n",
      "Epoch 70/200\n",
      "120/120 - 0s - loss: 0.2271 - accuracy: 0.9667\n",
      "Epoch 71/200\n",
      "120/120 - 0s - loss: 0.2206 - accuracy: 0.9833\n",
      "Epoch 72/200\n",
      "120/120 - 0s - loss: 0.2196 - accuracy: 0.9667\n",
      "Epoch 73/200\n",
      "120/120 - 0s - loss: 0.2150 - accuracy: 0.9750\n",
      "Epoch 74/200\n",
      "120/120 - 0s - loss: 0.2129 - accuracy: 0.9667\n",
      "Epoch 75/200\n",
      "120/120 - 0s - loss: 0.2120 - accuracy: 0.9667\n",
      "Epoch 76/200\n",
      "120/120 - 0s - loss: 0.2064 - accuracy: 0.9750\n",
      "Epoch 77/200\n",
      "120/120 - 0s - loss: 0.2025 - accuracy: 0.9750\n",
      "Epoch 78/200\n",
      "120/120 - 0s - loss: 0.2001 - accuracy: 0.9667\n",
      "Epoch 79/200\n",
      "120/120 - 0s - loss: 0.1962 - accuracy: 0.9667\n",
      "Epoch 80/200\n",
      "120/120 - 0s - loss: 0.1935 - accuracy: 0.9667\n",
      "Epoch 81/200\n",
      "120/120 - 0s - loss: 0.1922 - accuracy: 0.9667\n",
      "Epoch 82/200\n",
      "120/120 - 0s - loss: 0.1889 - accuracy: 0.9833\n",
      "Epoch 83/200\n",
      "120/120 - 0s - loss: 0.1851 - accuracy: 0.9833\n",
      "Epoch 84/200\n",
      "120/120 - 0s - loss: 0.1815 - accuracy: 0.9667\n",
      "Epoch 85/200\n",
      "120/120 - 0s - loss: 0.1784 - accuracy: 0.9833\n",
      "Epoch 86/200\n",
      "120/120 - 0s - loss: 0.1767 - accuracy: 0.9833\n",
      "Epoch 87/200\n",
      "120/120 - 0s - loss: 0.1754 - accuracy: 0.9750\n",
      "Epoch 88/200\n",
      "120/120 - 0s - loss: 0.1724 - accuracy: 0.9750\n",
      "Epoch 89/200\n",
      "120/120 - 0s - loss: 0.1738 - accuracy: 0.9667\n",
      "Epoch 90/200\n",
      "120/120 - 0s - loss: 0.1776 - accuracy: 0.9667\n",
      "Epoch 91/200\n",
      "120/120 - 0s - loss: 0.1717 - accuracy: 0.9833\n",
      "Epoch 92/200\n",
      "120/120 - 0s - loss: 0.1704 - accuracy: 0.9750\n",
      "Epoch 93/200\n",
      "120/120 - 0s - loss: 0.1627 - accuracy: 0.9750\n",
      "Epoch 94/200\n",
      "120/120 - 0s - loss: 0.1601 - accuracy: 0.9667\n",
      "Epoch 95/200\n",
      "120/120 - 0s - loss: 0.1562 - accuracy: 0.9667\n",
      "Epoch 96/200\n",
      "120/120 - 0s - loss: 0.1552 - accuracy: 0.9667\n",
      "Epoch 97/200\n",
      "120/120 - 0s - loss: 0.1532 - accuracy: 0.9667\n",
      "Epoch 98/200\n",
      "120/120 - 0s - loss: 0.1520 - accuracy: 0.9667\n",
      "Epoch 99/200\n",
      "120/120 - 0s - loss: 0.1496 - accuracy: 0.9750\n",
      "Epoch 100/200\n",
      "120/120 - 0s - loss: 0.1483 - accuracy: 0.9750\n",
      "Epoch 101/200\n",
      "120/120 - 0s - loss: 0.1448 - accuracy: 0.9750\n",
      "Epoch 102/200\n",
      "120/120 - 0s - loss: 0.1443 - accuracy: 0.9750\n",
      "Epoch 103/200\n",
      "120/120 - 0s - loss: 0.1433 - accuracy: 0.9833\n",
      "Epoch 104/200\n",
      "120/120 - 0s - loss: 0.1401 - accuracy: 0.9833\n",
      "Epoch 105/200\n",
      "120/120 - 0s - loss: 0.1410 - accuracy: 0.9667\n",
      "Epoch 106/200\n",
      "120/120 - 0s - loss: 0.1434 - accuracy: 0.9750\n",
      "Epoch 107/200\n",
      "120/120 - 0s - loss: 0.1348 - accuracy: 0.9750\n",
      "Epoch 108/200\n",
      "120/120 - 0s - loss: 0.1347 - accuracy: 0.9833\n",
      "Epoch 109/200\n",
      "120/120 - 0s - loss: 0.1334 - accuracy: 0.9833\n",
      "Epoch 110/200\n",
      "120/120 - 0s - loss: 0.1312 - accuracy: 0.9833\n",
      "Epoch 111/200\n",
      "120/120 - 0s - loss: 0.1313 - accuracy: 0.9667\n",
      "Epoch 112/200\n",
      "120/120 - 0s - loss: 0.1275 - accuracy: 0.9750\n",
      "Epoch 113/200\n",
      "120/120 - 0s - loss: 0.1286 - accuracy: 0.9833\n",
      "Epoch 114/200\n",
      "120/120 - 0s - loss: 0.1262 - accuracy: 0.9833\n",
      "Epoch 115/200\n",
      "120/120 - 0s - loss: 0.1234 - accuracy: 0.9833\n",
      "Epoch 116/200\n",
      "120/120 - 0s - loss: 0.1219 - accuracy: 0.9833\n",
      "Epoch 117/200\n",
      "120/120 - 0s - loss: 0.1207 - accuracy: 0.9833\n",
      "Epoch 118/200\n",
      "120/120 - 0s - loss: 0.1234 - accuracy: 0.9750\n",
      "Epoch 119/200\n",
      "120/120 - 0s - loss: 0.1210 - accuracy: 0.9833\n",
      "Epoch 120/200\n",
      "120/120 - 0s - loss: 0.1207 - accuracy: 0.9667\n",
      "Epoch 121/200\n",
      "120/120 - 0s - loss: 0.1182 - accuracy: 0.9750\n",
      "Epoch 122/200\n",
      "120/120 - 0s - loss: 0.1157 - accuracy: 0.9833\n",
      "Epoch 123/200\n",
      "120/120 - 0s - loss: 0.1158 - accuracy: 0.9833\n",
      "Epoch 124/200\n",
      "120/120 - 0s - loss: 0.1144 - accuracy: 0.9833\n",
      "Epoch 125/200\n",
      "120/120 - 0s - loss: 0.1122 - accuracy: 0.9833\n",
      "Epoch 126/200\n",
      "120/120 - 0s - loss: 0.1125 - accuracy: 0.9750\n",
      "Epoch 127/200\n",
      "120/120 - 0s - loss: 0.1100 - accuracy: 0.9667\n",
      "Epoch 128/200\n",
      "120/120 - 0s - loss: 0.1094 - accuracy: 0.9833\n",
      "Epoch 129/200\n",
      "120/120 - 0s - loss: 0.1099 - accuracy: 0.9750\n",
      "Epoch 130/200\n",
      "120/120 - 0s - loss: 0.1077 - accuracy: 0.9833\n",
      "Epoch 131/200\n",
      "120/120 - 0s - loss: 0.1077 - accuracy: 0.9833\n",
      "Epoch 132/200\n",
      "120/120 - 0s - loss: 0.1050 - accuracy: 0.9833\n",
      "Epoch 133/200\n",
      "120/120 - 0s - loss: 0.1081 - accuracy: 0.9750\n",
      "Epoch 134/200\n",
      "120/120 - 0s - loss: 0.1036 - accuracy: 0.9833\n",
      "Epoch 135/200\n",
      "120/120 - 0s - loss: 0.1069 - accuracy: 0.9667\n",
      "Epoch 136/200\n",
      "120/120 - 0s - loss: 0.1040 - accuracy: 0.9750\n"
     ]
    },
    {
     "name": "stdout",
     "output_type": "stream",
     "text": [
      "Epoch 137/200\n",
      "120/120 - 0s - loss: 0.1014 - accuracy: 0.9833\n",
      "Epoch 138/200\n",
      "120/120 - 0s - loss: 0.1037 - accuracy: 0.9667\n",
      "Epoch 139/200\n",
      "120/120 - 0s - loss: 0.0992 - accuracy: 0.9750\n",
      "Epoch 140/200\n",
      "120/120 - 0s - loss: 0.1038 - accuracy: 0.9833\n",
      "Epoch 141/200\n",
      "120/120 - 0s - loss: 0.0969 - accuracy: 0.9833\n",
      "Epoch 142/200\n",
      "120/120 - 0s - loss: 0.0983 - accuracy: 0.9750\n",
      "Epoch 143/200\n",
      "120/120 - 0s - loss: 0.1009 - accuracy: 0.9750\n",
      "Epoch 144/200\n",
      "120/120 - 0s - loss: 0.0985 - accuracy: 0.9750\n",
      "Epoch 145/200\n",
      "120/120 - 0s - loss: 0.0945 - accuracy: 0.9917\n",
      "Epoch 146/200\n",
      "120/120 - 0s - loss: 0.0956 - accuracy: 0.9750\n",
      "Epoch 147/200\n",
      "120/120 - 0s - loss: 0.0953 - accuracy: 0.9750\n",
      "Epoch 148/200\n",
      "120/120 - 0s - loss: 0.0944 - accuracy: 0.9667\n",
      "Epoch 149/200\n",
      "120/120 - 0s - loss: 0.0923 - accuracy: 0.9833\n",
      "Epoch 150/200\n",
      "120/120 - 0s - loss: 0.0908 - accuracy: 0.9833\n",
      "Epoch 151/200\n",
      "120/120 - 0s - loss: 0.0938 - accuracy: 0.9750\n",
      "Epoch 152/200\n",
      "120/120 - 0s - loss: 0.0924 - accuracy: 0.9833\n",
      "Epoch 153/200\n",
      "120/120 - 0s - loss: 0.0938 - accuracy: 0.9750\n",
      "Epoch 154/200\n",
      "120/120 - 0s - loss: 0.0909 - accuracy: 0.9750\n",
      "Epoch 155/200\n",
      "120/120 - 0s - loss: 0.0892 - accuracy: 0.9917\n",
      "Epoch 156/200\n",
      "120/120 - 0s - loss: 0.0887 - accuracy: 0.9750\n",
      "Epoch 157/200\n",
      "120/120 - 0s - loss: 0.0871 - accuracy: 0.9750\n",
      "Epoch 158/200\n",
      "120/120 - 0s - loss: 0.0870 - accuracy: 0.9833\n",
      "Epoch 159/200\n",
      "120/120 - 0s - loss: 0.0901 - accuracy: 0.9750\n",
      "Epoch 160/200\n",
      "120/120 - 0s - loss: 0.0868 - accuracy: 0.9833\n",
      "Epoch 161/200\n",
      "120/120 - 0s - loss: 0.0851 - accuracy: 0.9750\n",
      "Epoch 162/200\n",
      "120/120 - 0s - loss: 0.0850 - accuracy: 0.9750\n",
      "Epoch 163/200\n",
      "120/120 - 0s - loss: 0.0843 - accuracy: 0.9833\n",
      "Epoch 164/200\n",
      "120/120 - 0s - loss: 0.0832 - accuracy: 0.9750\n",
      "Epoch 165/200\n",
      "120/120 - 0s - loss: 0.0834 - accuracy: 0.9833\n",
      "Epoch 166/200\n",
      "120/120 - 0s - loss: 0.0819 - accuracy: 0.9833\n",
      "Epoch 167/200\n",
      "120/120 - 0s - loss: 0.0843 - accuracy: 0.9750\n",
      "Epoch 168/200\n",
      "120/120 - 0s - loss: 0.0871 - accuracy: 0.9750\n",
      "Epoch 169/200\n",
      "120/120 - 0s - loss: 0.0812 - accuracy: 0.9750\n",
      "Epoch 170/200\n",
      "120/120 - 0s - loss: 0.0800 - accuracy: 0.9750\n",
      "Epoch 171/200\n",
      "120/120 - 0s - loss: 0.0805 - accuracy: 0.9917\n",
      "Epoch 172/200\n",
      "120/120 - 0s - loss: 0.0814 - accuracy: 0.9833\n",
      "Epoch 173/200\n",
      "120/120 - 0s - loss: 0.0789 - accuracy: 0.9750\n",
      "Epoch 174/200\n",
      "120/120 - 0s - loss: 0.0776 - accuracy: 0.9833\n",
      "Epoch 175/200\n",
      "120/120 - 0s - loss: 0.0782 - accuracy: 0.9750\n",
      "Epoch 176/200\n",
      "120/120 - 0s - loss: 0.0771 - accuracy: 0.9750\n",
      "Epoch 177/200\n",
      "120/120 - 0s - loss: 0.0807 - accuracy: 0.9750\n",
      "Epoch 178/200\n",
      "120/120 - 0s - loss: 0.0810 - accuracy: 0.9750\n",
      "Epoch 179/200\n",
      "120/120 - 0s - loss: 0.0778 - accuracy: 0.9667\n",
      "Epoch 180/200\n",
      "120/120 - 0s - loss: 0.0753 - accuracy: 0.9917\n",
      "Epoch 181/200\n",
      "120/120 - 0s - loss: 0.0758 - accuracy: 0.9833\n",
      "Epoch 182/200\n",
      "120/120 - 0s - loss: 0.0783 - accuracy: 0.9750\n",
      "Epoch 183/200\n",
      "120/120 - 0s - loss: 0.0774 - accuracy: 0.9750\n",
      "Epoch 184/200\n",
      "120/120 - 0s - loss: 0.0770 - accuracy: 0.9750\n",
      "Epoch 185/200\n",
      "120/120 - 0s - loss: 0.0780 - accuracy: 0.9750\n",
      "Epoch 186/200\n",
      "120/120 - 0s - loss: 0.0740 - accuracy: 0.9750\n",
      "Epoch 187/200\n",
      "120/120 - 0s - loss: 0.0777 - accuracy: 0.9833\n",
      "Epoch 188/200\n",
      "120/120 - 0s - loss: 0.0747 - accuracy: 0.9833\n",
      "Epoch 189/200\n",
      "120/120 - 0s - loss: 0.0754 - accuracy: 0.9833\n",
      "Epoch 190/200\n",
      "120/120 - 0s - loss: 0.0709 - accuracy: 0.9833\n",
      "Epoch 191/200\n",
      "120/120 - 0s - loss: 0.0717 - accuracy: 0.9833\n",
      "Epoch 192/200\n",
      "120/120 - 0s - loss: 0.0724 - accuracy: 0.9833\n",
      "Epoch 193/200\n",
      "120/120 - 0s - loss: 0.0711 - accuracy: 0.9833\n",
      "Epoch 194/200\n",
      "120/120 - 0s - loss: 0.0702 - accuracy: 0.9917\n",
      "Epoch 195/200\n",
      "120/120 - 0s - loss: 0.0703 - accuracy: 0.9833\n",
      "Epoch 196/200\n",
      "120/120 - 0s - loss: 0.0700 - accuracy: 0.9750\n",
      "Epoch 197/200\n",
      "120/120 - 0s - loss: 0.0742 - accuracy: 0.9750\n",
      "Epoch 198/200\n",
      "120/120 - 0s - loss: 0.0705 - accuracy: 0.9750\n",
      "Epoch 199/200\n",
      "120/120 - 0s - loss: 0.0698 - accuracy: 0.9833\n",
      "Epoch 200/200\n",
      "120/120 - 0s - loss: 0.0684 - accuracy: 0.9917\n",
      "30/1 [====================================================================================================================================================================================================================================================================================================================================================================================================================================================================================================================================================================================================================================================================================================================================================================================================================================================================================================================================] - 0s 3ms/sample - loss: 0.1296 - accuracy: 0.9667\n"
     ]
    }
   ],
   "source": [
    "model.fit(train_x, train_y, verbose=2, batch_size=5,\n",
    "epochs=200)\n",
    "# Test on unseen data\n",
    "results = model.evaluate(test_x, test_y)"
   ]
  },
  {
   "cell_type": "code",
   "execution_count": 14,
   "metadata": {},
   "outputs": [
    {
     "name": "stdout",
     "output_type": "stream",
     "text": [
      "Final test set loss: 0.129575\n",
      "Final test set accuracy: 0.966667\n"
     ]
    }
   ],
   "source": [
    "print('Final test set loss: {:4f}'.format(results[0]))\n",
    "print('Final test set accuracy: {:4f}'.format(results[1]))"
   ]
  },
  {
   "cell_type": "code",
   "execution_count": 15,
   "metadata": {},
   "outputs": [
    {
     "name": "stdout",
     "output_type": "stream",
     "text": [
      "Collecting tensorflow-datasets\n",
      "  Downloading https://files.pythonhosted.org/packages/6c/34/ff424223ed4331006aaa929efc8360b6459d427063dc59fc7b75d7e4bab3/tensorflow_datasets-1.2.0-py3-none-any.whl (2.3MB)\n",
      "Collecting promise (from tensorflow-datasets)\n",
      "  Downloading https://files.pythonhosted.org/packages/5a/81/221d09d90176fd90aed4b530e31b8fedf207385767c06d1d46c550c5e418/promise-2.2.1.tar.gz\n",
      "Requirement already satisfied: future in c:\\programdata\\anaconda3\\lib\\site-packages (from tensorflow-datasets) (0.17.1)\n",
      "Requirement already satisfied: six in c:\\programdata\\anaconda3\\lib\\site-packages (from tensorflow-datasets) (1.12.0)\n",
      "Requirement already satisfied: wrapt in c:\\programdata\\anaconda3\\lib\\site-packages (from tensorflow-datasets) (1.11.2)\n",
      "Requirement already satisfied: absl-py in c:\\programdata\\anaconda3\\lib\\site-packages (from tensorflow-datasets) (0.8.1)\n",
      "Requirement already satisfied: requests>=2.19.0 in c:\\programdata\\anaconda3\\lib\\site-packages (from tensorflow-datasets) (2.22.0)\n",
      "Requirement already satisfied: psutil in c:\\programdata\\anaconda3\\lib\\site-packages (from tensorflow-datasets) (5.6.3)\n",
      "Requirement already satisfied: attrs in c:\\programdata\\anaconda3\\lib\\site-packages (from tensorflow-datasets) (19.2.0)\n",
      "Requirement already satisfied: tqdm in c:\\programdata\\anaconda3\\lib\\site-packages (from tensorflow-datasets) (4.36.1)\n",
      "Requirement already satisfied: termcolor in c:\\programdata\\anaconda3\\lib\\site-packages (from tensorflow-datasets) (1.1.0)\n",
      "Requirement already satisfied: protobuf>=3.6.1 in c:\\programdata\\anaconda3\\lib\\site-packages (from tensorflow-datasets) (3.10.0)\n",
      "Requirement already satisfied: dill in c:\\programdata\\anaconda3\\lib\\site-packages (from tensorflow-datasets) (0.3.0)\n",
      "Collecting tensorflow-metadata (from tensorflow-datasets)\n",
      "  Downloading https://files.pythonhosted.org/packages/4e/c2/e4ed82a725c9f8160a0ed73f0511773be9f76343def86f6f47121f0e8430/tensorflow_metadata-0.15.0-py2.py3-none-any.whl\n",
      "Requirement already satisfied: numpy in c:\\programdata\\anaconda3\\lib\\site-packages (from tensorflow-datasets) (1.17.2)\n",
      "Requirement already satisfied: urllib3!=1.25.0,!=1.25.1,<1.26,>=1.21.1 in c:\\programdata\\anaconda3\\lib\\site-packages (from requests>=2.19.0->tensorflow-datasets) (1.24.2)\n",
      "Requirement already satisfied: idna<2.9,>=2.5 in c:\\programdata\\anaconda3\\lib\\site-packages (from requests>=2.19.0->tensorflow-datasets) (2.8)\n",
      "Requirement already satisfied: chardet<3.1.0,>=3.0.2 in c:\\programdata\\anaconda3\\lib\\site-packages (from requests>=2.19.0->tensorflow-datasets) (3.0.4)\n",
      "Requirement already satisfied: certifi>=2017.4.17 in c:\\programdata\\anaconda3\\lib\\site-packages (from requests>=2.19.0->tensorflow-datasets) (2019.9.11)\n",
      "Requirement already satisfied: setuptools in c:\\programdata\\anaconda3\\lib\\site-packages (from protobuf>=3.6.1->tensorflow-datasets) (41.4.0)\n",
      "Collecting googleapis-common-protos (from tensorflow-metadata->tensorflow-datasets)\n",
      "  Downloading https://files.pythonhosted.org/packages/eb/ee/e59e74ecac678a14d6abefb9054f0bbcb318a6452a30df3776f133886d7d/googleapis-common-protos-1.6.0.tar.gz\n",
      "Building wheels for collected packages: promise, googleapis-common-protos\n",
      "  Building wheel for promise (setup.py): started\n",
      "  Building wheel for promise (setup.py): finished with status 'done'\n",
      "  Created wheel for promise: filename=promise-2.2.1-cp37-none-any.whl size=21295 sha256=32b17e4bbf19b6bb3adfb9e331c3f8af74e6ae0e387085268b8c54ec74e705e9\n",
      "  Stored in directory: C:\\Users\\Sujoy.Mukherjee\\AppData\\Local\\pip\\Cache\\wheels\\92\\84\\9f\\75e2235effae0e1c5a5c0626a503e532bbffcb7e79e672b606\n",
      "  Building wheel for googleapis-common-protos (setup.py): started\n",
      "  Building wheel for googleapis-common-protos (setup.py): finished with status 'done'\n",
      "  Created wheel for googleapis-common-protos: filename=googleapis_common_protos-1.6.0-cp37-none-any.whl size=77585 sha256=b5fd443f01ffa29eac371c93c4a51c6402593ee5bba11a449ebb175eab2aa65e\n",
      "  Stored in directory: C:\\Users\\Sujoy.Mukherjee\\AppData\\Local\\pip\\Cache\\wheels\\9e\\3d\\a2\\1bec8bb7db80ab3216dbc33092bb7ccd0debfb8ba42b5668d5\n",
      "Successfully built promise googleapis-common-protos\n",
      "Installing collected packages: promise, googleapis-common-protos, tensorflow-metadata, tensorflow-datasets\n",
      "Successfully installed googleapis-common-protos-1.6.0 promise-2.2.1 tensorflow-datasets-1.2.0 tensorflow-metadata-0.15.0\n"
     ]
    }
   ],
   "source": [
    "!pip install tensorflow-datasets"
   ]
  },
  {
   "cell_type": "code",
   "execution_count": 16,
   "metadata": {},
   "outputs": [],
   "source": [
    "import tensorflow_datasets as tfds"
   ]
  },
  {
   "cell_type": "code",
   "execution_count": 17,
   "metadata": {},
   "outputs": [
    {
     "data": {
      "text/plain": [
       "['abstract_reasoning',\n",
       " 'aflw2k3d',\n",
       " 'amazon_us_reviews',\n",
       " 'bair_robot_pushing_small',\n",
       " 'bigearthnet',\n",
       " 'binarized_mnist',\n",
       " 'binary_alpha_digits',\n",
       " 'caltech101',\n",
       " 'caltech_birds2010',\n",
       " 'caltech_birds2011',\n",
       " 'cats_vs_dogs',\n",
       " 'celeb_a',\n",
       " 'celeb_a_hq',\n",
       " 'chexpert',\n",
       " 'cifar10',\n",
       " 'cifar100',\n",
       " 'cifar10_corrupted',\n",
       " 'clevr',\n",
       " 'cnn_dailymail',\n",
       " 'coco',\n",
       " 'coco2014',\n",
       " 'coil100',\n",
       " 'colorectal_histology',\n",
       " 'colorectal_histology_large',\n",
       " 'curated_breast_imaging_ddsm',\n",
       " 'cycle_gan',\n",
       " 'deep_weeds',\n",
       " 'definite_pronoun_resolution',\n",
       " 'diabetic_retinopathy_detection',\n",
       " 'downsampled_imagenet',\n",
       " 'dsprites',\n",
       " 'dtd',\n",
       " 'dummy_dataset_shared_generator',\n",
       " 'dummy_mnist',\n",
       " 'emnist',\n",
       " 'eurosat',\n",
       " 'fashion_mnist',\n",
       " 'flores',\n",
       " 'food101',\n",
       " 'gap',\n",
       " 'glue',\n",
       " 'groove',\n",
       " 'higgs',\n",
       " 'horses_or_humans',\n",
       " 'image_label_folder',\n",
       " 'imagenet2012',\n",
       " 'imagenet2012_corrupted',\n",
       " 'imdb_reviews',\n",
       " 'iris',\n",
       " 'kitti',\n",
       " 'kmnist',\n",
       " 'lfw',\n",
       " 'lm1b',\n",
       " 'lsun',\n",
       " 'mnist',\n",
       " 'mnist_corrupted',\n",
       " 'moving_mnist',\n",
       " 'multi_nli',\n",
       " 'nsynth',\n",
       " 'omniglot',\n",
       " 'open_images_v4',\n",
       " 'oxford_flowers102',\n",
       " 'oxford_iiit_pet',\n",
       " 'para_crawl',\n",
       " 'patch_camelyon',\n",
       " 'pet_finder',\n",
       " 'quickdraw_bitmap',\n",
       " 'resisc45',\n",
       " 'rock_paper_scissors',\n",
       " 'rock_you',\n",
       " 'scene_parse150',\n",
       " 'shapes3d',\n",
       " 'smallnorb',\n",
       " 'snli',\n",
       " 'so2sat',\n",
       " 'squad',\n",
       " 'stanford_dogs',\n",
       " 'stanford_online_products',\n",
       " 'starcraft_video',\n",
       " 'sun397',\n",
       " 'super_glue',\n",
       " 'svhn_cropped',\n",
       " 'ted_hrlr_translate',\n",
       " 'ted_multi_translate',\n",
       " 'tf_flowers',\n",
       " 'titanic',\n",
       " 'trivia_qa',\n",
       " 'uc_merced',\n",
       " 'ucf101',\n",
       " 'visual_domain_decathlon',\n",
       " 'voc2007',\n",
       " 'wikipedia',\n",
       " 'wmt14_translate',\n",
       " 'wmt15_translate',\n",
       " 'wmt16_translate',\n",
       " 'wmt17_translate',\n",
       " 'wmt18_translate',\n",
       " 'wmt19_translate',\n",
       " 'wmt_t2t_translate',\n",
       " 'wmt_translate',\n",
       " 'xnli']"
      ]
     },
     "execution_count": 17,
     "metadata": {},
     "output_type": "execute_result"
    }
   ],
   "source": [
    "tfds.list_builders()"
   ]
  },
  {
   "cell_type": "code",
   "execution_count": 18,
   "metadata": {},
   "outputs": [
    {
     "name": "stdout",
     "output_type": "stream",
     "text": [
      "Downloading and preparing dataset iris (4.44 KiB) to C:\\Users\\Sujoy.Mukherjee\\tensorflow_datasets\\iris\\1.0.0...\n"
     ]
    },
    {
     "data": {
      "application/vnd.jupyter.widget-view+json": {
       "model_id": "3046e356455445279b7732e7e3271041",
       "version_major": 2,
       "version_minor": 0
      },
      "text/plain": [
       "HBox(children=(IntProgress(value=1, bar_style='info', description='Dl Completed...', max=1, style=ProgressStyl…"
      ]
     },
     "metadata": {},
     "output_type": "display_data"
    },
    {
     "data": {
      "application/vnd.jupyter.widget-view+json": {
       "model_id": "a091c30edbca4139bb2239374a50c508",
       "version_major": 2,
       "version_minor": 0
      },
      "text/plain": [
       "HBox(children=(IntProgress(value=1, bar_style='info', description='Dl Size...', max=1, style=ProgressStyle(des…"
      ]
     },
     "metadata": {},
     "output_type": "display_data"
    },
    {
     "name": "stderr",
     "output_type": "stream",
     "text": [
      "C:\\ProgramData\\Anaconda3\\lib\\site-packages\\urllib3\\connectionpool.py:847: InsecureRequestWarning: Unverified HTTPS request is being made. Adding certificate verification is strongly advised. See: https://urllib3.readthedocs.io/en/latest/advanced-usage.html#ssl-warnings\n",
      "  InsecureRequestWarning)\n"
     ]
    },
    {
     "name": "stdout",
     "output_type": "stream",
     "text": [
      "\n",
      "\n",
      "\n",
      "\n"
     ]
    },
    {
     "data": {
      "application/vnd.jupyter.widget-view+json": {
       "model_id": "",
       "version_major": 2,
       "version_minor": 0
      },
      "text/plain": [
       "HBox(children=(IntProgress(value=1, bar_style='info', max=1), HTML(value='')))"
      ]
     },
     "metadata": {},
     "output_type": "display_data"
    },
    {
     "name": "stdout",
     "output_type": "stream",
     "text": [
      "\r"
     ]
    },
    {
     "data": {
      "application/vnd.jupyter.widget-view+json": {
       "model_id": "",
       "version_major": 2,
       "version_minor": 0
      },
      "text/plain": [
       "HBox(children=(IntProgress(value=0, description='Shuffling...', max=1, style=ProgressStyle(description_width='…"
      ]
     },
     "metadata": {},
     "output_type": "display_data"
    },
    {
     "name": "stdout",
     "output_type": "stream",
     "text": [
      "WARNING:tensorflow:From C:\\ProgramData\\Anaconda3\\lib\\site-packages\\tensorflow_datasets\\core\\file_format_adapter.py:209: tf_record_iterator (from tensorflow.python.lib.io.tf_record) is deprecated and will be removed in a future version.\n",
      "Instructions for updating:\n",
      "Use eager execution and: \n",
      "`tf.data.TFRecordDataset(path)`\n"
     ]
    },
    {
     "name": "stderr",
     "output_type": "stream",
     "text": [
      "WARNING:tensorflow:From C:\\ProgramData\\Anaconda3\\lib\\site-packages\\tensorflow_datasets\\core\\file_format_adapter.py:209: tf_record_iterator (from tensorflow.python.lib.io.tf_record) is deprecated and will be removed in a future version.\n",
      "Instructions for updating:\n",
      "Use eager execution and: \n",
      "`tf.data.TFRecordDataset(path)`\n"
     ]
    },
    {
     "data": {
      "application/vnd.jupyter.widget-view+json": {
       "model_id": "",
       "version_major": 2,
       "version_minor": 0
      },
      "text/plain": [
       "HBox(children=(IntProgress(value=1, bar_style='info', description='Reading...', max=1, style=ProgressStyle(des…"
      ]
     },
     "metadata": {},
     "output_type": "display_data"
    },
    {
     "data": {
      "application/vnd.jupyter.widget-view+json": {
       "model_id": "",
       "version_major": 2,
       "version_minor": 0
      },
      "text/plain": [
       "HBox(children=(IntProgress(value=0, description='Writing...', max=150, style=ProgressStyle(description_width='…"
      ]
     },
     "metadata": {},
     "output_type": "display_data"
    },
    {
     "name": "stdout",
     "output_type": "stream",
     "text": [
      "Dataset iris downloaded and prepared to C:\\Users\\Sujoy.Mukherjee\\tensorflow_datasets\\iris\\1.0.0. Subsequent calls will reuse this data.\n"
     ]
    },
    {
     "name": "stderr",
     "output_type": "stream",
     "text": [
      "WARNING:absl:Warning: Setting shuffle_files=True because split=TRAIN and shuffle_files=None. This behavior will be deprecated on 2019-08-06, at which point shuffle_files=False will be the default for all splits.\n"
     ]
    }
   ],
   "source": [
    "iris = tfds.load(name=\"iris\", split=None)"
   ]
  },
  {
   "cell_type": "code",
   "execution_count": 19,
   "metadata": {},
   "outputs": [
    {
     "name": "stdout",
     "output_type": "stream",
     "text": [
      "Downloading and preparing dataset fashion_mnist (29.45 MiB) to C:\\Users\\Sujoy.Mukherjee\\tensorflow_datasets\\fashion_mnist\\1.0.0...\n"
     ]
    },
    {
     "data": {
      "application/vnd.jupyter.widget-view+json": {
       "model_id": "d4737fd7747f4be68b12d59300c90562",
       "version_major": 2,
       "version_minor": 0
      },
      "text/plain": [
       "HBox(children=(IntProgress(value=1, bar_style='info', description='Dl Completed...', max=1, style=ProgressStyl…"
      ]
     },
     "metadata": {},
     "output_type": "display_data"
    },
    {
     "data": {
      "application/vnd.jupyter.widget-view+json": {
       "model_id": "9cb0fce8150a40098d7c7ec8b76ca3d8",
       "version_major": 2,
       "version_minor": 0
      },
      "text/plain": [
       "HBox(children=(IntProgress(value=1, bar_style='info', description='Dl Size...', max=1, style=ProgressStyle(des…"
      ]
     },
     "metadata": {},
     "output_type": "display_data"
    },
    {
     "data": {
      "application/vnd.jupyter.widget-view+json": {
       "model_id": "354f57d5b111498c86995afb484c37c9",
       "version_major": 2,
       "version_minor": 0
      },
      "text/plain": [
       "HBox(children=(IntProgress(value=1, bar_style='info', description='Extraction completed...', max=1, style=Prog…"
      ]
     },
     "metadata": {},
     "output_type": "display_data"
    },
    {
     "name": "stdout",
     "output_type": "stream",
     "text": [
      "\n",
      "\n",
      "\n",
      "\n",
      "\n",
      "\n"
     ]
    },
    {
     "data": {
      "application/vnd.jupyter.widget-view+json": {
       "model_id": "",
       "version_major": 2,
       "version_minor": 0
      },
      "text/plain": [
       "HBox(children=(IntProgress(value=1, bar_style='info', max=1), HTML(value='')))"
      ]
     },
     "metadata": {},
     "output_type": "display_data"
    },
    {
     "name": "stdout",
     "output_type": "stream",
     "text": [
      "\r"
     ]
    },
    {
     "data": {
      "application/vnd.jupyter.widget-view+json": {
       "model_id": "",
       "version_major": 2,
       "version_minor": 0
      },
      "text/plain": [
       "HBox(children=(IntProgress(value=0, description='Shuffling...', max=10, style=ProgressStyle(description_width=…"
      ]
     },
     "metadata": {},
     "output_type": "display_data"
    },
    {
     "data": {
      "application/vnd.jupyter.widget-view+json": {
       "model_id": "",
       "version_major": 2,
       "version_minor": 0
      },
      "text/plain": [
       "HBox(children=(IntProgress(value=1, bar_style='info', description='Reading...', max=1, style=ProgressStyle(des…"
      ]
     },
     "metadata": {},
     "output_type": "display_data"
    },
    {
     "data": {
      "application/vnd.jupyter.widget-view+json": {
       "model_id": "",
       "version_major": 2,
       "version_minor": 0
      },
      "text/plain": [
       "HBox(children=(IntProgress(value=0, description='Writing...', max=6000, style=ProgressStyle(description_width=…"
      ]
     },
     "metadata": {},
     "output_type": "display_data"
    },
    {
     "data": {
      "application/vnd.jupyter.widget-view+json": {
       "model_id": "",
       "version_major": 2,
       "version_minor": 0
      },
      "text/plain": [
       "HBox(children=(IntProgress(value=1, bar_style='info', description='Reading...', max=1, style=ProgressStyle(des…"
      ]
     },
     "metadata": {},
     "output_type": "display_data"
    },
    {
     "data": {
      "application/vnd.jupyter.widget-view+json": {
       "model_id": "",
       "version_major": 2,
       "version_minor": 0
      },
      "text/plain": [
       "HBox(children=(IntProgress(value=0, description='Writing...', max=6000, style=ProgressStyle(description_width=…"
      ]
     },
     "metadata": {},
     "output_type": "display_data"
    },
    {
     "data": {
      "application/vnd.jupyter.widget-view+json": {
       "model_id": "",
       "version_major": 2,
       "version_minor": 0
      },
      "text/plain": [
       "HBox(children=(IntProgress(value=1, bar_style='info', description='Reading...', max=1, style=ProgressStyle(des…"
      ]
     },
     "metadata": {},
     "output_type": "display_data"
    },
    {
     "data": {
      "application/vnd.jupyter.widget-view+json": {
       "model_id": "",
       "version_major": 2,
       "version_minor": 0
      },
      "text/plain": [
       "HBox(children=(IntProgress(value=0, description='Writing...', max=6000, style=ProgressStyle(description_width=…"
      ]
     },
     "metadata": {},
     "output_type": "display_data"
    },
    {
     "data": {
      "application/vnd.jupyter.widget-view+json": {
       "model_id": "",
       "version_major": 2,
       "version_minor": 0
      },
      "text/plain": [
       "HBox(children=(IntProgress(value=1, bar_style='info', description='Reading...', max=1, style=ProgressStyle(des…"
      ]
     },
     "metadata": {},
     "output_type": "display_data"
    },
    {
     "data": {
      "application/vnd.jupyter.widget-view+json": {
       "model_id": "",
       "version_major": 2,
       "version_minor": 0
      },
      "text/plain": [
       "HBox(children=(IntProgress(value=0, description='Writing...', max=6000, style=ProgressStyle(description_width=…"
      ]
     },
     "metadata": {},
     "output_type": "display_data"
    },
    {
     "data": {
      "application/vnd.jupyter.widget-view+json": {
       "model_id": "",
       "version_major": 2,
       "version_minor": 0
      },
      "text/plain": [
       "HBox(children=(IntProgress(value=1, bar_style='info', description='Reading...', max=1, style=ProgressStyle(des…"
      ]
     },
     "metadata": {},
     "output_type": "display_data"
    },
    {
     "data": {
      "application/vnd.jupyter.widget-view+json": {
       "model_id": "",
       "version_major": 2,
       "version_minor": 0
      },
      "text/plain": [
       "HBox(children=(IntProgress(value=0, description='Writing...', max=6000, style=ProgressStyle(description_width=…"
      ]
     },
     "metadata": {},
     "output_type": "display_data"
    },
    {
     "data": {
      "application/vnd.jupyter.widget-view+json": {
       "model_id": "",
       "version_major": 2,
       "version_minor": 0
      },
      "text/plain": [
       "HBox(children=(IntProgress(value=1, bar_style='info', description='Reading...', max=1, style=ProgressStyle(des…"
      ]
     },
     "metadata": {},
     "output_type": "display_data"
    },
    {
     "data": {
      "application/vnd.jupyter.widget-view+json": {
       "model_id": "",
       "version_major": 2,
       "version_minor": 0
      },
      "text/plain": [
       "HBox(children=(IntProgress(value=0, description='Writing...', max=6000, style=ProgressStyle(description_width=…"
      ]
     },
     "metadata": {},
     "output_type": "display_data"
    },
    {
     "data": {
      "application/vnd.jupyter.widget-view+json": {
       "model_id": "",
       "version_major": 2,
       "version_minor": 0
      },
      "text/plain": [
       "HBox(children=(IntProgress(value=1, bar_style='info', description='Reading...', max=1, style=ProgressStyle(des…"
      ]
     },
     "metadata": {},
     "output_type": "display_data"
    },
    {
     "data": {
      "application/vnd.jupyter.widget-view+json": {
       "model_id": "",
       "version_major": 2,
       "version_minor": 0
      },
      "text/plain": [
       "HBox(children=(IntProgress(value=0, description='Writing...', max=6000, style=ProgressStyle(description_width=…"
      ]
     },
     "metadata": {},
     "output_type": "display_data"
    },
    {
     "data": {
      "application/vnd.jupyter.widget-view+json": {
       "model_id": "",
       "version_major": 2,
       "version_minor": 0
      },
      "text/plain": [
       "HBox(children=(IntProgress(value=1, bar_style='info', description='Reading...', max=1, style=ProgressStyle(des…"
      ]
     },
     "metadata": {},
     "output_type": "display_data"
    },
    {
     "data": {
      "application/vnd.jupyter.widget-view+json": {
       "model_id": "",
       "version_major": 2,
       "version_minor": 0
      },
      "text/plain": [
       "HBox(children=(IntProgress(value=0, description='Writing...', max=6000, style=ProgressStyle(description_width=…"
      ]
     },
     "metadata": {},
     "output_type": "display_data"
    },
    {
     "data": {
      "application/vnd.jupyter.widget-view+json": {
       "model_id": "",
       "version_major": 2,
       "version_minor": 0
      },
      "text/plain": [
       "HBox(children=(IntProgress(value=1, bar_style='info', description='Reading...', max=1, style=ProgressStyle(des…"
      ]
     },
     "metadata": {},
     "output_type": "display_data"
    },
    {
     "data": {
      "application/vnd.jupyter.widget-view+json": {
       "model_id": "",
       "version_major": 2,
       "version_minor": 0
      },
      "text/plain": [
       "HBox(children=(IntProgress(value=0, description='Writing...', max=6000, style=ProgressStyle(description_width=…"
      ]
     },
     "metadata": {},
     "output_type": "display_data"
    },
    {
     "data": {
      "application/vnd.jupyter.widget-view+json": {
       "model_id": "",
       "version_major": 2,
       "version_minor": 0
      },
      "text/plain": [
       "HBox(children=(IntProgress(value=1, bar_style='info', description='Reading...', max=1, style=ProgressStyle(des…"
      ]
     },
     "metadata": {},
     "output_type": "display_data"
    },
    {
     "data": {
      "application/vnd.jupyter.widget-view+json": {
       "model_id": "",
       "version_major": 2,
       "version_minor": 0
      },
      "text/plain": [
       "HBox(children=(IntProgress(value=0, description='Writing...', max=6000, style=ProgressStyle(description_width=…"
      ]
     },
     "metadata": {},
     "output_type": "display_data"
    },
    {
     "name": "stdout",
     "output_type": "stream",
     "text": [
      "\r"
     ]
    },
    {
     "data": {
      "application/vnd.jupyter.widget-view+json": {
       "model_id": "",
       "version_major": 2,
       "version_minor": 0
      },
      "text/plain": [
       "HBox(children=(IntProgress(value=1, bar_style='info', max=1), HTML(value='')))"
      ]
     },
     "metadata": {},
     "output_type": "display_data"
    },
    {
     "name": "stdout",
     "output_type": "stream",
     "text": [
      "\r"
     ]
    },
    {
     "data": {
      "application/vnd.jupyter.widget-view+json": {
       "model_id": "",
       "version_major": 2,
       "version_minor": 0
      },
      "text/plain": [
       "HBox(children=(IntProgress(value=0, description='Shuffling...', max=1, style=ProgressStyle(description_width='…"
      ]
     },
     "metadata": {},
     "output_type": "display_data"
    },
    {
     "data": {
      "application/vnd.jupyter.widget-view+json": {
       "model_id": "",
       "version_major": 2,
       "version_minor": 0
      },
      "text/plain": [
       "HBox(children=(IntProgress(value=1, bar_style='info', description='Reading...', max=1, style=ProgressStyle(des…"
      ]
     },
     "metadata": {},
     "output_type": "display_data"
    },
    {
     "data": {
      "application/vnd.jupyter.widget-view+json": {
       "model_id": "",
       "version_major": 2,
       "version_minor": 0
      },
      "text/plain": [
       "HBox(children=(IntProgress(value=0, description='Writing...', max=10000, style=ProgressStyle(description_width…"
      ]
     },
     "metadata": {},
     "output_type": "display_data"
    },
    {
     "name": "stdout",
     "output_type": "stream",
     "text": [
      "Dataset fashion_mnist downloaded and prepared to C:\\Users\\Sujoy.Mukherjee\\tensorflow_datasets\\fashion_mnist\\1.0.0. Subsequent calls will reuse this data.\n"
     ]
    },
    {
     "name": "stderr",
     "output_type": "stream",
     "text": [
      "WARNING:absl:Warning: Setting shuffle_files=True because split=TRAIN and shuffle_files=None. This behavior will be deprecated on 2019-08-06, at which point shuffle_files=False will be the default for all splits.\n"
     ]
    }
   ],
   "source": [
    "data, info = tfds.load(name='fashion_mnist',\n",
    "as_supervised=True, split=None, with_info=True)"
   ]
  },
  {
   "cell_type": "code",
   "execution_count": 20,
   "metadata": {},
   "outputs": [
    {
     "name": "stdout",
     "output_type": "stream",
     "text": [
      "tfds.core.DatasetInfo(\n",
      "    name='fashion_mnist',\n",
      "    version=1.0.0,\n",
      "    description='Fashion-MNIST is a dataset of Zalando's article images consisting of a training set of 60,000 examples and a test set of 10,000 examples. Each example is a 28x28 grayscale image, associated with a label from 10 classes.',\n",
      "    urls=['https://github.com/zalandoresearch/fashion-mnist'],\n",
      "    features=FeaturesDict({\n",
      "        'image': Image(shape=(28, 28, 1), dtype=tf.uint8),\n",
      "        'label': ClassLabel(shape=(), dtype=tf.int64, num_classes=10),\n",
      "    }),\n",
      "    total_num_examples=70000,\n",
      "    splits={\n",
      "        'test': 10000,\n",
      "        'train': 60000,\n",
      "    },\n",
      "    supervised_keys=('image', 'label'),\n",
      "    citation=\"\"\"@article{DBLP:journals/corr/abs-1708-07747,\n",
      "      author    = {Han Xiao and\n",
      "                   Kashif Rasul and\n",
      "                   Roland Vollgraf},\n",
      "      title     = {Fashion-MNIST: a Novel Image Dataset for Benchmarking Machine Learning\n",
      "                   Algorithms},\n",
      "      journal   = {CoRR},\n",
      "      volume    = {abs/1708.07747},\n",
      "      year      = {2017},\n",
      "      url       = {http://arxiv.org/abs/1708.07747},\n",
      "      archivePrefix = {arXiv},\n",
      "      eprint    = {1708.07747},\n",
      "      timestamp = {Mon, 13 Aug 2018 16:47:27 +0200},\n",
      "      biburl    = {https://dblp.org/rec/bib/journals/corr/abs-1708-07747},\n",
      "      bibsource = {dblp computer science bibliography, https://dblp.org}\n",
      "    }\"\"\",\n",
      "    redistribution_info=,\n",
      ")\n",
      "\n"
     ]
    }
   ],
   "source": [
    "print(info)"
   ]
  },
  {
   "cell_type": "code",
   "execution_count": 21,
   "metadata": {},
   "outputs": [],
   "source": [
    "train, test = data['train'], data['test']"
   ]
  },
  {
   "cell_type": "code",
   "execution_count": 26,
   "metadata": {},
   "outputs": [],
   "source": [
    "BUFFER_SIZE = 10 # Use a much larger value for real code.\n",
    "BATCH_SIZE = 64\n",
    "NUM_EPOCHS = 5\n",
    "def normalize(image, label):\n",
    "    image = tf.cast(image, tf.float32)\n",
    "    image /= 255\n",
    "    return image, label\n",
    "\n",
    "train_data = train.map(normalize).shuffle(BUFFER_SIZE).batch(BATCH_SIZE)\n",
    "test_data = test.map(normalize).batch(BATCH_SIZE)\n",
    "STEPS_PER_EPOCH = 5\n",
    "train_data = train_data.take(STEPS_PER_EPOCH)\n",
    "test_data = test_data.take(STEPS_PER_EPOCH)"
   ]
  },
  {
   "cell_type": "code",
   "execution_count": 27,
   "metadata": {},
   "outputs": [],
   "source": [
    "image_batch, label_batch = next(iter(train_data))"
   ]
  },
  {
   "cell_type": "code",
   "execution_count": 29,
   "metadata": {},
   "outputs": [
    {
     "data": {
      "image/png": "[encoded data removed]",
      "text/plain": [
       "<Figure size 576x576 with 20 Axes>"
      ]
     },
     "metadata": {
      "needs_background": "light"
     },
     "output_type": "display_data"
    }
   ],
   "source": [
    "import numpy as np\n",
    "import matplotlib.pyplot as plt\n",
    "idx = np.random.randint(0, BATCH_SIZE, size =30 )\n",
    "fig=plt.figure(figsize=(8, 8))\n",
    "columns = 4\n",
    "rows = 5\n",
    "for i in range(1, columns*rows +1):\n",
    "    fig.add_subplot(rows, columns, i)\n",
    "    plt.imshow(image_batch[idx[i],:,:,0], cmap='gray')\n",
    "plt.show()"
   ]
  },
  {
   "cell_type": "code",
   "execution_count": 31,
   "metadata": {},
   "outputs": [],
   "source": [
    "model = tf.keras.Sequential([\n",
    "tf.keras.layers.Conv2D(32, 3, activation='relu',\n",
    "kernel_regularizer=tf.keras.regularizers.l2(0.02),\n",
    "input_shape=(28, 28, 1)),\n",
    "tf.keras.layers.MaxPooling2D(),\n",
    "tf.keras.layers.Flatten(),\n",
    "tf.keras.layers.Dropout(0.1),\n",
    "tf.keras.layers.Dense(64, activation='relu'),\n",
    "tf.keras.layers.BatchNormalization(),\n",
    "tf.keras.layers.Dense(10, activation='softmax')])"
   ]
  },
  {
   "cell_type": "code",
   "execution_count": 32,
   "metadata": {},
   "outputs": [
    {
     "name": "stdout",
     "output_type": "stream",
     "text": [
      "Epoch 1/5\n",
      "5/5 [==============================]ss: 2.8062 - accuracy: 0.156 - 1s 345ms/step - loss: 2.3311 - accuracy: 0.257 - 1s 241ms/step - loss: 2.0238 - accuracy: 0.343 - 1s 188ms/step - loss: 1.8105 - accuracy: 0.390 - 1s 158ms/step - loss: 1.7124 - accuracy: 0.409 - 1s 217ms/step - loss: 1.7124 - accuracy: 0.4094\n",
      "Epoch 2/5\n",
      "5/5 [==============================] - ETA: 0s - loss: 0.8710 - accuracy: 0.75 - ETA: 0s - loss: 0.8699 - accuracy: 0.74 - 0s 53ms/step - loss: 0.8283 - accuracy: 0.7594\n",
      "Epoch 3/5\n",
      "5/5 [==============================] - ETA: 0s - loss: 0.7199 - accuracy: 0.78 - ETA: 0s - loss: 0.6485 - accuracy: 0.81 - 0s 55ms/step - loss: 0.6264 - accuracy: 0.8375\n",
      "Epoch 4/5\n",
      "5/5 [==============================] - ETA: 0s - loss: 0.6194 - accuracy: 0.81 - ETA: 0s - loss: 0.5088 - accuracy: 0.88 - 0s 54ms/step - loss: 0.5313 - accuracy: 0.8656\n",
      "Epoch 5/5\n",
      "5/5 [==============================] - ETA: 0s - loss: 0.4471 - accuracy: 0.87 - ETA: 0s - loss: 0.4262 - accuracy: 0.90 - 0s 55ms/step - loss: 0.4236 - accuracy: 0.9031\n",
      "5/5 [==============================]ss: 1.4924 - accuracy: 0.734 - 0s 63ms/step - loss: 1.4703 - accuracy: 0.710 - 0s 47ms/step - loss: 1.4963 - accuracy: 0.69 - 0s 42ms/step - loss: 1.4895 - accuracy: 0.72 - 0s 37ms/step - loss: 1.4893 - accuracy: 0.70 - 0s 43ms/step - loss: 1.4893 - accuracy: 0.7063\n",
      "Loss 1.4893266201019286, Accuracy 0.706250011920929\n"
     ]
    }
   ],
   "source": [
    "# Model is the full model w/o custom layers\n",
    "model.compile(optimizer='adam',\n",
    "loss='sparse_categorical_crossentropy',\n",
    "metrics=['accuracy'])\n",
    "model.fit(train_data, epochs=NUM_EPOCHS)\n",
    "loss, acc = model.evaluate(test_data)\n",
    "print(\"Loss {}, Accuracy {}\".format(loss, acc))"
   ]
  },
  {
   "cell_type": "code",
   "execution_count": 34,
   "metadata": {},
   "outputs": [
    {
     "name": "stdout",
     "output_type": "stream",
     "text": [
      "The Zen of Python, by Tim Peters\n",
      "\n",
      "Beautiful is better than ugly.\n",
      "Explicit is better than implicit.\n",
      "Simple is better than complex.\n",
      "Complex is better than complicated.\n",
      "Flat is better than nested.\n",
      "Sparse is better than dense.\n",
      "Readability counts.\n",
      "Special cases aren't special enough to break the rules.\n",
      "Although practicality beats purity.\n",
      "Errors should never pass silently.\n",
      "Unless explicitly silenced.\n",
      "In the face of ambiguity, refuse the temptation to guess.\n",
      "There should be one-- and preferably only one --obvious way to do it.\n",
      "Although that way may not be obvious at first unless you're Dutch.\n",
      "Now is better than never.\n",
      "Although never is often better than *right* now.\n",
      "If the implementation is hard to explain, it's a bad idea.\n",
      "If the implementation is easy to explain, it may be a good idea.\n",
      "Namespaces are one honking great idea -- let's do more of those!\n"
     ]
    }
   ],
   "source": [
    "import this"
   ]
  },
  {
   "cell_type": "code",
   "execution_count": null,
   "metadata": {},
   "outputs": [],
   "source": []
  },
  {
   "cell_type": "code",
   "execution_count": null,
   "metadata": {},
   "outputs": [],
   "source": []
  }
 ],
 "metadata": {
  "kernelspec": {
   "display_name": "Python 3",
   "language": "python",
   "name": "python3"
  },
  "language_info": {
   "codemirror_mode": {
    "name": "ipython",
    "version": 3
   },
   "file_extension": ".py",
   "mimetype": "text/x-python",
   "name": "python",
   "nbconvert_exporter": "python",
   "pygments_lexer": "ipython3",
   "version": "3.7.4"
  }
 },
 "nbformat": 4,
 "nbformat_minor": 2
}
