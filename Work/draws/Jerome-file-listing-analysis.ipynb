{
  "cells": [
    {
      "cell_type": "code",
      "source": [
        "from pyspark.sql import functions as f"
      ],
      "outputs": [
        {
          "output_type": "stream",
          "name": "stdout",
          "text": [
            "Starting Spark application\n"
          ]
        },
        {
          "output_type": "display_data",
          "data": {
            "text/plain": [
              "<IPython.core.display.HTML object>"
            ],
            "text/html": [
              "<table>\n",
              "<tr><th>ID</th><th>YARN Application ID</th><th>Kind</th><th>State</th><th>Spark UI</th><th>Driver log</th><th>Current session?</th></tr><tr><td>1</td><td>application_1574086499174_0002</td><td>pyspark3</td><td>idle</td><td><a target=\"_blank\" href=\"http://ip-10-176-35-237.ec2.internal:20888/proxy/application_1574086499174_0002/\">Link</a></td><td><a target=\"_blank\" href=\"http://ip-10-176-35-237.ec2.internal:8042/node/containerlogs/container_1574086499174_0002_01_000001/livy\">Link</a></td><td>✔</td></tr></table>"
            ]
          },
          "metadata": {}
        },
        {
          "output_type": "stream",
          "name": "stdout",
          "text": [
            "SparkSession available as 'spark'.\n"
          ]
        }
      ],
      "execution_count": 1,
      "metadata": {
        "trusted": true
      }
    },
    {
      "cell_type": "code",
      "source": [
        "from pipelines.flightaware.flightaware import FlightAware"
      ],
      "outputs": [],
      "execution_count": 2,
      "metadata": {
        "trusted": true
      }
    },
    {
      "cell_type": "code",
      "source": [
        "out = FlightAware(environment='prod')"
      ],
      "outputs": [
        {
          "output_type": "stream",
          "name": "stdout",
          "text": [
            "Spark Session: livy-session-1\n",
            "3.6.8 (default, Aug  2 2019, 17:42:44) \n",
            "[GCC 4.8.5 20150623 (Red Hat 4.8.5-28)] {'defaultParallelism': 20, 'ExecutorMemoryStatus.size': 3}"
          ]
        }
      ],
      "execution_count": 3,
      "metadata": {
        "trusted": true
      }
    },
    {
      "cell_type": "code",
      "source": [
        "out.save_to_object_map_path = False"
      ],
      "outputs": [],
      "execution_count": 4,
      "metadata": {
        "trusted": true
      }
    },
    {
      "cell_type": "code",
      "source": [
        "out.flightaware()"
      ],
      "outputs": [
        {
          "output_type": "stream",
          "name": "stdout",
          "text": [
            "Dataframe name: arrival\n",
            "root\n",
            " |-- aat: timestamp (nullable = true)\n",
            " |-- atcident: string (nullable = true)\n",
            " |-- dest: string (nullable = true)\n",
            " |-- edt: timestamp (nullable = true)\n",
            " |-- eta: timestamp (nullable = true)\n",
            " |-- ete: string (nullable = true)\n",
            " |-- facility_hash: string (nullable = true)\n",
            " |-- facility_name: string (nullable = true)\n",
            " |-- id: string (nullable = true)\n",
            " |-- ident: string (nullable = true)\n",
            " |-- orig: string (nullable = true)\n",
            " |-- pitr: timestamp (nullable = true)\n",
            " |-- reg: string (nullable = true)\n",
            " |-- synthetic: string (nullable = true)\n",
            " |-- timeType: string (nullable = true)\n",
            " |-- type: string (nullable = true)\n",
            " |-- _input_file_name: string (nullable = false)\n",
            " |-- _record_ingest_date: timestamp (nullable = true)\n",
            " |-- record_ingest_time: string (nullable = true)\n",
            " |-- record_ingest_date: date (nullable = true)\n",
            " |-- record_ingest_hour: integer (nullable = true)\n",
            " |-- id_timestamp: timestamp (nullable = true)\n",
            " |-- id_date: date (nullable = true)\n",
            " |-- id_hour: string (nullable = true)\n",
            "\n",
            "Dataframe name: cancellation\n",
            "root\n",
            " |-- aircrafttype: string (nullable = true)\n",
            " |-- alt: string (nullable = true)\n",
            " |-- atcident: string (nullable = true)\n",
            " |-- dest: string (nullable = true)\n",
            " |-- edt: timestamp (nullable = true)\n",
            " |-- eta: timestamp (nullable = true)\n",
            " |-- ete: string (nullable = true)\n",
            " |-- facility_hash: string (nullable = true)\n",
            " |-- facility_name: string (nullable = true)\n",
            " |-- fdt: timestamp (nullable = true)\n",
            " |-- gs: string (nullable = true)\n",
            " |-- hexid: string (nullable = true)\n",
            " |-- id: string (nullable = true)\n",
            " |-- ident: string (nullable = true)\n",
            " |-- lat: decimal(11,7) (nullable = true)\n",
            " |-- lon: decimal(11,7) (nullable = true)\n",
            " |-- orig: string (nullable = true)\n",
            " |-- pitr: timestamp (nullable = true)\n",
            " |-- reg: string (nullable = true)\n",
            " |-- route: string (nullable = true)\n",
            " |-- speed: string (nullable = true)\n",
            " |-- status: string (nullable = true)\n",
            " |-- trueCancel: string (nullable = true)\n",
            " |-- type: string (nullable = true)\n",
            " |-- _input_file_name: string (nullable = false)\n",
            " |-- _record_ingest_date: timestamp (nullable = true)\n",
            " |-- record_ingest_time: string (nullable = true)\n",
            " |-- record_ingest_date: date (nullable = true)\n",
            " |-- record_ingest_hour: integer (nullable = true)\n",
            " |-- id_timestamp: timestamp (nullable = true)\n",
            " |-- id_date: date (nullable = true)\n",
            " |-- id_hour: string (nullable = true)\n",
            "\n",
            "Dataframe name: departure\n",
            "root\n",
            " |-- adt: timestamp (nullable = true)\n",
            " |-- aircrafttype: string (nullable = true)\n",
            " |-- atcident: string (nullable = true)\n",
            " |-- dest: string (nullable = true)\n",
            " |-- edt: timestamp (nullable = true)\n",
            " |-- eta: timestamp (nullable = true)\n",
            " |-- ete: string (nullable = true)\n",
            " |-- facility_hash: string (nullable = true)\n",
            " |-- facility_name: string (nullable = true)\n",
            " |-- id: string (nullable = true)\n",
            " |-- ident: string (nullable = true)\n",
            " |-- orig: string (nullable = true)\n",
            " |-- pitr: timestamp (nullable = true)\n",
            " |-- reg: string (nullable = true)\n",
            " |-- synthetic: string (nullable = true)\n",
            " |-- timeType: string (nullable = true)\n",
            " |-- type: string (nullable = true)\n",
            " |-- _input_file_name: string (nullable = false)\n",
            " |-- _record_ingest_date: timestamp (nullable = true)\n",
            " |-- record_ingest_time: string (nullable = true)\n",
            " |-- record_ingest_date: date (nullable = true)\n",
            " |-- record_ingest_hour: integer (nullable = true)\n",
            " |-- id_timestamp: timestamp (nullable = true)\n",
            " |-- id_date: date (nullable = true)\n",
            " |-- id_hour: string (nullable = true)\n",
            "\n",
            "Dataframe name: extendedFlightInfo\n",
            "root\n",
            " |-- actual_arrival_gate: string (nullable = true)\n",
            " |-- actual_arrival_terminal: string (nullable = true)\n",
            " |-- actual_departure_gate: string (nullable = true)\n",
            " |-- actual_departure_terminal: string (nullable = true)\n",
            " |-- actual_in: timestamp (nullable = true)\n",
            " |-- actual_out: timestamp (nullable = true)\n",
            " |-- atcident: string (nullable = true)\n",
            " |-- baggage_claim: string (nullable = true)\n",
            " |-- dest: string (nullable = true)\n",
            " |-- estimated_arrival_gate: string (nullable = true)\n",
            " |-- estimated_departure_gate: string (nullable = true)\n",
            " |-- estimated_in: timestamp (nullable = true)\n",
            " |-- estimated_out: timestamp (nullable = true)\n",
            " |-- facility_hash: string (nullable = true)\n",
            " |-- facility_name: string (nullable = true)\n",
            " |-- id: string (nullable = true)\n",
            " |-- ident: string (nullable = true)\n",
            " |-- orig: string (nullable = true)\n",
            " |-- pitr: timestamp (nullable = true)\n",
            " |-- scheduled_arrival_terminal: string (nullable = true)\n",
            " |-- scheduled_departure_terminal: string (nullable = true)\n",
            " |-- scheduled_in: string (nullable = true)\n",
            " |-- scheduled_out: string (nullable = true)\n",
            " |-- type: string (nullable = true)\n",
            " |-- _input_file_name: string (nullable = false)\n",
            " |-- _record_ingest_date: timestamp (nullable = true)\n",
            " |-- record_ingest_time: string (nullable = true)\n",
            " |-- record_ingest_date: date (nullable = true)\n",
            " |-- record_ingest_hour: integer (nullable = true)\n",
            " |-- id_timestamp: timestamp (nullable = true)\n",
            " |-- id_date: date (nullable = true)\n",
            " |-- id_hour: string (nullable = true)\n",
            "\n",
            "Dataframe name: flightplan\n",
            "root\n",
            " |-- aircrafttype: string (nullable = true)\n",
            " |-- alt: string (nullable = true)\n",
            " |-- atcident: string (nullable = true)\n",
            " |-- dest: string (nullable = true)\n",
            " |-- edt: timestamp (nullable = true)\n",
            " |-- eta: timestamp (nullable = true)\n",
            " |-- ete: string (nullable = true)\n",
            " |-- facility_hash: string (nullable = true)\n",
            " |-- facility_name: string (nullable = true)\n",
            " |-- fdt: timestamp (nullable = true)\n",
            " |-- gs: string (nullable = true)\n",
            " |-- hexid: string (nullable = true)\n",
            " |-- id: string (nullable = true)\n",
            " |-- ident: string (nullable = true)\n",
            " |-- lat: decimal(11,7) (nullable = true)\n",
            " |-- lon: decimal(11,7) (nullable = true)\n",
            " |-- orig: string (nullable = true)\n",
            " |-- pitr: timestamp (nullable = true)\n",
            " |-- reg: string (nullable = true)\n",
            " |-- route: string (nullable = true)\n",
            " |-- speed: string (nullable = true)\n",
            " |-- status: string (nullable = true)\n",
            " |-- trueCancel: string (nullable = true)\n",
            " |-- type: string (nullable = true)\n",
            " |-- _input_file_name: string (nullable = false)\n",
            " |-- _record_ingest_date: timestamp (nullable = true)\n",
            " |-- record_ingest_time: string (nullable = true)\n",
            " |-- record_ingest_date: date (nullable = true)\n",
            " |-- record_ingest_hour: integer (nullable = true)\n",
            " |-- id_timestamp: timestamp (nullable = true)\n",
            " |-- id_date: date (nullable = true)\n",
            " |-- id_hour: string (nullable = true)\n",
            "\n",
            "Dataframe name: offblock\n",
            "root\n",
            " |-- clock: timestamp (nullable = true)\n",
            " |-- dest: string (nullable = true)\n",
            " |-- facility_hash: string (nullable = true)\n",
            " |-- facility_name: string (nullable = true)\n",
            " |-- id: string (nullable = true)\n",
            " |-- ident: string (nullable = true)\n",
            " |-- orig: string (nullable = true)\n",
            " |-- pitr: timestamp (nullable = true)\n",
            " |-- type: string (nullable = true)\n",
            " |-- _input_file_name: string (nullable = false)\n",
            " |-- _record_ingest_date: timestamp (nullable = true)\n",
            " |-- record_ingest_time: string (nullable = true)\n",
            " |-- record_ingest_date: date (nullable = true)\n",
            " |-- record_ingest_hour: integer (nullable = true)\n",
            " |-- id_timestamp: timestamp (nullable = true)\n",
            " |-- id_date: date (nullable = true)\n",
            " |-- id_hour: string (nullable = true)\n",
            "\n",
            "Dataframe name: onblock\n",
            "root\n",
            " |-- clock: timestamp (nullable = true)\n",
            " |-- dest: string (nullable = true)\n",
            " |-- facility_hash: string (nullable = true)\n",
            " |-- facility_name: string (nullable = true)\n",
            " |-- id: string (nullable = true)\n",
            " |-- ident: string (nullable = true)\n",
            " |-- orig: string (nullable = true)\n",
            " |-- pitr: timestamp (nullable = true)\n",
            " |-- type: string (nullable = true)\n",
            " |-- _input_file_name: string (nullable = false)\n",
            " |-- _record_ingest_date: timestamp (nullable = true)\n",
            " |-- record_ingest_time: string (nullable = true)\n",
            " |-- record_ingest_date: date (nullable = true)\n",
            " |-- record_ingest_hour: integer (nullable = true)\n",
            " |-- id_timestamp: timestamp (nullable = true)\n",
            " |-- id_date: date (nullable = true)\n",
            " |-- id_hour: string (nullable = true)\n",
            "\n",
            "Dataframe name: position\n",
            "root\n",
            " |-- air_ground: string (nullable = true)\n",
            " |-- aircrafttype: string (nullable = true)\n",
            " |-- alt: string (nullable = true)\n",
            " |-- altChange: string (nullable = true)\n",
            " |-- atcident: string (nullable = true)\n",
            " |-- clock: timestamp (nullable = true)\n",
            " |-- dest: string (nullable = true)\n",
            " |-- edt: timestamp (nullable = true)\n",
            " |-- facility_hash: string (nullable = true)\n",
            " |-- facility_name: string (nullable = true)\n",
            " |-- gs: string (nullable = true)\n",
            " |-- heading: string (nullable = true)\n",
            " |-- hexid: string (nullable = true)\n",
            " |-- id: string (nullable = true)\n",
            " |-- ident: string (nullable = true)\n",
            " |-- lat: decimal(11,7) (nullable = true)\n",
            " |-- lon: decimal(11,7) (nullable = true)\n",
            " |-- orig: string (nullable = true)\n",
            " |-- pitr: timestamp (nullable = true)\n",
            " |-- reg: string (nullable = true)\n",
            " |-- speed: string (nullable = true)\n",
            " |-- squawk: string (nullable = true)\n",
            " |-- type: string (nullable = true)\n",
            " |-- updateType: string (nullable = true)\n",
            " |-- _input_file_name: string (nullable = false)\n",
            " |-- _record_ingest_date: timestamp (nullable = true)\n",
            " |-- record_ingest_time: string (nullable = true)\n",
            " |-- record_ingest_date: date (nullable = true)\n",
            " |-- record_ingest_hour: integer (nullable = true)\n",
            " |-- id_timestamp: timestamp (nullable = true)\n",
            " |-- id_date: date (nullable = true)\n",
            " |-- id_hour: string (nullable = true)\n",
            "\n",
            "Dataframe name: cancellation_waypoints_waypoints\n",
            "root\n",
            " |-- facility_hash: string (nullable = true)\n",
            " |-- id: string (nullable = true)\n",
            " |-- ident: string (nullable = true)\n",
            " |-- route: string (nullable = true)\n",
            " |-- status: string (nullable = true)\n",
            " |-- type: string (nullable = true)\n",
            " |-- _input_file_name: string (nullable = false)\n",
            " |-- _record_ingest_date: timestamp (nullable = true)\n",
            " |-- record_ingest_time: string (nullable = true)\n",
            " |-- record_ingest_date: date (nullable = true)\n",
            " |-- record_ingest_hour: integer (nullable = true)\n",
            " |-- id_timestamp: timestamp (nullable = true)\n",
            " |-- id_date: date (nullable = true)\n",
            " |-- id_hour: string (nullable = true)\n",
            " |-- waypoints_pos: integer (nullable = false)\n",
            " |-- waypoints_lat: decimal(11,7) (nullable = true)\n",
            " |-- waypoints_lon: decimal(11,7) (nullable = true)\n",
            "\n",
            "Dataframe name: flightplan_waypoints_waypoints\n",
            "root\n",
            " |-- facility_hash: string (nullable = true)\n",
            " |-- id: string (nullable = true)\n",
            " |-- ident: string (nullable = true)\n",
            " |-- route: string (nullable = true)\n",
            " |-- status: string (nullable = true)\n",
            " |-- type: string (nullable = true)\n",
            " |-- _input_file_name: string (nullable = false)\n",
            " |-- _record_ingest_date: timestamp (nullable = true)\n",
            " |-- record_ingest_time: string (nullable = true)\n",
            " |-- record_ingest_date: date (nullable = true)\n",
            " |-- record_ingest_hour: integer (nullable = true)\n",
            " |-- id_timestamp: timestamp (nullable = true)\n",
            " |-- id_date: date (nullable = true)\n",
            " |-- id_hour: string (nullable = true)\n",
            " |-- waypoints_pos: integer (nullable = false)\n",
            " |-- waypoints_lat: decimal(11,7) (nullable = true)\n",
            " |-- waypoints_lon: decimal(11,7) (nullable = true)\n",
            "\n",
            "Dataframe name: der_rid_id\n",
            "root\n",
            " |-- record_ingest_date: date (nullable = true)\n",
            " |-- record_ingest_hour: integer (nullable = true)\n",
            " |-- id: string (nullable = true)\n",
            " |-- edt_date: date (nullable = true)\n",
            "\n",
            "Dataframe name: der_flightplan_reg\n",
            "root\n",
            " |-- id: string (nullable = true)\n",
            " |-- reg: string (nullable = true)\n",
            " |-- edt_date: date (nullable = true)\n",
            " |-- id_timestamp: timestamp (nullable = true)\n",
            " |-- _record_ingest_date: timestamp (nullable = true)"
          ]
        }
      ],
      "execution_count": 6,
      "metadata": {
        "trusted": true
      }
    },
    {
      "cell_type": "code",
      "source": [
        "out.load('flightplan')\n"
      ],
      "outputs": [
        {
          "output_type": "stream",
          "name": "stdout",
          "text": [
            "Try loading \"flightplan\" from \"s3://sita-coe-ds-prod-v1/mart/flightaware/flightplan\"...\n",
            "Success! 10.9 seconds\n",
            "DataFrame[aircrafttype: string, alt: string, atcident: string, dest: string, edt: timestamp, eta: timestamp, ete: string, facility_hash: string, facility_name: string, fdt: timestamp, gs: string, hexid: string, id: string, ident: string, lat: decimal(11,7), lon: decimal(11,7), orig: string, pitr: timestamp, reg: string, route: string, speed: string, status: string, trueCancel: string, type: string, _input_file_name: string, _record_ingest_date: timestamp, record_ingest_time: string, record_ingest_hour: int, id_timestamp: timestamp, id_date: date, id_hour: string, record_ingest_date: date]"
          ]
        }
      ],
      "execution_count": 7,
      "metadata": {
        "trusted": true
      }
    },
    {
      "cell_type": "code",
      "source": [
        "files = out.dataframes.flightplan.select('record_ingest_date', 'record_ingest_time', '_record_ingest_date', '_input_file_name').distinct()\n",
        "files.cache()"
      ],
      "outputs": [],
      "execution_count": null,
      "metadata": {
        "trusted": true
      }
    },
    {
      "cell_type": "code",
      "source": [
        "from utils.date import date_range\n",
        "dt_range = date_range('2016-10-01', '2019-11-15', in_format='%Y-%m-%d', out_format='%Y-%m-%d')\n",
        "dt_range = [(dt,) for dt in dt_range]\n",
        "dt = spark.createDataFrame(dt_range, ['record_ingest_date']).withColumn('record_ingest_date', f.to_date('record_ingest_date', 'yyyy-MM-dd'))\n"
      ],
      "outputs": [],
      "execution_count": null,
      "metadata": {
        "trusted": true
      }
    },
    {
      "cell_type": "code",
      "source": [
        "files_summary = files.groupBy('record_ingest_date', 'record_ingest_time').agg(f.count('_input_file_name').alias('count_files'))\n",
        "files_summary.cache()"
      ],
      "outputs": [],
      "execution_count": null,
      "metadata": {
        "trusted": true
      }
    },
    {
      "cell_type": "code",
      "source": [
        "minutes = files_summary.select('record_ingest_time').distinct()\n",
        "df = dt.crossJoin(minutes).join(files_summary, on=['record_ingest_date', 'record_ingest_time'], how='left')\n",
        "df.cache()"
      ],
      "outputs": [],
      "execution_count": null,
      "metadata": {
        "trusted": true
      }
    },
    {
      "cell_type": "code",
      "source": [
        "df.filter((f.col('count_files').isNull()) | (f.col('count_files')>f.lit(1))).orderBy('record_ingest_date', 'record_ingest_time').repartition(1).write.csv('s3://sita-coe-ds-prod-v1/files_analysis/missing_or_duplicate_minutes/', header=True)"
      ],
      "outputs": [],
      "execution_count": null,
      "metadata": {
        "trusted": true
      }
    },
    {
      "cell_type": "code",
      "source": [
        "%%sh\n",
        "cat /etc/bash.bashrc"
      ],
      "outputs": [
        {
          "output_type": "stream",
          "name": "stdout",
          "text": [
            "# System-wide .bashrc file for interactive bash(1) shells.\n",
            "\n",
            "# To enable the settings / commands in this file for login shells as well,\n",
            "# this file has to be sourced in /etc/profile.\n",
            "\n",
            "# If not running interactively, don't do anything\n",
            "[ -z \"$PS1\" ] && return\n",
            "\n",
            "# check the window size after each command and, if necessary,\n",
            "# update the values of LINES and COLUMNS.\n",
            "shopt -s checkwinsize\n",
            "\n",
            "# set variable identifying the chroot you work in (used in the prompt below)\n",
            "if [ -z \"${debian_chroot:-}\" ] && [ -r /etc/debian_chroot ]; then\n",
            "    debian_chroot=$(cat /etc/debian_chroot)\n",
            "fi\n",
            "\n",
            "# set a fancy prompt (non-color, overwrite the one in /etc/profile)\n",
            "# but only if not SUDOing and have SUDO_PS1 set; then assume smart user.\n",
            "if ! [ -n \"${SUDO_USER}\" -a -n \"${SUDO_PS1}\" ]; then\n",
            "  PS1='${debian_chroot:+($debian_chroot)}\\u@\\h:\\w\\$ '\n",
            "fi\n",
            "\n",
            "# Commented out, don't overwrite xterm -T \"title\" -n \"icontitle\" by default.\n",
            "# If this is an xterm set the title to user@host:dir\n",
            "#case \"$TERM\" in\n",
            "#xterm*|rxvt*)\n",
            "#    PROMPT_COMMAND='echo -ne \"\\033]0;${USER}@${HOSTNAME}: ${PWD}\\007\"'\n",
            "#    ;;\n",
            "#*)\n",
            "#    ;;\n",
            "#esac\n",
            "\n",
            "# enable bash completion in interactive shells\n",
            "#if ! shopt -oq posix; then\n",
            "#  if [ -f /usr/share/bash-completion/bash_completion ]; then\n",
            "#    . /usr/share/bash-completion/bash_completion\n",
            "#  elif [ -f /etc/bash_completion ]; then\n",
            "#    . /etc/bash_completion\n",
            "#  fi\n",
            "#fi\n",
            "\n",
            "# sudo hint\n",
            "if [ ! -e \"$HOME/.sudo_as_admin_successful\" ] && [ ! -e \"$HOME/.hushlogin\" ] ; then\n",
            "    case \" $(groups) \" in *\\ admin\\ *|*\\ sudo\\ *)\n",
            "    if [ -x /usr/bin/sudo ]; then\n",
            "\tcat <<-EOF\n",
            "\tTo run a command as administrator (user \"root\"), use \"sudo <command>\".\n",
            "\tSee \"man sudo_root\" for details.\n",
            "\t\n",
            "\tEOF\n",
            "    fi\n",
            "    esac\n",
            "fi\n",
            "\n",
            "# if the command-not-found package is installed, use it\n",
            "if [ -x /usr/lib/command-not-found -o -x /usr/share/command-not-found/command-not-found ]; then\n",
            "\tfunction command_not_found_handle {\n",
            "\t        # check because c-n-f could've been removed in the meantime\n",
            "                if [ -x /usr/lib/command-not-found ]; then\n",
            "\t\t   /usr/lib/command-not-found -- \"$1\"\n",
            "                   return $?\n",
            "                elif [ -x /usr/share/command-not-found/command-not-found ]; then\n",
            "\t\t   /usr/share/command-not-found/command-not-found -- \"$1\"\n",
            "                   return $?\n",
            "\t\telse\n",
            "\t\t   printf \"%s: command not found\\n\" \"$1\" >&2\n",
            "\t\t   return 127\n",
            "\t\tfi\n",
            "\t}\n",
            "fi\n"
          ]
        }
      ],
      "execution_count": 17,
      "metadata": {
        "trusted": true
      }
    }
  ],
  "metadata": {
    "kernelspec": {
      "name": "pyspark3kernel",
      "display_name": "PySpark3",
      "language": ""
    },
    "language_info": {
      "name": "pyspark3",
      "mimetype": "text/x-python",
      "codemirror_mode": {
        "name": "python",
        "version": 3
      },
      "pygments_lexer": "python3"
    },
    "nteract": {
      "version": "0.15.0"
    }
  },
  "nbformat": 4,
  "nbformat_minor": 2
}