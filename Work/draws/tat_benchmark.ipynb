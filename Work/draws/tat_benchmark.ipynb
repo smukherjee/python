{
  "cells": [
    {
      "cell_type": "markdown",
      "source": [
        "# Turnaround Statistics\n",
        "The notebook intends to leverage flightaware raw data and generate the turnaround statisitcs by building data engineering pipelines.\n",
        "\n",
        "## Data preparation"
      ],
      "metadata": {}
    },
    {
      "cell_type": "code",
      "source": [
        "import sys\n",
        "from pyspark.sql import functions as F\n",
        "from pyspark.sql import SparkSession, Window\n",
        "import numpy as np"
      ],
      "outputs": [
        {
          "output_type": "stream",
          "name": "stdout",
          "text": [
            "Starting Spark application\n"
          ]
        },
        {
          "output_type": "display_data",
          "data": {
            "text/plain": [
              "<IPython.core.display.HTML object>"
            ],
            "text/html": [
              "<table>\n",
              "<tr><th>ID</th><th>YARN Application ID</th><th>Kind</th><th>State</th><th>Spark UI</th><th>Driver log</th><th>Current session?</th></tr><tr><td>0</td><td>application_1574691327262_0001</td><td>pyspark3</td><td>idle</td><td><a target=\"_blank\" href=\"http://ip-10-176-35-166.ec2.internal:20888/proxy/application_1574691327262_0001/\">Link</a></td><td><a target=\"_blank\" href=\"http://ip-10-176-35-166.ec2.internal:8042/node/containerlogs/container_1574691327262_0001_01_000001/livy\">Link</a></td><td>✔</td></tr></table>"
            ]
          },
          "metadata": {}
        },
        {
          "output_type": "stream",
          "name": "stdout",
          "text": [
            "SparkSession available as 'spark'.\n"
          ]
        }
      ],
      "execution_count": 1,
      "metadata": {
        "ExecuteTime": {
          "start_time": "2019-11-25T16:53:32.271938Z",
          "end_time": "2019-11-25T16:53:53.248849Z"
        },
        "trusted": true
      }
    },
    {
      "cell_type": "code",
      "source": [
        "# Load FA data from der_turnaround and create TempView\n",
        "spark = SparkSession.builder.getOrCreate()\n",
        "df = spark.read.load(\"s3://sita-coe-ds-dev-v1/mart/der_turnaround\")\n",
        "df.createOrReplaceTempView(\"der_ta\")\n",
        "df.show(10)"
      ],
      "outputs": [
        {
          "output_type": "stream",
          "name": "stdout",
          "text": [
            "+--------------------+------------+----+--------+----+-------------------+-------------------+----+----------------+--------------------+-------------------+----+------+-------+---------+----------+--------------------+-------------------+-------+-----+-----+------+----------+----------+--------------------+-------------------+------------------+------------------+-------+---------------------+-----------------------+--------------------+---------+---------+-------------------+-------------------+-------------------+------------+--------------------+-------+-------+-------+-----------------+-----------------+---------+--------------------+-------------------+-------+-------------+------------+--------+--------------------+-----------------------+----------------------+----------------------+----------------------+--------+-------+----------------+----------------+--------+-------+-------+-------+-------------------+----------------------+---------------------+---------------------+---------------------+----------------+-------+------------+--------+-------+-------+-------+-----------------+-----------------+-------+------+---------+---------+-------+-------+--------+--------+-------+---------+---------+----------+--------------+--------+--------------------+-----------------------+----------------------+----------------------+----------------------+-----------------------+---------------------------+-------------+------------+-----------------+--------+--------------------------+----------------+-----------------+-----------------+---------+--------+--------+------------------------------+----------------+--------+--------------------+-----------------------+----------------------+----------------------+----------------------+---------+--------+-----------------+-----------------+---------+--------+--------+--------+--------------------+-----------------------+----------------------+----------------------+----------------------+-------------------+----------------+------------+--------+-------+-------+-------+-----------------+-----------------+---------+--------+-------------------+-------+-------------+------------+---------+--------------------+-----------------------+----------------------+----------------------+----------------------+-------------------------+-----------------------------+--------------+----------------------------+-----------------+--------------------------------+-----------------+------------------+\n",
            "|                  id|aircrafttype| alt|atcident|dest|                edt|                eta| ete|   facility_hash|       facility_name|                fdt|  gs| hexid|  ident|      lat|       lon|                orig|               pitr|    reg|route|speed|status|trueCancel|      type|    _input_file_name|_record_ingest_date|record_ingest_hour|record_ingest_time| reg_fp|record_ingest_date_fp|record_ingest_date_next|             id_next|orig_next|dest_next|           edt_next|           eta_next|            aat_arr|atcident_arr|            dest_arr|edt_arr|eta_arr|ete_arr|facility_hash_arr|facility_name_arr|ident_arr|            orig_arr|           pitr_arr|reg_arr|synthetic_arr|timeType_arr|type_arr|_input_file_name_arr|_record_ingest_date_arr|record_ingest_hour_arr|record_ingest_time_arr|record_ingest_date_arr|clock_on|dest_on|facility_hash_on|facility_name_on|ident_on|orig_on|pitr_on|type_on|_input_file_name_on|_record_ingest_date_on|record_ingest_hour_on|record_ingest_time_on|record_ingest_date_on|aircrafttype_can|alt_can|atcident_can|dest_can|edt_can|eta_can|ete_can|facility_hash_can|facility_name_can|fdt_can|gs_can|hexid_can|ident_can|lat_can|lon_can|orig_can|pitr_can|reg_can|route_can|speed_can|status_can|trueCancel_can|type_can|_input_file_name_can|_record_ingest_date_can|record_ingest_hour_can|record_ingest_time_can|record_ingest_date_can|actual_arrival_gate_ext|actual_arrival_terminal_ext|actual_in_ext|atcident_ext|baggage_claim_ext|dest_ext|estimated_arrival_gate_ext|estimated_in_ext|facility_hash_ext|facility_name_ext|ident_ext|orig_ext|pitr_ext|scheduled_arrival_terminal_ext|scheduled_in_ext|type_ext|_input_file_name_ext|_record_ingest_date_ext|record_ingest_hour_ext|record_ingest_time_ext|record_ingest_date_ext|clock_off|dest_off|facility_hash_off|facility_name_off|ident_off|orig_off|pitr_off|type_off|_input_file_name_off|_record_ingest_date_off|record_ingest_hour_off|record_ingest_time_off|record_ingest_date_off|            adt_dep|aircrafttype_dep|atcident_dep|dest_dep|edt_dep|eta_dep|ete_dep|facility_hash_dep|facility_name_dep|ident_dep|orig_dep|           pitr_dep|reg_dep|synthetic_dep|timeType_dep| type_dep|_input_file_name_dep|_record_ingest_date_dep|record_ingest_hour_dep|record_ingest_time_dep|record_ingest_date_dep|actual_departure_gate_ext|actual_departure_terminal_ext|actual_out_ext|estimated_departure_gate_ext|estimated_out_ext|scheduled_departure_terminal_ext|scheduled_out_ext|record_ingest_date|\n",
            "+--------------------+------------+----+--------+----+-------------------+-------------------+----+----------------+--------------------+-------------------+----+------+-------+---------+----------+--------------------+-------------------+-------+-----+-----+------+----------+----------+--------------------+-------------------+------------------+------------------+-------+---------------------+-----------------------+--------------------+---------+---------+-------------------+-------------------+-------------------+------------+--------------------+-------+-------+-------+-----------------+-----------------+---------+--------------------+-------------------+-------+-------------+------------+--------+--------------------+-----------------------+----------------------+----------------------+----------------------+--------+-------+----------------+----------------+--------+-------+-------+-------+-------------------+----------------------+---------------------+---------------------+---------------------+----------------+-------+------------+--------+-------+-------+-------+-----------------+-----------------+-------+------+---------+---------+-------+-------+--------+--------+-------+---------+---------+----------+--------------+--------+--------------------+-----------------------+----------------------+----------------------+----------------------+-----------------------+---------------------------+-------------+------------+-----------------+--------+--------------------------+----------------+-----------------+-----------------+---------+--------+--------+------------------------------+----------------+--------+--------------------+-----------------------+----------------------+----------------------+----------------------+---------+--------+-----------------+-----------------+---------+--------+--------+--------+--------------------+-----------------------+----------------------+----------------------+----------------------+-------------------+----------------+------------+--------+-------+-------+-------+-----------------+-----------------+---------+--------+-------------------+-------+-------------+------------+---------+--------------------+-----------------------+----------------------+----------------------+----------------------+-------------------------+-----------------------------+--------------+----------------------------+-----------------+--------------------------------+-----------------+------------------+\n",
            "|000001-1567160498...|        null|null|    null|SBBR|2019-08-30 10:21:38|2019-08-30 12:38:50|8232| 202769E5419AED2|FlightAware Estim...|2019-08-30 10:21:38|  39|E493B5| 000001|-15.86298| -47.91726|                SBGR|2019-08-30 12:48:51| 000001| null|  202|     Z|      null|flightplan|s3://flightawarev...|2019-08-30 12:48:00|                12|             12:48| 000001|           2019-08-30|             2019-08-30|000001-1567172035...|     SBBR|     SBGR|2019-08-30 13:33:55|               null|2019-08-30 12:38:50|        null|                SBBR|   null|   null|   null| F3391B59517AE9FF|      FlightAware|   000001|                SBGR|2019-08-30 12:47:37| 000001|            1|      actual| arrival|s3://flightawarev...|    2019-08-30 12:47:00|                    12|                 12:47|            2019-08-30|    null|   null|            null|            null|    null|   null|   null|   null|               null|                  null|                 null|                 null|                 null|            null|   null|        null|    null|   null|   null|   null|             null|             null|   null|  null|     null|     null|   null|   null|    null|    null|   null|     null|     null|      null|          null|    null|                null|                   null|                  null|                  null|                  null|                   null|                       null|         null|        null|             null|    null|                      null|            null|             null|             null|     null|    null|    null|                          null|            null|    null|                null|                   null|                  null|                  null|                  null|     null|    null|             null|             null|     null|    null|    null|    null|                null|                   null|                  null|                  null|                  null|2019-08-30 13:33:55|            null|        null|    null|   null|   null|   null| D9A5D67A4FB27A3D|FlightAware ADS-B|   000001|    SBBR|2019-08-30 13:34:01| 000001|            1|        null|departure|s3://flightawarev...|    2019-08-30 13:34:00|                    13|                 13:34|            2019-08-30|                     null|                         null|          null|                        null|             null|                            null|             null|        2019-08-30|\n",
            "|000001-1567172035...|        null|null|    null|SBGR|2019-08-30 13:33:55|               null|null| 202769E5419AED2|FlightAware Estim...|2019-08-30 13:33:55|null|E493B5| 000001|     null|      null|                SBBR|2019-08-30 17:39:09| 000001| null|    0|     A|      null|flightplan|s3://flightawarev...|2019-08-30 17:39:00|                17|             17:39| 000001|           2019-08-30|             2019-08-30|000001-1567189770...|     SBGR|     SDCO|2019-08-30 18:29:30|2019-08-30 18:50:04|2019-08-30 17:29:20|        null|                SBGR|   null|   null|   null| F3391B59517AE9FF|      FlightAware|   000001|                SBBR|2019-08-30 17:39:09| 000001|            1|      actual| arrival|s3://flightawarev...|    2019-08-30 17:39:00|                    17|                 17:39|            2019-08-30|    null|   null|            null|            null|    null|   null|   null|   null|               null|                  null|                 null|                 null|                 null|            null|   null|        null|    null|   null|   null|   null|             null|             null|   null|  null|     null|     null|   null|   null|    null|    null|   null|     null|     null|      null|          null|    null|                null|                   null|                  null|                  null|                  null|                   null|                       null|         null|        null|             null|    null|                      null|            null|             null|             null|     null|    null|    null|                          null|            null|    null|                null|                   null|                  null|                  null|                  null|     null|    null|             null|             null|     null|    null|    null|    null|                null|                   null|                  null|                  null|                  null|2019-08-30 18:29:30|            null|        null|    null|   null|   null|   null| C32874B158D04792|FlightAware ADS-B|   000001|    SBGR|2019-08-30 18:29:51| 000001|            1|        null|departure|s3://flightawarev...|    2019-08-30 18:29:00|                    18|                 18:29|            2019-08-30|                     null|                         null|          null|                        null|             null|                            null|             null|        2019-08-30|\n",
            "|000001-1567189770...|        null|null|    null|SDCO|2019-08-30 18:29:30|2019-08-30 18:50:04|1234| 202769E5419AED2|FlightAware Estim...|2019-08-30 18:29:30|null|E493B5| 000001|     null|      null|                SBGR|2019-08-30 19:53:57| 000001| null|  165|     A|      null|flightplan|s3://flightawarev...|2019-08-30 19:53:00|                19|             19:53| 000001|           2019-08-30|                   null|                null|     null|     null|               null|               null|2019-08-30 18:50:04|        null|                SDCO|   null|   null|   null| F3391B59517AE9FF|      FlightAware|   000001|                SBGR|2019-08-30 19:53:57| 000001|            1|   estimated| arrival|s3://flightawarev...|    2019-08-30 19:53:00|                    19|                 19:53|            2019-08-30|    null|   null|            null|            null|    null|   null|   null|   null|               null|                  null|                 null|                 null|                 null|            null|   null|        null|    null|   null|   null|   null|             null|             null|   null|  null|     null|     null|   null|   null|    null|    null|   null|     null|     null|      null|          null|    null|                null|                   null|                  null|                  null|                  null|                   null|                       null|         null|        null|             null|    null|                      null|            null|             null|             null|     null|    null|    null|                          null|            null|    null|                null|                   null|                  null|                  null|                  null|     null|    null|             null|             null|     null|    null|    null|    null|                null|                   null|                  null|                  null|                  null|               null|            null|        null|    null|   null|   null|   null|             null|             null|     null|    null|               null|   null|         null|        null|     null|                null|                   null|                  null|                  null|                  null|                     null|                         null|          null|                        null|             null|                            null|             null|        2019-08-30|\n",
            "|010-1567200525-ad...|        null|null|    null|null|2019-08-30 21:28:45|               null|null|7BA89DE084D7A2F7|Cerro Santiago RA...|2019-08-30 21:28:45|null|  null|    010|     null|      null|L 13.42181 -89.17879|2019-08-30 21:28:46|    010| null|    0|     A|      null|flightplan|s3://flightawarev...|2019-08-30 21:28:00|                21|             21:28|    010|           2019-08-30|                   null|                null|     null|     null|               null|               null|2019-08-30 21:45:32|        null|L 13.59490 -89.86230|   null|   null|   null| F3391B59517AE9FF|      FlightAware|      010|L 13.42181 -89.17879|2019-08-30 22:49:51|    010|            1|     enroute| arrival|s3://flightawarev...|    2019-08-30 22:49:00|                    22|                 22:49|            2019-08-30|    null|   null|            null|            null|    null|   null|   null|   null|               null|                  null|                 null|                 null|                 null|            null|   null|        null|    null|   null|   null|   null|             null|             null|   null|  null|     null|     null|   null|   null|    null|    null|   null|     null|     null|      null|          null|    null|                null|                   null|                  null|                  null|                  null|                   null|                       null|         null|        null|             null|    null|                      null|            null|             null|             null|     null|    null|    null|                          null|            null|    null|                null|                   null|                  null|                  null|                  null|     null|    null|             null|             null|     null|    null|    null|    null|                null|                   null|                  null|                  null|                  null|               null|            null|        null|    null|   null|   null|   null|             null|             null|     null|    null|               null|   null|         null|        null|     null|                null|                   null|                  null|                  null|                  null|                     null|                         null|          null|                        null|             null|                            null|             null|        2019-08-30|\n",
            "|068610-1567204926...|        null|null|    null|null|2019-08-30 22:42:06|               null|null|26EC7328D55C52B6|   FlightAware ADS-B|2019-08-30 22:42:06|null|  null| 068610|     null|      null|                RKSO|2019-08-30 22:42:12| 068610| null|    0|     F|      null|flightplan|s3://flightawarev...|2019-08-30 22:42:00|                22|             22:42| 068610|           2019-08-30|                   null|                null|     null|     null|               null|               null|2019-08-31 00:23:55|        null|L 41.86290 124.10500|   null|   null|   null| F3391B59517AE9FF|      FlightAware|   068610|                RKSO|2019-08-31 01:28:26| 068610|            1|     enroute| arrival|s3://flightawarev...|    2019-08-31 01:28:00|                    01|                 01:28|            2019-08-31|    null|   null|            null|            null|    null|   null|   null|   null|               null|                  null|                 null|                 null|                 null|            null|   null|        null|    null|   null|   null|   null|             null|             null|   null|  null|     null|     null|   null|   null|    null|    null|   null|     null|     null|      null|          null|    null|                null|                   null|                  null|                  null|                  null|                   null|                       null|         null|        null|             null|    null|                      null|            null|             null|             null|     null|    null|    null|                          null|            null|    null|                null|                   null|                  null|                  null|                  null|     null|    null|             null|             null|     null|    null|    null|    null|                null|                   null|                  null|                  null|                  null|               null|            null|        null|    null|   null|   null|   null|             null|             null|     null|    null|               null|   null|         null|        null|     null|                null|                   null|                  null|                  null|                  null|                     null|                         null|          null|                        null|             null|                            null|             null|        2019-08-30|\n",
            "|10000-1567153412-...|        null|null|    null|null|2019-08-30 08:23:32|               null|null| 202769E5419AED2|FlightAware Estim...|2019-08-30 08:23:32|  97|010000|  10000| 44.72013|  10.75957| L 43.94389 12.53170|2019-08-30 09:18:51|  10000| null|    0|     A|      null|flightplan|s3://flightawarev...|2019-08-30 09:18:00|                09|             09:18|  10000|           2019-08-30|                   null|                null|     null|     null|               null|               null|2019-08-30 10:00:52|        null|  L 45.27950 9.48297|   null|   null|   null| F3391B59517AE9FF|      FlightAware|    10000| L 43.94389 12.53170|2019-08-30 11:02:03|  10000|            1|     enroute| arrival|s3://flightawarev...|    2019-08-30 11:02:00|                    11|                 11:02|            2019-08-30|    null|   null|            null|            null|    null|   null|   null|   null|               null|                  null|                 null|                 null|                 null|            null|   null|        null|    null|   null|   null|   null|             null|             null|   null|  null|     null|     null|   null|   null|    null|    null|   null|     null|     null|      null|          null|    null|                null|                   null|                  null|                  null|                  null|                   null|                       null|         null|        null|             null|    null|                      null|            null|             null|             null|     null|    null|    null|                          null|            null|    null|                null|                   null|                  null|                  null|                  null|     null|    null|             null|             null|     null|    null|    null|    null|                null|                   null|                  null|                  null|                  null|               null|            null|        null|    null|   null|   null|   null|             null|             null|     null|    null|               null|   null|         null|        null|     null|                null|                   null|                  null|                  null|                  null|                     null|                         null|          null|                        null|             null|                            null|             null|        2019-08-30|\n",
            "|1020326-156713028...|        null|null|    null|KSLE|2019-08-30 01:58:08|               null|null| 202769E5419AED2|FlightAware Estim...|2019-08-30 01:58:08|null|AE5121|1020326|     null|      null|L 44.89791 -122.5...|2019-08-30 03:01:03|1020326| null|    0|     A|      null|flightplan|s3://flightawarev...|2019-08-30 03:01:00|                03|             03:01|1020326|           2019-08-30|             2019-08-30|1020326-156713687...|     KSLE|     KSLE|2019-08-30 03:47:51|2019-08-30 05:04:35|2019-08-30 02:52:05|        null|                KSLE|   null|   null|   null| F3391B59517AE9FF|      FlightAware|  1020326|L 44.89791 -122.5...|2019-08-30 03:01:03|1020326|            1|      actual| arrival|s3://flightawarev...|    2019-08-30 03:01:00|                    03|                 03:01|            2019-08-30|    null|   null|            null|            null|    null|   null|   null|   null|               null|                  null|                 null|                 null|                 null|            null|   null|        null|    null|   null|   null|   null|             null|             null|   null|  null|     null|     null|   null|   null|    null|    null|   null|     null|     null|      null|          null|    null|                null|                   null|                  null|                  null|                  null|                   null|                       null|         null|        null|             null|    null|                      null|            null|             null|             null|     null|    null|    null|                          null|            null|    null|                null|                   null|                  null|                  null|                  null|     null|    null|             null|             null|     null|    null|    null|    null|                null|                   null|                  null|                  null|                  null|2019-08-30 03:47:51|            null|        null|    null|   null|   null|   null| 6F71A03B28C64B20|FlightAware ADS-B|  1020326|    KSLE|2019-08-30 03:47:57|1020326|            1|        null|departure|s3://flightawarev...|    2019-08-30 03:47:00|                    03|                 03:47|            2019-08-30|                     null|                         null|          null|                        null|             null|                            null|             null|        2019-08-30|\n",
            "|1020326-156713687...|        null|null|    null|KSLE|2019-08-30 03:47:51|2019-08-30 05:04:35|4604| 202769E5419AED2|FlightAware Estim...|2019-08-30 03:47:51|   4|AE5121|1020326| 44.91087|-123.00064|                KSLE|2019-08-30 05:14:21|1020326| null|    0|     Z|      null|flightplan|s3://flightawarev...|2019-08-30 05:14:00|                05|             05:14|1020326|           2019-08-30|             2019-08-30|1020326-156718572...|     KSLE|     null|2019-08-30 17:22:05|               null|2019-08-30 05:04:35|        null|                KSLE|   null|   null|   null| F3391B59517AE9FF|      FlightAware|  1020326|                KSLE|2019-08-30 05:04:52|1020326|            1|      actual| arrival|s3://flightawarev...|    2019-08-30 05:04:00|                    05|                 05:04|            2019-08-30|    null|   null|            null|            null|    null|   null|   null|   null|               null|                  null|                 null|                 null|                 null|            null|   null|        null|    null|   null|   null|   null|             null|             null|   null|  null|     null|     null|   null|   null|    null|    null|   null|     null|     null|      null|          null|    null|                null|                   null|                  null|                  null|                  null|                   null|                       null|         null|        null|             null|    null|                      null|            null|             null|             null|     null|    null|    null|                          null|            null|    null|                null|                   null|                  null|                  null|                  null|     null|    null|             null|             null|     null|    null|    null|    null|                null|                   null|                  null|                  null|                  null|2019-08-30 17:22:05|            null|        null|    null|   null|   null|   null| 403D5ED7987479E2|FlightAware ADS-B|  1020326|    KSLE|2019-08-30 17:22:10|1020326|            1|        null|departure|s3://flightawarev...|    2019-08-30 17:22:00|                    17|                 17:22|            2019-08-30|                     null|                         null|          null|                        null|             null|                            null|             null|        2019-08-30|\n",
            "|1020326-156718572...|        null|null|    null|null|2019-08-30 17:22:05|               null|null|403D5ED7987479E2|   FlightAware ADS-B|2019-08-30 17:22:05|null|  null|1020326|     null|      null|                KSLE|2019-08-30 17:22:10|1020326| null|    0|     A|      null|flightplan|s3://flightawarev...|2019-08-30 17:22:00|                17|             17:22|1020326|           2019-08-30|                   null|                null|     null|     null|               null|               null|2019-08-30 18:10:05|        null|L 43.81180 -123.6...|   null|   null|   null| F3391B59517AE9FF|      FlightAware|  1020326|                KSLE|2019-08-30 19:15:34|1020326|            1|     enroute| arrival|s3://flightawarev...|    2019-08-30 19:15:00|                    19|                 19:15|            2019-08-30|    null|   null|            null|            null|    null|   null|   null|   null|               null|                  null|                 null|                 null|                 null|            null|   null|        null|    null|   null|   null|   null|             null|             null|   null|  null|     null|     null|   null|   null|    null|    null|   null|     null|     null|      null|          null|    null|                null|                   null|                  null|                  null|                  null|                   null|                       null|         null|        null|             null|    null|                      null|            null|             null|             null|     null|    null|    null|                          null|            null|    null|                null|                   null|                  null|                  null|                  null|     null|    null|             null|             null|     null|    null|    null|    null|                null|                   null|                  null|                  null|                  null|               null|            null|        null|    null|   null|   null|   null|             null|             null|     null|    null|               null|   null|         null|        null|     null|                null|                   null|                  null|                  null|                  null|                     null|                         null|          null|                        null|             null|                            null|             null|        2019-08-30|\n",
            "|104C-1567121877-a...|        null|null|    null|null|2019-08-30 03:37:36|               null|null| 202769E5419AED2|FlightAware Estim...|2019-08-30 03:37:36|null|  null|   104C|     null|      null|L 32.11386 105.36905|2019-08-30 03:37:42| N409WR| null|    0|     A|      null|flightplan|s3://flightawarev...|2019-08-30 03:37:00|                03|             03:37| N409WR|           2019-08-30|                   null|                null|     null|     null|               null|               null|2019-08-30 03:48:54|        null|L 32.12190 105.37700|   null|   null|   null| F3391B59517AE9FF|      FlightAware|     104C|L 32.11386 105.36905|2019-08-30 05:26:43| N409WR|            1|     enroute| arrival|s3://flightawarev...|    2019-08-30 05:26:00|                    05|                 05:26|            2019-08-30|    null|   null|            null|            null|    null|   null|   null|   null|               null|                  null|                 null|                 null|                 null|            null|   null|        null|    null|   null|   null|   null|             null|             null|   null|  null|     null|     null|   null|   null|    null|    null|   null|     null|     null|      null|          null|    null|                null|                   null|                  null|                  null|                  null|                   null|                       null|         null|        null|             null|    null|                      null|            null|             null|             null|     null|    null|    null|                          null|            null|    null|                null|                   null|                  null|                  null|                  null|     null|    null|             null|             null|     null|    null|    null|    null|                null|                   null|                  null|                  null|                  null|               null|            null|        null|    null|   null|   null|   null|             null|             null|     null|    null|               null|   null|         null|        null|     null|                null|                   null|                  null|                  null|                  null|                     null|                         null|          null|                        null|             null|                            null|             null|        2019-08-30|\n",
            "+--------------------+------------+----+--------+----+-------------------+-------------------+----+----------------+--------------------+-------------------+----+------+-------+---------+----------+--------------------+-------------------+-------+-----+-----+------+----------+----------+--------------------+-------------------+------------------+------------------+-------+---------------------+-----------------------+--------------------+---------+---------+-------------------+-------------------+-------------------+------------+--------------------+-------+-------+-------+-----------------+-----------------+---------+--------------------+-------------------+-------+-------------+------------+--------+--------------------+-----------------------+----------------------+----------------------+----------------------+--------+-------+----------------+----------------+--------+-------+-------+-------+-------------------+----------------------+---------------------+---------------------+---------------------+----------------+-------+------------+--------+-------+-------+-------+-----------------+-----------------+-------+------+---------+---------+-------+-------+--------+--------+-------+---------+---------+----------+--------------+--------+--------------------+-----------------------+----------------------+----------------------+----------------------+-----------------------+---------------------------+-------------+------------+-----------------+--------+--------------------------+----------------+-----------------+-----------------+---------+--------+--------+------------------------------+----------------+--------+--------------------+-----------------------+----------------------+----------------------+----------------------+---------+--------+-----------------+-----------------+---------+--------+--------+--------+--------------------+-----------------------+----------------------+----------------------+----------------------+-------------------+----------------+------------+--------+-------+-------+-------+-----------------+-----------------+---------+--------+-------------------+-------+-------------+------------+---------+--------------------+-----------------------+----------------------+----------------------+----------------------+-------------------------+-----------------------------+--------------+----------------------------+-----------------+--------------------------------+-----------------+------------------+\n",
            "only showing top 10 rows"
          ]
        }
      ],
      "execution_count": 2,
      "metadata": {
        "ExecuteTime": {
          "start_time": "2019-11-25T16:53:55.431862Z",
          "end_time": "2019-11-25T16:54:06.776609Z"
        },
        "trusted": true
      }
    },
    {
      "cell_type": "code",
      "source": [
        "# filter der table by ident (i.e., null, helicopter, private jet etc.)\n",
        "df_ta = spark.sql(\"\"\"\n",
        "               SELECT ident, reg, aircrafttype, dest, orig, edt, eta, status, clock_on, clock_off FROM der_ta\n",
        "               WHERE ident is not null\n",
        "               AND ident != reg\n",
        "               AND ident RLIKE '[A-Z][A-Z][A-Z]'\n",
        "               \"\"\")\n",
        "df_ta = df_ta.dropDuplicates()"
      ],
      "outputs": [],
      "execution_count": 3,
      "metadata": {
        "ExecuteTime": {
          "start_time": "2019-11-25T16:54:19.535835Z",
          "end_time": "2019-11-25T16:54:20.275502Z"
        },
        "trusted": true
      }
    },
    {
      "cell_type": "code",
      "source": [
        "#df_ta = spark.sql(\"\"\"\n",
        "#               SELECT ident, reg, dest, orig, edt, eta FROM der_ta\n",
        "#               \"\"\")\n",
        "#df_ta = df_ta.dropDuplicates()"
      ],
      "outputs": [],
      "execution_count": 4,
      "metadata": {
        "ExecuteTime": {
          "start_time": "2019-11-25T16:54:22.516076Z",
          "end_time": "2019-11-25T16:54:22.538574Z"
        },
        "trusted": true
      }
    },
    {
      "cell_type": "code",
      "source": [
        "# create turnaround column\n",
        "df_ta = df_ta.withColumn('turnaround', ((F.unix_timestamp(F.col('clock_off')) - F.unix_timestamp(F.col('clock_on')))/60).cast('decimal(8,1)'))\n",
        "df_ta = df_ta.filter(\" turnaround > 0 or turnaround is null\")"
      ],
      "outputs": [],
      "execution_count": 5,
      "metadata": {
        "ExecuteTime": {
          "start_time": "2019-11-25T16:54:25.237392Z",
          "end_time": "2019-11-25T16:54:25.980822Z"
        },
        "trusted": true
      }
    },
    {
      "cell_type": "code",
      "source": [
        "# outliner removal based on quantile statistics\n",
        "df_out_stats = df_ta.groupBy('dest').agg(F.expr('percentile_approx(turnaround, 0.1)').alias('quantile10_ta_perairport'),\n",
        "                                         F.expr('percentile_approx(turnaround, 0.9)').alias('quantile90_ta_perairport'))\n",
        "df_ta = df_ta.join(df_out_stats, ['dest'], 'left')\n",
        "df_ta = df_ta.filter(\" ((turnaround >= quantile10_ta_perairport) and (turnaround <= quantile90_ta_perairport)) or turnaround is null\")\n",
        "df_ta = df_ta.drop('quantile10_ta_perairport', 'quantile90_ta_perairport')"
      ],
      "outputs": [],
      "execution_count": 6,
      "metadata": {
        "ExecuteTime": {
          "start_time": "2019-11-25T16:54:37.551419Z",
          "end_time": "2019-11-25T16:54:37.782047Z"
        },
        "trusted": true
      }
    },
    {
      "cell_type": "code",
      "source": [
        "# outliner removal based on TAT thresholds\n",
        "#df_ta = df_ta.filter(\" (turnaround > 10 and turnaround < 360) or turnaround is null\")\n",
        "#df_ta.count()"
      ],
      "outputs": [],
      "execution_count": 7,
      "metadata": {
        "ExecuteTime": {
          "start_time": "2019-11-25T16:54:41.985645Z",
          "end_time": "2019-11-25T16:54:42.008884Z"
        },
        "trusted": true
      }
    },
    {
      "cell_type": "code",
      "source": [
        "# create turnaround time column (i.e., Month-th of year)\n",
        "df_ta = df_ta.withColumn('ta_month', F.month(F.date_trunc('mon', df_ta.clock_on)))"
      ],
      "outputs": [],
      "execution_count": 8,
      "metadata": {
        "ExecuteTime": {
          "start_time": "2019-11-25T16:55:06.716109Z",
          "end_time": "2019-11-25T16:55:06.942659Z"
        },
        "trusted": true
      }
    },
    {
      "cell_type": "code",
      "source": [
        "# prepare airport code schema\n",
        "df_airport = spark.read.format(\"csv\").option(\"header\", \"true\").option(\"delimiter\", \",\").option(\"encoding\", \"utf-8\").load(\"s3://sita-coe-ds-dev-v1/jupyter/jovyan/airports_openflight.csv\")\n",
        "df_airport = df_airport.dropna(how = 'any',  subset = ['icao'])\n",
        "df_airport = df_airport.dropDuplicates(subset = ['icao'])"
      ],
      "outputs": [],
      "execution_count": 9,
      "metadata": {
        "ExecuteTime": {
          "start_time": "2019-11-25T16:55:13.018470Z",
          "end_time": "2019-11-25T16:55:13.754021Z"
        },
        "trusted": true
      }
    },
    {
      "cell_type": "code",
      "source": [
        "# prepare airline code schema\n",
        "df_airline = spark.read.format(\"csv\").option(\"header\", \"true\").option(\"delimiter\", \",\").option(\"encoding\", \"utf-8\").load(\"s3://sita-coe-ds-dev-v1/jupyter/jovyan/airlines_openflight.csv\")\n",
        "df_airline = df_airline.dropna(how = 'any',  subset = ['icao'])\n",
        "df_airline = df_airline.dropDuplicates(subset = ['icao'])"
      ],
      "outputs": [],
      "execution_count": 10,
      "metadata": {
        "ExecuteTime": {
          "start_time": "2019-11-25T16:55:14.636939Z",
          "end_time": "2019-11-25T16:55:15.379166Z"
        },
        "trusted": true
      }
    },
    {
      "cell_type": "code",
      "source": [
        "# prepare aircraft type schema\n",
        "df_aircraft = spark.read.format(\"csv\").option(\"header\", \"true\").option(\"delimiter\", \",\").option(\"encoding\", \"utf-8\").load(\"s3://sita-coe-ds-dev-v1/jupyter/jovyan/aircrafts_openflight.csv\")\n",
        "df_aircraft = df_aircraft.dropna(how = 'any',  subset = ['icao'])\n",
        "df_aircraft = df_aircraft.dropDuplicates(subset = ['icao'])"
      ],
      "outputs": [],
      "execution_count": 11,
      "metadata": {
        "ExecuteTime": {
          "start_time": "2019-11-25T16:55:16.045280Z",
          "end_time": "2019-11-25T16:55:17.287941Z"
        },
        "trusted": true
      }
    },
    {
      "cell_type": "code",
      "source": [
        "# prepare aircraft category schema\n",
        "df_category = spark.read.format(\"csv\").option(\"header\", \"true\").option(\"delimiter\", \",\").option(\"encoding\", \"utf-8\").load(\"s3://sita-coe-ds-dev-v1/jupyter/jovyan/aircrafttype_flightpredictor.csv\")\n",
        "df_category = df_category.dropna(how = 'any',  subset = ['icao'])\n",
        "df_category = df_category.dropDuplicates(subset = ['icao'])"
      ],
      "outputs": [],
      "execution_count": 12,
      "metadata": {
        "ExecuteTime": {
          "start_time": "2019-11-25T16:55:17.923420Z",
          "end_time": "2019-11-25T16:55:18.661745Z"
        },
        "trusted": true
      }
    },
    {
      "cell_type": "markdown",
      "source": [
        "## Data engineering (normalized turnaround table)"
      ],
      "metadata": {}
    },
    {
      "cell_type": "code",
      "source": [
        "# derive and filter airline code \n",
        "df_ta = df_ta.withColumn(\"airline_code\", df_ta.ident.substr(0,3))\n",
        "df_ta = df_ta.filter(\" dest RLIKE '[A-Z][A-Z][A-Z][A-Z]' \")"
      ],
      "outputs": [],
      "execution_count": 13,
      "metadata": {
        "ExecuteTime": {
          "start_time": "2019-11-25T16:55:23.164912Z",
          "end_time": "2019-11-25T16:55:23.394735Z"
        },
        "trusted": true
      }
    },
    {
      "cell_type": "code",
      "source": [
        "# create count of turnaournd categories, i.e, [0-30],[30-60],[60-90],[90-120],[120+]\n",
        "df_ta = df_ta.withColumn('ta_00_30', F.when(F.col('turnaround') <= 30, F.lit(1)).otherwise(F.lit(0)))\n",
        "df_ta = df_ta.withColumn('ta_30_60', F.when((F.col('turnaround') <= 60) & (F.col('turnaround') > 30), F.lit(1)).otherwise(F.lit(0)))\n",
        "df_ta = df_ta.withColumn('ta_60_90', F.when((F.col('turnaround') <= 90) & (F.col('turnaround') > 60), F.lit(1)).otherwise(F.lit(0)))\n",
        "df_ta = df_ta.withColumn('ta_90_120', F.when((F.col('turnaround') <= 120) & (F.col('turnaround') > 90), F.lit(1)).otherwise(F.lit(0)))\n",
        "df_ta = df_ta.withColumn('ta_120', F.when(F.col('turnaround') > 120, F.lit(1)).otherwise(F.lit(0)))"
      ],
      "outputs": [],
      "execution_count": 14,
      "metadata": {
        "ExecuteTime": {
          "start_time": "2019-11-25T16:55:27.750107Z",
          "end_time": "2019-11-25T16:55:28.485205Z"
        },
        "trusted": true
      }
    },
    {
      "cell_type": "code",
      "source": [
        "# create benchmark table\n",
        "df_bm_perairport = df_ta.groupBy('dest').agg(F.avg(F.col(\"turnaround\")).alias('avg_ta_perairport'), \n",
        "                                          F.expr('percentile_approx(turnaround, 0.25)').alias('benchmark25_ta_perairport'),\n",
        "                                          F.expr('percentile_approx(turnaround, 0.5)').alias('benchmark50_ta_perairport'),\n",
        "                                          F.expr('percentile_approx(turnaround, 0.9)').alias('benchmark90_ta_perairport'))"
      ],
      "outputs": [],
      "execution_count": 15,
      "metadata": {
        "ExecuteTime": {
          "start_time": "2019-11-25T16:55:29.296130Z",
          "end_time": "2019-11-25T16:55:29.524857Z"
        },
        "trusted": true
      }
    },
    {
      "cell_type": "code",
      "source": [
        "# derive the turnaround status (less, on, or more than average turnaround per airport)\n",
        "df_bm_der = df_ta.join(df_bm_perairport, ['dest'], 'left').drop('avg_ta_perairport')\n",
        "df_bm_der = df_bm_der.withColumn('ta_below', F.when(F.col('turnaround') < 0.9*F.col('benchmark50_ta_perairport'), F.lit(1)).otherwise(F.lit(0)))\n",
        "df_bm_der = df_bm_der.withColumn('ta_on', F.when((F.col('turnaround') < 1.1*F.col('benchmark50_ta_perairport')) & (F.col('turnaround') >= 0.9*F.col('benchmark50_ta_perairport')), F.lit(1)).otherwise(F.lit(0)))\n",
        "df_bm_der = df_bm_der.withColumn('ta_above', F.when(F.col('turnaround') >= 1.1*F.col('benchmark50_ta_perairport'), F.lit(1)).otherwise(F.lit(0)))\n",
        "df_bm_der = df_bm_der.drop('benchmark25_ta_perairport', 'bechmark50_ta_perairport', 'benchmark90_ta_perairport')"
      ],
      "outputs": [],
      "execution_count": 16,
      "metadata": {
        "ExecuteTime": {
          "start_time": "2019-11-25T16:55:30.800010Z",
          "end_time": "2019-11-25T16:55:31.027788Z"
        },
        "trusted": true
      }
    },
    {
      "cell_type": "code",
      "source": [
        "# join airlines by airline code\n",
        "df_mg = df_bm_der.join(df_airline, df_bm_der.airline_code == df_airline.icao, 'left').drop('alias', 'iata', 'icao', 'callsign')\n",
        "df_mg = df_mg.withColumnRenamed('country', 'airline_country').withColumnRenamed('active', 'airline_active')"
      ],
      "outputs": [],
      "execution_count": 17,
      "metadata": {
        "ExecuteTime": {
          "start_time": "2019-11-25T16:55:32.266002Z",
          "end_time": "2019-11-25T16:55:32.496123Z"
        },
        "trusted": true
      }
    },
    {
      "cell_type": "code",
      "source": [
        "# join airport by airport code\n",
        "df_mg = df_mg.join(df_airport, df_mg.dest == df_airport.icao, 'left').drop('iata', 'icao', 'type', 'source')\n",
        "df_mg = df_mg.withColumnRenamed('airport', 'dest_airport').withColumnRenamed('city', 'dest_city').withColumnRenamed('country', 'dest_country').withColumnRenamed('latitude', 'dest_lat').withColumnRenamed('longitude', 'dest_lon').withColumnRenamed('altitude', 'dest_alt').withColumnRenamed('dst', 'dest_dst').withColumnRenamed('tz_database', 'dest_tz')"
      ],
      "outputs": [],
      "execution_count": 18,
      "metadata": {
        "ExecuteTime": {
          "start_time": "2019-11-25T16:55:33.221354Z",
          "end_time": "2019-11-25T16:55:33.447676Z"
        },
        "trusted": true
      }
    },
    {
      "cell_type": "code",
      "source": [
        "# join aircraft by aircraft type\n",
        "df_mg = df_mg.join(df_aircraft, df_mg.aircrafttype == df_aircraft.icao, 'left').drop('iata', 'icao')"
      ],
      "outputs": [],
      "execution_count": 19,
      "metadata": {
        "ExecuteTime": {
          "start_time": "2019-11-25T16:55:34.384693Z",
          "end_time": "2019-11-25T16:55:34.612658Z"
        },
        "trusted": true
      }
    },
    {
      "cell_type": "code",
      "source": [
        "# join category by aircraft category \n",
        "df_mg = df_mg.join(df_category, df_mg.aircrafttype == df_category.icao, 'left').drop('iata', 'icao', 'longitude', 'mac', 'manufacturer', 'model', 'speed', 'wake')\n",
        "df_mg = df_mg.withColumnRenamed('category', 'aircraft_category').withColumnRenamed('length', 'aircraft_length').withColumnRenamed('height', 'aircraft_height').withColumnRenamed('wingspan', 'aircraft_winspan')"
      ],
      "outputs": [],
      "execution_count": 20,
      "metadata": {
        "ExecuteTime": {
          "start_time": "2019-11-25T16:55:35.768174Z",
          "end_time": "2019-11-25T16:55:35.994770Z"
        },
        "trusted": true
      }
    },
    {
      "cell_type": "code",
      "source": [
        "#df_mg.show(100)"
      ],
      "outputs": [],
      "execution_count": null,
      "metadata": {
        "ExecuteTime": {
          "start_time": "2019-11-14T23:47:54.705575Z",
          "end_time": "2019-11-14T23:48:26.087182Z"
        },
        "trusted": true
      }
    },
    {
      "cell_type": "markdown",
      "source": [
        "## Aggregation by airport"
      ],
      "metadata": {}
    },
    {
      "cell_type": "code",
      "source": [
        "# group by: per airport\n",
        "# agg: (1) number of (unique) airlines [num_airlines_perairport]\n",
        "#      (2) number of (unique) flights (flight numbers) [num_flightnum_perairport]\n",
        "#      (3) number of (unique) aircrafts (registration numbers) [num_reg_perairport]\n",
        "#      (4) number of (unique) aircraft types [num_aircrafttype_perairport]\n",
        "#      (5) total number of turnaround (arrival-departure pair) [num_turnaround_perairport]\n",
        "#      (6) average/mean turnaround time (mins) [avg_ta_perairport]\n",
        "#      (7) standard deviation turnaround time (mins) [std_ta_perairport]\n",
        "#      (8) min turnaround time (mins) [min_ta_perairport]\n",
        "#      (9) max turnaround time (mins) [max_ta_perairport]\n",
        "#      (10) 25 quantile turnaround time (mins) [quantile25_ta_perairport]\n",
        "#      (11) 50 quantile turnaround time (mins) [quantile50_ta_perairport]\n",
        "#      (12) 90 quantile turnaround time (mins) [quantile90_ta_perairport]\n",
        "#      (13) total number of turnaround in Jan [num_turnaround_jan_perairport]\n",
        "#      (14) total number of turnaround in Feb [num_turnaround_feb_perairport]\n",
        "#      (15) total number of turnaround in Mar [num_turnaround_mar_perairport]\n",
        "#      (16) total number of turnaround in Apr [num_turnaround_apr_perairport]\n",
        "#      (17) total number of turnaround in May [num_turnaround_may_perairport]\n",
        "#      (18) total number of turnaround in Jun [num_turnaround_jun_perairport]\n",
        "#      (19) total number of turnaround in Jul [num_turnaround_jul_perairport]\n",
        "#      (20) total number of turnaround in Aug [num_turnaround_aug_perairport]\n",
        "#      (21) total number of turnaround in Sep [num_turnaround_sep_perairport]\n",
        "#      (22) total number of turnaround in Oct [num_turnaround_oct_perairport]\n",
        "#      (23) total number of turnaround in Nov [num_turnaround_nov_perairport]\n",
        "#      (24) total number of turnaround in Dec [num_turnaround_dec_perairport]\n",
        "#      (25) total number of Type-A aircraft [num_type_a_perairport]\n",
        "#      (26) total number of Type-B aircraft [num_type_b_perairport]\n",
        "#      (27) total number of Type-C aircraft [num_type_c_perairport]\n",
        "#      (28) total number of Type-D aircraft [num_type_d_perairport]\n",
        "#      (29) total number of Type-E aircraft [num_type_e_perairport]\n",
        "#      (30) total number of Type-F aircraft [num_type_f_perairport]\n",
        "\n",
        "df_perairport = df_mg.groupBy('dest').agg(F.countDistinct(F.col('airline_code')).alias('num_airlines_perairport'),\n",
        "                                          F.countDistinct(F.col('ident')).alias('num_flightnum_perairport'),\n",
        "                                          F.countDistinct(F.col('reg')).alias('num_reg_perairport'), \n",
        "                                          F.countDistinct(F.col('aircrafttype')).alias('num_aircrafttype_perairport'), \n",
        "                                          F.count(F.when(F.col(\"turnaround\").isNotNull(), 0)).alias('num_turnaround_perairport'), \n",
        "                                          F.avg(F.col(\"turnaround\")).alias('avg_ta_perairport'), \n",
        "                                          F.stddev(F.col(\"turnaround\")).alias('std_ta_perairport'),\n",
        "                                          F.min(F.col(\"turnaround\")).alias('min_ta_perairport'), \n",
        "                                          F.max(F.col(\"turnaround\")).alias('max_ta_perairport'),\n",
        "                                          F.count(F.when((F.col(\"ta_month\") == 1) & (F.col(\"turnaround\").isNotNull()),True)).alias(\"num_turnaround_jan_perairport\"),\n",
        "                                          F.count(F.when((F.col(\"ta_month\") == 2) & (F.col(\"turnaround\").isNotNull()),True)).alias(\"num_turnaround_feb_perairport\"),\n",
        "                                          F.count(F.when((F.col(\"ta_month\") == 3) & (F.col(\"turnaround\").isNotNull()),True)).alias(\"num_turnaround_mar_perairport\"),\n",
        "                                          F.count(F.when((F.col(\"ta_month\") == 4) & (F.col(\"turnaround\").isNotNull()),True)).alias(\"num_turnaround_apr_perairport\"),\n",
        "                                          F.count(F.when((F.col(\"ta_month\") == 5) & (F.col(\"turnaround\").isNotNull()),True)).alias(\"num_turnaround_may_perairport\"),\n",
        "                                          F.count(F.when((F.col(\"ta_month\") == 6) & (F.col(\"turnaround\").isNotNull()),True)).alias(\"num_turnaround_jun_perairport\"),\n",
        "                                          F.count(F.when((F.col(\"ta_month\") == 7) & (F.col(\"turnaround\").isNotNull()),True)).alias(\"num_turnaround_jul_perairport\"),\n",
        "                                          F.count(F.when((F.col(\"ta_month\") == 8) & (F.col(\"turnaround\").isNotNull()),True)).alias(\"num_turnaround_aug_perairport\"),\n",
        "                                          F.count(F.when((F.col(\"ta_month\") == 9) & (F.col(\"turnaround\").isNotNull()),True)).alias(\"num_turnaround_sep_perairport\"),\n",
        "                                          F.count(F.when((F.col(\"ta_month\") == 10) & (F.col(\"turnaround\").isNotNull()),True)).alias(\"num_turnaround_oct_perairport\"),\n",
        "                                          F.count(F.when((F.col(\"ta_month\") == 11) & (F.col(\"turnaround\").isNotNull()),True)).alias(\"num_turnaround_nov_perairport\"),\n",
        "                                          F.count(F.when((F.col(\"ta_month\") == 12) & (F.col(\"turnaround\").isNotNull()),True)).alias(\"num_turnaround_dec_perairport\"),\n",
        "                                          F.expr('percentile_approx(turnaround, 0.25)').alias('quantile25_ta_perairport'),\n",
        "                                          F.expr('percentile_approx(turnaround, 0.5)').alias('quantile50_ta_perairport'),\n",
        "                                          F.expr('percentile_approx(turnaround, 0.9)').alias('quantile90_ta_perairport'),\n",
        "                                          F.count(F.when((F.col(\"aircraft_category\") == 0) & (F.col(\"aircraft_category\").isNotNull()),True)).alias(\"num_type_a_perairport\"),\n",
        "                                          F.count(F.when((F.col(\"aircraft_category\") == 1) & (F.col(\"aircraft_category\").isNotNull()),True)).alias(\"num_type_b_perairport\"),\n",
        "                                          F.count(F.when((F.col(\"aircraft_category\") == 2) & (F.col(\"aircraft_category\").isNotNull()),True)).alias(\"num_type_c_perairport\"),\n",
        "                                          F.count(F.when((F.col(\"aircraft_category\") == 3) & (F.col(\"aircraft_category\").isNotNull()),True)).alias(\"num_type_d_perairport\"),\n",
        "                                          F.count(F.when((F.col(\"aircraft_category\") == 4) & (F.col(\"aircraft_category\").isNotNull()),True)).alias(\"num_type_e_perairport\"),\n",
        "                                          F.count(F.when((F.col(\"aircraft_category\") == 5) & (F.col(\"aircraft_category\").isNotNull()),True)).alias(\"num_type_f_perairport\"))\n",
        "                                          \n",
        "df_perairport.show(100)"
      ],
      "outputs": [],
      "execution_count": null,
      "metadata": {
        "ExecuteTime": {
          "start_time": "2019-11-13T20:38:29.071924Z",
          "end_time": "2019-11-13T20:42:07.306828Z"
        },
        "trusted": true
      }
    },
    {
      "cell_type": "code",
      "source": [
        "# append airport info (city, country, region etc.) and re-order the record\n",
        "df_perairport = df_perairport.join(df_airport, df_perairport.dest == df_airport.icao, 'left').drop('iata', 'icao', 'type', 'source')\n",
        "df_perairport = df_perairport.withColumnRenamed('airport', 'dest_airport') \\\n",
        "                             .withColumnRenamed('city', 'dest_city') \\\n",
        "                             .withColumnRenamed('country', 'dest_country')\n",
        "df_perairport = df_perairport.withColumn('tz_database', F.split(df_perairport.tz_database, '/').getItem(0))\n",
        "df_perairport = df_perairport.replace(float('nan'), None)\n",
        "df_perairport = df_perairport.orderBy(df_perairport.num_turnaround_perairport.desc_nulls_last())\n",
        "df_perairport.show()"
      ],
      "outputs": [],
      "execution_count": null,
      "metadata": {
        "ExecuteTime": {
          "start_time": "2019-11-13T20:43:15.060215Z",
          "end_time": "2019-11-13T20:46:51.019310Z"
        },
        "trusted": true
      }
    },
    {
      "cell_type": "code",
      "source": [
        "#sample agg\n",
        "df_sample = df_mg.groupBy('dest', 'airline_code').agg(F.bround((F.sum(F.col('ta_below'))*100/(F.sum(F.col('ta_below')) + F.sum(F.col('ta_fall')) + F.sum(F.col('ta_above')))),2).alias('ta_lower_percent'),\n",
        "                                                      F.bround((F.sum(F.col('ta_fall'))*100/(F.sum(F.col('ta_below')) + F.sum(F.col('ta_fall')) + F.sum(F.col('ta_above')))),2).alias('ta_fall_percent'),\n",
        "                                                      F.bround((F.sum(F.col('ta_above'))*100/(F.sum(F.col('ta_below')) + F.sum(F.col('ta_fall')) + F.sum(F.col('ta_above')))),2).alias('ta_above_percent'))"
      ],
      "outputs": [],
      "execution_count": null,
      "metadata": {
        "ExecuteTime": {
          "start_time": "2019-11-14T23:37:46.706941Z",
          "end_time": "2019-11-14T23:37:46.931390Z"
        },
        "trusted": true
      }
    },
    {
      "cell_type": "code",
      "source": [
        "df_sample.show()"
      ],
      "outputs": [],
      "execution_count": null,
      "metadata": {
        "ExecuteTime": {
          "start_time": "2019-11-14T23:37:50.802643Z",
          "end_time": "2019-11-14T23:38:20.175711Z"
        },
        "trusted": true
      }
    },
    {
      "cell_type": "code",
      "source": [
        "# group by: per airport + per airline\n",
        "# agg: (1) number of (unique) flights (flight numbers) [num_flightnum_perairline]\n",
        "#      (2) number of (unique) aircrafts (registration numbers) [num_reg_perairline]\n",
        "#      (3) number of (unique) aircraft types [num_aircrafttype_perairline]\n",
        "#      (4) total number of turnaround (arrival-departure pair) [num_turnaround_perairline]\n",
        "#      (5) average/mean turnaround time (mins) [avg_ta_perairline]\n",
        "#      (6) standard deviation turnaround time (mins) [std_ta_perairline]\n",
        "#      (7) min turnaround time (mins) [min_ta_perairline]\n",
        "#      (8) max turnaround time (mins) [max_ta_perairline]\n",
        "#      (9) 25 quantile turnaround time (mins) [quantile25_ta_perairline]\n",
        "#      (10) 50 quantile turnaround time (mins) [quantile50_ta_perairline]\n",
        "#      (11) 90 quantile turnaround time (mins) [quantile90_ta_perairline]\n",
        "#      (12) total number of turnaround in Jan [num_turnaround_jan_perairline]\n",
        "#      (13) total number of turnaround in Feb [num_turnaround_feb_perairline]\n",
        "#      (14) total number of turnaround in Mar [num_turnaround_mar_perairline]\n",
        "#      (15) total number of turnaround in Apr [num_turnaround_apr_perairline]\n",
        "#      (16) total number of turnaround in May [num_turnaround_may_perairline]\n",
        "#      (17) total number of turnaround in Jun [num_turnaround_jun_perairline]\n",
        "#      (18) total number of turnaround in Jul [num_turnaround_jul_perairline]\n",
        "#      (19) total number of turnaround in Aug [num_turnaround_aug_perairline]\n",
        "#      (20) total number of turnaround in Sep [num_turnaround_sep_perairline]\n",
        "#      (21) total number of turnaround in Oct [num_turnaround_oct_perairline]\n",
        "#      (22) total number of turnaround in Nov [num_turnaround_nov_perairline]\n",
        "#      (23) total number of turnaround in Dec [num_turnaround_dec_perairline]\n",
        "#      (24) total number of Type-A aircraft [num_type_a_perairline]\n",
        "#      (25) total number of Type-B aircraft [num_type_b_perairline]\n",
        "#      (26) total number of Type-C aircraft [num_type_c_perairline]\n",
        "#      (27) total number of Type-D aircraft [num_type_d_perairline]\n",
        "#      (28) total number of Type-E aircraft [num_type_e_perairline]\n",
        "#      (29) total number of Type-F aircraft [num_type_f_perairline]\n",
        "\n",
        "df_perairport_perairline = df_mg.groupBy('dest', 'airline_code').agg(F.countDistinct(F.col('ident')).alias('num_flightnum_perairline'),\n",
        "                                          F.countDistinct(F.col('reg')).alias('num_reg_perairline'), \n",
        "                                          F.countDistinct(F.col('aircrafttype')).alias('num_aircrafttype_perairline'), \n",
        "                                          F.count(F.when(F.col(\"turnaround\").isNotNull(), 0)).alias('num_turnaround_perairline'), \n",
        "                                          F.avg(F.col(\"turnaround\")).alias('avg_ta_perairline'), \n",
        "                                          F.stddev(F.col(\"turnaround\")).alias('std_ta_perairline'),\n",
        "                                          F.min(F.col(\"turnaround\")).alias('min_ta_perairline'), \n",
        "                                          F.max(F.col(\"turnaround\")).alias('max_ta_perairline'),\n",
        "                                          F.expr('percentile_approx(turnaround, 0.25)').alias('quantile25_ta_perairline'),\n",
        "                                          F.expr('percentile_approx(turnaround, 0.5)').alias('quantile50_ta_perairline'),\n",
        "                                          F.expr('percentile_approx(turnaround, 0.9)').alias('quantile90_ta_perairline'),\n",
        "                                          F.bround((F.sum(F.col('ta_00_30'))*100/(F.sum(F.col('ta_00_30')) + F.sum(F.col('ta_30_60')) + F.sum(F.col('ta_60_90')) + F.sum(F.col('ta_90_120')) + F.sum(F.col('ta_120')))),2).alias('ta_range0_30'),\n",
        "                                          F.bround((F.sum(F.col('ta_30_60'))*100/(F.sum(F.col('ta_00_30')) + F.sum(F.col('ta_30_60')) + F.sum(F.col('ta_60_90')) + F.sum(F.col('ta_90_120')) + F.sum(F.col('ta_120')))),2).alias('ta_range30_60'),\n",
        "                                          F.bround((F.sum(F.col('ta_60_90'))*100/(F.sum(F.col('ta_00_30')) + F.sum(F.col('ta_30_60')) + F.sum(F.col('ta_60_90')) + F.sum(F.col('ta_90_120')) + F.sum(F.col('ta_120')))),2).alias('ta_range60_90'),\n",
        "                                          F.bround((F.sum(F.col('ta_90_120'))*100/(F.sum(F.col('ta_00_30')) + F.sum(F.col('ta_30_60')) + F.sum(F.col('ta_60_90')) + F.sum(F.col('ta_90_120')) + F.sum(F.col('ta_120')))),2).alias('ta_range90_120'),\n",
        "                                          F.bround((F.sum(F.col('ta_120'))*100/(F.sum(F.col('ta_00_30')) + F.sum(F.col('ta_30_60')) + F.sum(F.col('ta_60_90')) + F.sum(F.col('ta_90_120')) + F.sum(F.col('ta_120')))),2).alias('ta_range120'),\n",
        "                                          F.bround((F.sum(F.col('ta_below'))*100/(F.sum(F.col('ta_below')) + F.sum(F.col('ta_on')) + F.sum(F.col('ta_above')))),2).alias('ta_below_percent'),\n",
        "                                          F.bround((F.sum(F.col('ta_on'))*100/(F.sum(F.col('ta_below')) + F.sum(F.col('ta_on')) + F.sum(F.col('ta_above')))),2).alias('ta_on_percent'),\n",
        "                                          F.bround((F.sum(F.col('ta_above'))*100/(F.sum(F.col('ta_below')) + F.sum(F.col('ta_on')) + F.sum(F.col('ta_above')))),2).alias('ta_above_percent'),\n",
        "                                          F.count(F.when((F.col(\"ta_month\") == 1) & (F.col(\"turnaround\").isNotNull()),True)).alias(\"num_turnaround_jan_perairline\"),\n",
        "                                          F.count(F.when((F.col(\"ta_month\") == 2) & (F.col(\"turnaround\").isNotNull()),True)).alias(\"num_turnaround_feb_perairline\"),\n",
        "                                          F.count(F.when((F.col(\"ta_month\") == 3) & (F.col(\"turnaround\").isNotNull()),True)).alias(\"num_turnaround_mar_perairline\"),\n",
        "                                          F.count(F.when((F.col(\"ta_month\") == 4) & (F.col(\"turnaround\").isNotNull()),True)).alias(\"num_turnaround_apr_perairline\"),\n",
        "                                          F.count(F.when((F.col(\"ta_month\") == 5) & (F.col(\"turnaround\").isNotNull()),True)).alias(\"num_turnaround_may_perairline\"),\n",
        "                                          F.count(F.when((F.col(\"ta_month\") == 6) & (F.col(\"turnaround\").isNotNull()),True)).alias(\"num_turnaround_jun_perairline\"),\n",
        "                                          F.count(F.when((F.col(\"ta_month\") == 7) & (F.col(\"turnaround\").isNotNull()),True)).alias(\"num_turnaround_jul_perairline\"),\n",
        "                                          F.count(F.when((F.col(\"ta_month\") == 8) & (F.col(\"turnaround\").isNotNull()),True)).alias(\"num_turnaround_aug_perairline\"),\n",
        "                                          F.count(F.when((F.col(\"ta_month\") == 9) & (F.col(\"turnaround\").isNotNull()),True)).alias(\"num_turnaround_sep_perairline\"),\n",
        "                                          F.count(F.when((F.col(\"ta_month\") == 10) & (F.col(\"turnaround\").isNotNull()),True)).alias(\"num_turnaround_oct_perairline\"),\n",
        "                                          F.count(F.when((F.col(\"ta_month\") == 11) & (F.col(\"turnaround\").isNotNull()),True)).alias(\"num_turnaround_nov_perairline\"),\n",
        "                                          F.count(F.when((F.col(\"ta_month\") == 12) & (F.col(\"turnaround\").isNotNull()),True)).alias(\"num_turnaround_dec_perairline\"),\n",
        "                                          F.count(F.when((F.col(\"aircraft_category\") == 0) & (F.col(\"aircraft_category\").isNotNull()),True)).alias(\"num_type_a_perairline\"),\n",
        "                                          F.count(F.when((F.col(\"aircraft_category\") == 1) & (F.col(\"aircraft_category\").isNotNull()),True)).alias(\"num_type_b_perairline\"),\n",
        "                                          F.count(F.when((F.col(\"aircraft_category\") == 2) & (F.col(\"aircraft_category\").isNotNull()),True)).alias(\"num_type_c_perairline\"),\n",
        "                                          F.count(F.when((F.col(\"aircraft_category\") == 3) & (F.col(\"aircraft_category\").isNotNull()),True)).alias(\"num_type_d_perairline\"),\n",
        "                                          F.count(F.when((F.col(\"aircraft_category\") == 4) & (F.col(\"aircraft_category\").isNotNull()),True)).alias(\"num_type_e_perairline\"),\n",
        "                                          F.count(F.when((F.col(\"aircraft_category\") == 5) & (F.col(\"aircraft_category\").isNotNull()),True)).alias(\"num_type_f_perairline\"))\n",
        "                                          \n",
        "df_perairport_perairline.show(100)"
      ],
      "outputs": [],
      "execution_count": null,
      "metadata": {
        "ExecuteTime": {
          "start_time": "2019-11-17T03:51:18.247711Z",
          "end_time": "2019-11-17T03:53:12.101293Z"
        },
        "trusted": true
      }
    },
    {
      "cell_type": "code",
      "source": [
        "# append airport info (city, country, region etc.) and re-order the record\n",
        "df_perairport_perairline = df_perairport_perairline.join(df_airport, df_perairport_perairline.dest == df_airport.icao, 'left').drop('iata', 'icao', 'type', 'source')\n",
        "df_perairport_perairline = df_perairport_perairline.withColumnRenamed('airport', 'dest_airport') \\\n",
        "                             .withColumnRenamed('city', 'dest_city') \\\n",
        "                             .withColumnRenamed('country', 'dest_country')\n",
        "df_perairport_perairline = df_perairport_perairline.withColumn('tz_database', F.split(df_perairport_perairline.tz_database, '/').getItem(0))\n",
        "df_perairport_perairline = df_perairport_perairline.replace(float('nan'), None)\n",
        "#df_perairport_perairline = df_perairport_perairline.orderBy(df_perairport_perairline.num_turnaround_perairport.desc_nulls_last()) \n",
        "df_perairport_perairline = df_perairport_perairline.withColumn('total_ta_perairport', F.sum('num_turnaround_perairline').over(Window.partitionBy(\"dest\").orderBy('num_turnaround_perairline').rowsBetween(Window.unboundedPreceding, Window.unboundedFollowing)))\n",
        "df_perairport_perairline = df_perairport_perairline.join(df_bm_perairport, ['dest'], 'left').drop('benchmark25_ta_perairport', 'benchmark90_ta_perairport')\n",
        "df_perairport_perairline = df_perairport_perairline.drop('ta_below', 'ta_fall', 'ta_above', 'ta_00_30', 'ta_30_60','ta_60_90', 'ta_90_120', 'ta_120')\n",
        "df_perairport_perairline.show()"
      ],
      "outputs": [],
      "execution_count": null,
      "metadata": {
        "ExecuteTime": {
          "start_time": "2019-11-17T03:53:24.608467Z",
          "end_time": "2019-11-17T03:55:20.292771Z"
        },
        "trusted": true
      }
    },
    {
      "cell_type": "markdown",
      "source": [
        "## Appendix"
      ],
      "metadata": {}
    },
    {
      "cell_type": "code",
      "source": [
        "df_dest_cyul_arrival = df_ta.filter(\" (dest ==  'CYUL')\")"
      ],
      "outputs": [],
      "execution_count": null,
      "metadata": {
        "ExecuteTime": {
          "start_time": "2019-11-17T17:43:12.893037Z",
          "end_time": "2019-11-17T17:43:13.118796Z"
        },
        "trusted": true
      }
    },
    {
      "cell_type": "code",
      "source": [
        "# group by airport-airline\n",
        "df_airport_airline = df_merg.groupBy('dest').agg(F.countDistinct('airline_code').alias('airline_count'))\n",
        "#df_airport_airline = df_airport_airline.join(df_airport, df_airport_airline.dest == df_airport.icao, 'left').drop('iata', 'icao', 'type', 'source')\n",
        "#df_airport_airline = df_airport_airline.withColumnRenamed('airport', 'dest_airport').withColumnRenamed('city', 'dest_city').withColumnRenamed('country', 'dest_country')\n",
        "#df_airport_airline = df_airport_airline.withColumn('tz_database', F.split(df_airport_airline.tz_database, '/').getItem(0))\n",
        "#df_airport_airline = df_airport_airline.orderBy(F.desc('airline_count'))"
      ],
      "outputs": [],
      "execution_count": null,
      "metadata": {
        "ExecuteTime": {
          "start_time": "2019-11-17T17:26:14.889161Z",
          "end_time": "2019-11-17T17:26:14.908377Z"
        },
        "trusted": true
      }
    },
    {
      "cell_type": "code",
      "source": [
        "#df_fa2 = df_fa.withColumn(\"ident\", df_fa.ident.substr(0, 3)).groupBy(\"ident\").count().orderBy(F.desc(\"count\")).show(100)"
      ],
      "outputs": [],
      "execution_count": null,
      "metadata": {
        "ExecuteTime": {
          "start_time": "2019-10-25T23:58:56.054757Z",
          "end_time": "2019-10-26T00:01:03.676902Z"
        },
        "trusted": true
      }
    },
    {
      "cell_type": "code",
      "source": [
        "df_mg.repartition(1).write.format('csv').option('header', 'true').option(\"encoding\", \"utf-8\").save('s3://sita-coe-ds-dev-v1/stats0/')"
      ],
      "outputs": [],
      "execution_count": 21,
      "metadata": {
        "ExecuteTime": {
          "start_time": "2019-11-25T16:55:56.104962Z",
          "end_time": "2019-11-25T16:59:12.183268Z"
        },
        "trusted": true
      }
    },
    {
      "cell_type": "code",
      "source": [
        "# basic statistics\n",
        "df.agg(F.countDistinct('reg')).show()\n",
        "df.agg(F.countDistinct('dest')).show()\n",
        "df.agg(F.countDistinct('orig')).show()\n",
        "df.agg(F.countDistinct('ident')).show()\n",
        "df.agg(F.countDistinct('edt')).show()\n",
        "df.agg(F.countDistinct('eta')).show()\n",
        "df.agg(F.countDistinct('status')).show()\n",
        "#df_ap.agg(F.countDistinct('dest')).show()\n",
        "df_perairport_perairline = df_perairport_perairline.orderBy(F.desc('total_ta_pergroup'), 'dest').drop('total_ta_pergroup')\n",
        "df_perairport_perairline.show(100)\n",
        "# df_perairport_perairline = df_perairport_perairline.orderBy('dest', F.desc('total_ta_pergroup'))"
      ],
      "outputs": [],
      "execution_count": null,
      "metadata": {
        "ExecuteTime": {
          "start_time": "2019-10-30T19:24:09.523179Z",
          "end_time": "2019-10-30T19:24:09.540119Z"
        },
        "run_control": {
          "marked": true
        },
        "trusted": true
      }
    },
    {
      "cell_type": "code",
      "source": [
        "#df_t = df_ta.filter(\"dest = 'KPDK'\").show()\n",
        "#w =  Window.partitionBy(\"dest\").orderBy(F.desc(\"num_turnaround_perairline\"))\n",
        "#df_perairport_perairline.withColumn('e', F.sum('num_turnaround_perairline').over(w)).show(100)\n",
        "#df_perairport_perairline.groupBy('dest').agg(F.sum('num_turnaround_perairline').alias('sum_ta_perairport')).orderBy(F.desc('sum_ta_perairport')).show(100)"
      ],
      "outputs": [],
      "execution_count": null,
      "metadata": {
        "ExecuteTime": {
          "start_time": "2019-10-31T20:59:54.435387Z",
          "end_time": "2019-10-31T21:00:13.735366Z"
        },
        "trusted": true
      }
    }
  ],
  "metadata": {
    "kernelspec": {
      "name": "pyspark3kernel",
      "display_name": "PySpark3",
      "language": ""
    },
    "language_info": {
      "name": "pyspark3",
      "mimetype": "text/x-python",
      "codemirror_mode": {
        "name": "python",
        "version": 3
      },
      "pygments_lexer": "python3"
    },
    "varInspector": {
      "window_display": false,
      "cols": {
        "lenName": 16,
        "lenType": 16,
        "lenVar": 40
      },
      "kernels_config": {
        "python": {
          "library": "var_list.py",
          "delete_cmd_prefix": "del ",
          "delete_cmd_postfix": "",
          "varRefreshCmd": "print(var_dic_list())"
        },
        "r": {
          "library": "var_list.r",
          "delete_cmd_prefix": "rm(",
          "delete_cmd_postfix": ") ",
          "varRefreshCmd": "cat(var_dic_list()) "
        }
      },
      "types_to_exclude": [
        "module",
        "function",
        "builtin_function_or_method",
        "instance",
        "_Feature"
      ]
    },
    "nteract": {
      "version": "0.15.0"
    }
  },
  "nbformat": 4,
  "nbformat_minor": 2
}