{
  "cells": [
    {
      "cell_type": "code",
      "source": [
        "!pip install ssl\n"
      ],
      "outputs": [
        {
          "output_type": "stream",
          "name": "stdout",
          "text": [
            "Collecting ssl\n",
            "  Using cached https://files.pythonhosted.org/packages/83/21/f469c9923235f8c36d5fd5334ed11e2681abad7e0032c5aba964dcaf9bbb/ssl-1.16.tar.gz\n"
          ]
        },
        {
          "output_type": "stream",
          "name": "stderr",
          "text": [
            "    ERROR: Command errored out with exit status 1:\n",
            "     command: 'C:\\ProgramData\\Anaconda3\\python.exe' -c 'import sys, setuptools, tokenize; sys.argv[0] = '\"'\"'C:\\\\Users\\\\SUJOY~1.MUK\\\\AppData\\\\Local\\\\Temp\\\\pip-install-uewmqpqj\\\\ssl\\\\setup.py'\"'\"'; __file__='\"'\"'C:\\\\Users\\\\SUJOY~1.MUK\\\\AppData\\\\Local\\\\Temp\\\\pip-install-uewmqpqj\\\\ssl\\\\setup.py'\"'\"';f=getattr(tokenize, '\"'\"'open'\"'\"', open)(__file__);code=f.read().replace('\"'\"'\\r\\n'\"'\"', '\"'\"'\\n'\"'\"');f.close();exec(compile(code, __file__, '\"'\"'exec'\"'\"'))' egg_info --egg-base pip-egg-info\n",
            "         cwd: C:\\Users\\SUJOY~1.MUK\\AppData\\Local\\Temp\\pip-install-uewmqpqj\\ssl\\\n",
            "    Complete output (6 lines):\n",
            "    Traceback (most recent call last):\n",
            "      File \"<string>\", line 1, in <module>\n",
            "      File \"C:\\Users\\SUJOY~1.MUK\\AppData\\Local\\Temp\\pip-install-uewmqpqj\\ssl\\setup.py\", line 33\n",
            "        print 'looking for', f\n",
            "                          ^\n",
            "    SyntaxError: Missing parentheses in call to 'print'. Did you mean print('looking for', f)?\n",
            "    ----------------------------------------\n",
            "ERROR: Command errored out with exit status 1: python setup.py egg_info Check the logs for full command output.\n"
          ]
        }
      ],
      "execution_count": 1,
      "metadata": {
        "collapsed": false,
        "outputHidden": false,
        "inputHidden": false
      }
    },
    {
      "cell_type": "code",
      "source": [
        "!"
      ],
      "outputs": [],
      "execution_count": null,
      "metadata": {
        "collapsed": false,
        "outputHidden": false,
        "inputHidden": false
      }
    }
  ],
  "metadata": {
    "kernel_info": {
      "name": "python3"
    },
    "language_info": {
      "name": "python",
      "version": "3.7.4",
      "mimetype": "text/x-python",
      "codemirror_mode": {
        "name": "ipython",
        "version": 3
      },
      "pygments_lexer": "ipython3",
      "nbconvert_exporter": "python",
      "file_extension": ".py"
    },
    "kernelspec": {
      "name": "python3",
      "language": "python",
      "display_name": "Python 3"
    },
    "nteract": {
      "version": "0.15.0"
    }
  },
  "nbformat": 4,
  "nbformat_minor": 0
}