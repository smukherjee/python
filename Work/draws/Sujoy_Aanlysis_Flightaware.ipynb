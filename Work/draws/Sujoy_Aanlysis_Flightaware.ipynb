{
 "cells": [
  {
   "cell_type": "code",
   "execution_count": null,
   "metadata": {
    "ExecuteTime": {
     "end_time": "2019-11-18T13:15:48.806897Z",
     "start_time": "2019-11-18T13:11:18.410140Z"
    }
   },
   "outputs": [],
   "source": [
    "fa_dep = spark.read.load('s3://sita-coe-ds-dev-v1/mart/departure')\n",
    "fa_arr = spark.read.load('s3://sita-coe-ds-dev-v1/mart/arrival')\n",
    "fa_fpl = spark.read.load('s3://sita-coe-ds-dev-v1/mart/flightplan')\n",
    "fa_pos = spark.read.load('s3://sita-coe-ds-prod-v1/mart/flightaware/position')"
   ]
  },
  {
   "cell_type": "code",
   "execution_count": null,
   "metadata": {
    "ExecuteTime": {
     "end_time": "2019-11-18T13:32:50.910965Z",
     "start_time": "2019-11-18T13:32:50.177542Z"
    }
   },
   "outputs": [],
   "source": [
    "fa_dep.registerTempTable('departure')\n",
    "fa_arr.registerTempTable('arrival')\n",
    "fa_fpl.registerTempTable('plan')\n",
    "fa_pos.registerTempTable('position')"
   ]
  },
  {
   "cell_type": "code",
   "execution_count": null,
   "metadata": {
    "ExecuteTime": {
     "end_time": "2019-11-13T19:11:06.578049Z",
     "start_time": "2019-11-13T19:11:01.312145Z"
    }
   },
   "outputs": [],
   "source": [
    "fa_dep.show(3, False)\n",
    "fa_arr.show(3, False)\n",
    "fa_fpl.show(3, False)\n",
    "fa_pos.show(3, False)"
   ]
  },
  {
   "cell_type": "code",
   "execution_count": null,
   "metadata": {
    "ExecuteTime": {
     "end_time": "2019-11-18T13:39:40.086840Z",
     "start_time": "2019-11-18T13:39:37.841850Z"
    }
   },
   "outputs": [],
   "source": [
    "spark.sql(\"Select dest,count(*) as flights from departure where record_ingest_date > '2019-08-18' group by record_ingest_date,dest order by flights desc\").show()"
   ]
  },
  {
   "cell_type": "code",
   "execution_count": null,
   "metadata": {
    "ExecuteTime": {
     "end_time": "2019-11-18T15:10:33.083355Z",
     "start_time": "2019-11-18T15:10:29.827937Z"
    }
   },
   "outputs": [],
   "source": [
    "spark.sql(\"Select dest,record_ingest_date,count(*) as flights from departure where record_ingest_date > '2019-08-18' and dest in ('KSFO','WSSS', 'KJFK', 'KLGA','OTHH','OMDB','VHHH','CYYZ','LMML','OEJN','OOMS')group by record_ingest_date,dest order by dest,record_ingest_date desc\").show(500)"
   ]
  },
  {
   "cell_type": "code",
   "execution_count": null,
   "metadata": {
    "ExecuteTime": {
     "end_time": "2019-11-18T13:47:35.221410Z",
     "start_time": "2019-11-18T13:46:33.757657Z"
    }
   },
   "outputs": [],
   "source": [
    "spire = spark.read.load('s3://sita-coe-ds-dev-v1/mart/spire/airsafe')\n",
    "spire.registerTempTable('spire')\n",
    "spire.show(1)"
   ]
  },
  {
   "cell_type": "code",
   "execution_count": null,
   "metadata": {
    "ExecuteTime": {
     "end_time": "2019-11-18T15:14:06.687231Z",
     "start_time": "2019-11-18T15:11:04.667969Z"
    }
   },
   "outputs": [],
   "source": [
    "spark.sql(\"Select destination_airport_icao,record_ingest_date,count(distinct callsign) as flights from spire where record_ingest_date > '2019-08-18' and destination_airport_icao in ('KSFO','WSSS', 'KJFK', 'KLGA','OTHH','OMDB','VHHH','CYYZ','LMML','OEJN','OOMS')group by record_ingest_date,destination_airport_icao order by destination_airport_icao,record_ingest_date desc\").show(500)"
   ]
  },
  {
   "cell_type": "code",
   "execution_count": null,
   "metadata": {
    "ExecuteTime": {
     "end_time": "2019-11-18T15:04:00.817659Z",
     "start_time": "2019-11-18T15:03:57.571631Z"
    }
   },
   "outputs": [],
   "source": [
    "spark.sql(\"select icao_address,callsign,flight_number,icao_actype from spire where record_ingest_date = '2019-08-18' and flight_number = 'UA746' order by timestamp desc\").show(10)"
   ]
  },
  {
   "cell_type": "code",
   "execution_count": null,
   "metadata": {},
   "outputs": [],
   "source": []
  },
  {
   "cell_type": "code",
   "execution_count": null,
   "metadata": {},
   "outputs": [],
   "source": []
  },
  {
   "cell_type": "code",
   "execution_count": null,
   "metadata": {},
   "outputs": [],
   "source": []
  },
  {
   "cell_type": "markdown",
   "metadata": {},
   "source": [
    "### Old Code"
   ]
  },
  {
   "cell_type": "code",
   "execution_count": null,
   "metadata": {
    "ExecuteTime": {
     "end_time": "2019-11-14T14:58:39.476953Z",
     "start_time": "2019-11-14T14:58:37.218513Z"
    }
   },
   "outputs": [],
   "source": [
    "print(\"departure\")\n",
    "spark.sql(\"select count(*) from departure where record_ingest_date = '2019-08-18' and ident = 'AAL2348'\").show()\n",
    "\n",
    "print(\"arrival\")\n",
    "spark.sql(\"select * from arrival where record_ingest_date = '2019-08-18' and dest = 'KJFK'\").show()\n",
    "\n",
    "#print(\"plan\")\n",
    "#spark.sql(\"select * from plan where record_ingest_date = '2019-08-16' order by ident desc \").show(100, False)\n",
    "\n",
    "print(\"position\")\n",
    "spark.sql(\"select count(*) from position where record_ingest_date = '2019-08-18' and ident = 'AAL2348'\").show()"
   ]
  },
  {
   "cell_type": "code",
   "execution_count": null,
   "metadata": {
    "ExecuteTime": {
     "end_time": "2019-11-14T15:14:17.727643Z",
     "start_time": "2019-11-14T15:14:08.432260Z"
    }
   },
   "outputs": [],
   "source": [
    "print(\"departure\")\n",
    "#spark.sql(\"select ident, count(*) from departure where record_ingest_date = '2019-08-18' and  orig = 'KJFK' group by ident\").show(1000)\n",
    "spark.sql(\"select count(*) from departure where record_ingest_date = '2019-08-18' and  orig = 'KJFK'\").show()\n",
    "\n",
    "print(\"arrival\")\n",
    "#spark.sql(\"select ident, count(*) from arrival where record_ingest_date = '2019-08-18' and orig = 'KJFK' group by ident\").show(1000)\n",
    "spark.sql(\"select count(*) from arrival where record_ingest_date = '2019-08-18' and  orig = 'KJFK'\").show()\n",
    "\n",
    "#print(\"plan\")\n",
    "#spark.sql(\"select * from plan where record_ingest_date = '2019-08-16' order by ident desc \").show(100, False)\n",
    "\n",
    "print(\"position\")\n",
    "spark.sql(\"select count(distinct ident) from position where record_ingest_date = '2019-08-18' and orig = 'KJFK'\").show()\n",
    "spark.sql(\"select ident, count(*) from position where record_ingest_date = '2019-08-18' and orig = 'KJFK' group by ident\").show(1000)\n"
   ]
  },
  {
   "cell_type": "code",
   "execution_count": null,
   "metadata": {
    "ExecuteTime": {
     "start_time": "2019-11-14T15:14:22.108Z"
    }
   },
   "outputs": [],
   "source": [
    "print(\"departure\")\n",
    "#spark.sql(\"select ident, count(*) from departure where record_ingest_date = '2019-08-18' and  orig = 'KJFK' group by ident\").show(1000)\n",
    "spark.sql(\"select count(*) from departure where record_ingest_date = '2019-08-18' and  orig = 'KSFO'\").show()\n",
    "\n",
    "print(\"arrival\")\n",
    "#spark.sql(\"select ident, count(*) from arrival where record_ingest_date = '2019-08-18' and orig = 'KJFK' group by ident\").show(1000)\n",
    "spark.sql(\"select count(*) from arrival where record_ingest_date = '2019-08-18' and  orig = 'KSFO'\").show()\n",
    "\n",
    "#print(\"plan\")\n",
    "#spark.sql(\"select * from plan where record_ingest_date = '2019-08-16' order by ident desc \").show(100, False)\n",
    "\n",
    "print(\"position\")\n",
    "spark.sql(\"select count(distinct ident) from position where record_ingest_date = '2019-08-18' and orig = 'KSFO'\").show()\n",
    "spark.sql(\"select ident, count(*) from position where record_ingest_date = '2019-08-18' and orig = 'KSFO' group by ident\").show(1000)\n"
   ]
  },
  {
   "cell_type": "code",
   "execution_count": null,
   "metadata": {},
   "outputs": [],
   "source": []
  }
 ],
 "metadata": {
  "kernelspec": {
   "display_name": "PySpark3",
   "language": "",
   "name": "pyspark3kernel"
  },
  "language_info": {
   "codemirror_mode": {
    "name": "python",
    "version": 3
   },
   "mimetype": "text/x-python",
   "name": "pyspark3",
   "pygments_lexer": "python3"
  },
  "varInspector": {
   "cols": {
    "lenName": 16,
    "lenType": 16,
    "lenVar": 40
   },
   "kernels_config": {
    "python": {
     "delete_cmd_postfix": "",
     "delete_cmd_prefix": "del ",
     "library": "var_list.py",
     "varRefreshCmd": "print(var_dic_list())"
    },
    "r": {
     "delete_cmd_postfix": ") ",
     "delete_cmd_prefix": "rm(",
     "library": "var_list.r",
     "varRefreshCmd": "cat(var_dic_list()) "
    }
   },
   "types_to_exclude": [
    "module",
    "function",
    "builtin_function_or_method",
    "instance",
    "_Feature"
   ],
   "window_display": false
  }
 },
 "nbformat": 4,
 "nbformat_minor": 2
}
